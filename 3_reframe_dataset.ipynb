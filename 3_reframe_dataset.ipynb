{
 "cells": [
  {
   "cell_type": "markdown",
   "metadata": {},
   "source": [
    "# Forecasting PM2.5"
   ]
  },
  {
   "cell_type": "markdown",
   "metadata": {},
   "source": [
    "## Part 1: Reframing the dataset"
   ]
  },
  {
   "cell_type": "markdown",
   "metadata": {},
   "source": [
    "### Objective \n",
    "\n",
    "Once the data has been properly cleaned, a specific pollutant can be selected to forecast using a ML model. \n",
    "\n",
    "PM2.5 will be selected given that it's the pollutant with the most complete information and also it has great relevance as a main pollutant in Tlaquepaque.\n",
    "\n",
    "Reframing the dataset involves reformating the information for supervised learning, i.e., a set of variables will be used as dependent variables (to give context) and they will each have an independent variable (result) assigned to them. For time series forecasting, it's important to also group these dependent and independent variables in windows of time. \n",
    "\n",
    "This allows the model to generalize the information of time (t-1) and use it to predict the results of time (t)."
   ]
  },
  {
   "cell_type": "markdown",
   "metadata": {},
   "source": [
    "### Forecasting PM2.5\n",
    "\n",
    "To forecast PM2.5, the features used will be:\n",
    "\n",
    "_Exogenous variables (dependent variable):_\n",
    "\n",
    "- Temperature (TMP)\n",
    "- Relative Humidity (RH)\n",
    "- Barometric Pressure (PBA)\n",
    "- Wind Speed (WS)\n",
    "- Wind Direction (WD)\n",
    "\n",
    "_Pollutant (independent variable):_\n",
    "\n",
    "- Fine Particulate Matter less than 2.5 micrometers (PM2.5)\n",
    "\n",
    "This requires a multivariate model, which in this case will be LTSM."
   ]
  },
  {
   "cell_type": "code",
   "execution_count": 2,
   "metadata": {},
   "outputs": [],
   "source": [
    "from math import sqrt\n",
    "\n",
    "import numpy as np # Numerical operations\n",
    "import pandas as pd # Dataset manipulation\n",
    "\n",
    "import seaborn as sns # Graphs\n",
    "import matplotlib.pyplot as plt\n",
    "\n",
    "from sklearn.preprocessing import MinMaxScaler # Scale data\n",
    "\n",
    "import tensorflow as tf\n",
    "from tensorflow.keras.models import Sequential\n",
    "from tensorflow.keras.layers import LSTM # Model\n",
    "from tensorflow.keras.layers import Dense, Dropout # Layer\n",
    "from tensorflow.keras.optimizers import Adam # Optimizer function\n",
    "\n",
    "from sklearn.metrics import mean_squared_error # Performance metrics\n",
    "from sklearn.metrics import r2_score\n",
    "\n",
    "import optuna # Hyperparameter optimization"
   ]
  },
  {
   "cell_type": "code",
   "execution_count": 3,
   "metadata": {},
   "outputs": [],
   "source": [
    "filename = \"semadet-aire-final\"\n",
    "filepath = f\"datasets/feature_eng/{filename}.csv\"\n",
    "\n",
    "# Read dataset\n",
    "df = pd.read_csv(filepath, parse_dates=[0], index_col=0)"
   ]
  },
  {
   "cell_type": "markdown",
   "metadata": {},
   "source": [
    "### Select pollutant to predict and exogenous variables"
   ]
  },
  {
   "cell_type": "markdown",
   "metadata": {},
   "source": [
    "PM2.5 will be the forecasted pollutant using 5 features (__Temperature (TMP), Relative Humidity (RH), Barometric Pressure (PBA), Wind Speed (WS), Wind Direction (WD)__) to help give the model context about when certain readings occur. The information on these features need to be extracted from the rest of the dataset."
   ]
  },
  {
   "cell_type": "code",
   "execution_count": 4,
   "metadata": {},
   "outputs": [],
   "source": [
    "# Dependent variables\n",
    "features = [\"pm25\", \"tmp\", \"rh\", \"ws\", \"wd\"]\n",
    "\n",
    "# Independent variable\n",
    "pollutant = \"pm25\""
   ]
  },
  {
   "cell_type": "code",
   "execution_count": 5,
   "metadata": {},
   "outputs": [],
   "source": [
    "# Create a dataframe with specified features\n",
    "def select_df_features(df:pd.DataFrame, features:list)->pd.DataFrame:\n",
    "    df_select = pd.DataFrame()\n",
    "    for feature in features:\n",
    "        df_select[feature] = df[feature]\n",
    "    return df_select"
   ]
  },
  {
   "cell_type": "code",
   "execution_count": 6,
   "metadata": {},
   "outputs": [],
   "source": [
    "# Create dataframe\n",
    "df_select = select_df_features(df, features)"
   ]
  },
  {
   "cell_type": "code",
   "execution_count": 7,
   "metadata": {},
   "outputs": [],
   "source": [
    "df.sort_index(ascending=False, inplace=True)"
   ]
  },
  {
   "cell_type": "code",
   "execution_count": 8,
   "metadata": {},
   "outputs": [
    {
     "data": {
      "text/html": [
       "<div>\n",
       "<style scoped>\n",
       "    .dataframe tbody tr th:only-of-type {\n",
       "        vertical-align: middle;\n",
       "    }\n",
       "\n",
       "    .dataframe tbody tr th {\n",
       "        vertical-align: top;\n",
       "    }\n",
       "\n",
       "    .dataframe thead th {\n",
       "        text-align: right;\n",
       "    }\n",
       "</style>\n",
       "<table border=\"1\" class=\"dataframe\">\n",
       "  <thead>\n",
       "    <tr style=\"text-align: right;\">\n",
       "      <th></th>\n",
       "      <th>pm25</th>\n",
       "      <th>tmp</th>\n",
       "      <th>rh</th>\n",
       "      <th>ws</th>\n",
       "      <th>wd</th>\n",
       "    </tr>\n",
       "    <tr>\n",
       "      <th>date</th>\n",
       "      <th></th>\n",
       "      <th></th>\n",
       "      <th></th>\n",
       "      <th></th>\n",
       "      <th></th>\n",
       "    </tr>\n",
       "  </thead>\n",
       "  <tbody>\n",
       "    <tr>\n",
       "      <th>2017-01-01</th>\n",
       "      <td>24.869231</td>\n",
       "      <td>19.475000</td>\n",
       "      <td>52.125000</td>\n",
       "      <td>2.516667</td>\n",
       "      <td>9.648721</td>\n",
       "    </tr>\n",
       "    <tr>\n",
       "      <th>2017-01-02</th>\n",
       "      <td>24.869231</td>\n",
       "      <td>19.358333</td>\n",
       "      <td>49.691667</td>\n",
       "      <td>1.291667</td>\n",
       "      <td>9.957045</td>\n",
       "    </tr>\n",
       "    <tr>\n",
       "      <th>2017-01-03</th>\n",
       "      <td>24.869231</td>\n",
       "      <td>19.970833</td>\n",
       "      <td>43.037500</td>\n",
       "      <td>1.062500</td>\n",
       "      <td>11.695896</td>\n",
       "    </tr>\n",
       "  </tbody>\n",
       "</table>\n",
       "</div>"
      ],
      "text/plain": [
       "                 pm25        tmp         rh        ws         wd\n",
       "date                                                            \n",
       "2017-01-01  24.869231  19.475000  52.125000  2.516667   9.648721\n",
       "2017-01-02  24.869231  19.358333  49.691667  1.291667   9.957045\n",
       "2017-01-03  24.869231  19.970833  43.037500  1.062500  11.695896"
      ]
     },
     "execution_count": 8,
     "metadata": {},
     "output_type": "execute_result"
    }
   ],
   "source": [
    "# Observe first three instances\n",
    "df_select.head(3)"
   ]
  },
  {
   "cell_type": "markdown",
   "metadata": {},
   "source": [
    "### Normalize data"
   ]
  },
  {
   "cell_type": "markdown",
   "metadata": {},
   "source": [
    "Once the data is separated, the data will be transformed to a common scale to improve the model's performance (scaling). \n",
    "Normalizing the data allows each feature to have values between a certain range, and depending on the activation functions the model uses, it could improve performance.\n",
    "\n",
    "In this case, the data held for each feature will be scaled to have values between 0 and 1."
   ]
  },
  {
   "cell_type": "code",
   "execution_count": 9,
   "metadata": {},
   "outputs": [],
   "source": [
    "# Create a data scaler\n",
    "data_scaler = MinMaxScaler(feature_range=(0,1))\n",
    "\n",
    "# Scale the information in each column\n",
    "data_norm = data_scaler.fit_transform(df_select.values)"
   ]
  },
  {
   "cell_type": "code",
   "execution_count": 10,
   "metadata": {},
   "outputs": [
    {
     "data": {
      "text/plain": [
       "array([[0.22140047, 0.43233533, 0.54997636, 0.43192939, 0.02718241],\n",
       "       [0.22140047, 0.42517661, 0.51689848, 0.21843369, 0.02805866],\n",
       "       [0.22140047, 0.46275987, 0.42644408, 0.17849402, 0.03300044],\n",
       "       [0.22140047, 0.50264415, 0.36096801, 0.20173165, 0.03609954],\n",
       "       [0.22140047, 0.57934468, 0.26972064, 0.40723941, 0.04108343]])"
      ]
     },
     "execution_count": 10,
     "metadata": {},
     "output_type": "execute_result"
    }
   ],
   "source": [
    "# Observe the first 5 instances\n",
    "data_norm[:5]"
   ]
  },
  {
   "cell_type": "markdown",
   "metadata": {},
   "source": [
    "### Timeseries to supervised learning"
   ]
  },
  {
   "cell_type": "markdown",
   "metadata": {},
   "source": [
    "Supervised learning involves training and evaluating a model with information that is already has the correct result specified.\n",
    "\n",
    "For the existing dataset, the dataset needs to be separated in instances of the five dependent features labeled with the correct result, which is the PM2.5 reading for a given day. This is already done.\n",
    "\n",
    "Since this is also a time series forecasting problem, the data needs to be further split into windows of time. This means creating two overlapping groups of n and m instances, where:\n",
    "\n",
    "- Group one has n past instances of the all variables to learn from\n",
    "- Group two has m future instances of the desired variable to forecast (PM2.5)\n",
    "\n",
    "These groups overlap because the first group has observations from [0,n],[1,n+1] and so on, the same happens for group 2.\n",
    "\n",
    "This allows the model to learn how PM2.5 will change given certain circumstances, as well as use previously learned predictions to make new ones.\n"
   ]
  },
  {
   "cell_type": "code",
   "execution_count": 11,
   "metadata": {},
   "outputs": [],
   "source": [
    "# Separate the data into two groups of windows of n instances \n",
    "def series_to_supervised(data:np.ndarray, column_names:list, \n",
    "                         n_dependent:int=1, n_pred:int=1, \n",
    "                         dropnan=True)->pd.DataFrame:\n",
    "    \n",
    "    # Obtain number of variables in data\n",
    "    n_vars = 1 if type(data) is list else data.shape[1]\n",
    "    \n",
    "    # Create a dataframe of the data\n",
    "    df = pd.DataFrame(data)\n",
    "    \n",
    "    # Save shifted columns and their names\n",
    "    cols, names = list(), list()\n",
    "    \n",
    "    # Create the input sequence (t-n, ... t-1) number of past instances\n",
    "    for i in range(n_dependent, 0, -1):\n",
    "        # Shift all data in features i positions downwards\n",
    "        cols.append(df.shift(i))\n",
    "        \n",
    "        # Save the name of the column and how many positions it was shifted\n",
    "        names += [(f\"{column_names[j]}(t-{i})\") for j in range(n_vars)]\n",
    "    \n",
    "    # Forecast sequence (t, t+1, ... t+n) number of predictions\n",
    "    for i in range(0, n_pred):\n",
    "        # Shift all features i positions upwards\n",
    "        cols.append(df.shift(-i))\n",
    "        \n",
    "        # Save the name of the colum  and the times it was shifted\n",
    "        if i == 0:\n",
    "            names += [(f\"{column_names[j]}(t)\") for j in range(n_vars)]\n",
    "        else:\n",
    "            names += [(f\"{column_names[j]}(t+{i})\") for j in range(n_vars)]\n",
    "    \n",
    "    # Join the resulting columns and give them column names\n",
    "    agg = pd.concat(cols, axis=1)\n",
    "    agg.columns = names\n",
    "    \n",
    "    # Drop rows with NaN values\n",
    "    if dropnan:\n",
    "        agg.dropna(inplace=True)\n",
    "    \n",
    "    return agg"
   ]
  },
  {
   "cell_type": "code",
   "execution_count": 12,
   "metadata": {},
   "outputs": [],
   "source": [
    "# Obtained reframed dataset\n",
    "data_reframed = series_to_supervised(data_norm, features, n_dependent=1, n_pred=1)"
   ]
  },
  {
   "cell_type": "code",
   "execution_count": 13,
   "metadata": {},
   "outputs": [
    {
     "data": {
      "text/html": [
       "<div>\n",
       "<style scoped>\n",
       "    .dataframe tbody tr th:only-of-type {\n",
       "        vertical-align: middle;\n",
       "    }\n",
       "\n",
       "    .dataframe tbody tr th {\n",
       "        vertical-align: top;\n",
       "    }\n",
       "\n",
       "    .dataframe thead th {\n",
       "        text-align: right;\n",
       "    }\n",
       "</style>\n",
       "<table border=\"1\" class=\"dataframe\">\n",
       "  <thead>\n",
       "    <tr style=\"text-align: right;\">\n",
       "      <th></th>\n",
       "      <th>pm25(t-1)</th>\n",
       "      <th>tmp(t-1)</th>\n",
       "      <th>rh(t-1)</th>\n",
       "      <th>ws(t-1)</th>\n",
       "      <th>wd(t-1)</th>\n",
       "      <th>pm25(t)</th>\n",
       "      <th>tmp(t)</th>\n",
       "      <th>rh(t)</th>\n",
       "      <th>ws(t)</th>\n",
       "      <th>wd(t)</th>\n",
       "    </tr>\n",
       "  </thead>\n",
       "  <tbody>\n",
       "    <tr>\n",
       "      <th>1</th>\n",
       "      <td>0.2214</td>\n",
       "      <td>0.432335</td>\n",
       "      <td>0.549976</td>\n",
       "      <td>0.431929</td>\n",
       "      <td>0.027182</td>\n",
       "      <td>0.2214</td>\n",
       "      <td>0.425177</td>\n",
       "      <td>0.516898</td>\n",
       "      <td>0.218434</td>\n",
       "      <td>0.028059</td>\n",
       "    </tr>\n",
       "    <tr>\n",
       "      <th>2</th>\n",
       "      <td>0.2214</td>\n",
       "      <td>0.425177</td>\n",
       "      <td>0.516898</td>\n",
       "      <td>0.218434</td>\n",
       "      <td>0.028059</td>\n",
       "      <td>0.2214</td>\n",
       "      <td>0.462760</td>\n",
       "      <td>0.426444</td>\n",
       "      <td>0.178494</td>\n",
       "      <td>0.033000</td>\n",
       "    </tr>\n",
       "    <tr>\n",
       "      <th>3</th>\n",
       "      <td>0.2214</td>\n",
       "      <td>0.462760</td>\n",
       "      <td>0.426444</td>\n",
       "      <td>0.178494</td>\n",
       "      <td>0.033000</td>\n",
       "      <td>0.2214</td>\n",
       "      <td>0.502644</td>\n",
       "      <td>0.360968</td>\n",
       "      <td>0.201732</td>\n",
       "      <td>0.036100</td>\n",
       "    </tr>\n",
       "  </tbody>\n",
       "</table>\n",
       "</div>"
      ],
      "text/plain": [
       "   pm25(t-1)  tmp(t-1)   rh(t-1)   ws(t-1)   wd(t-1)  pm25(t)    tmp(t)  \\\n",
       "1     0.2214  0.432335  0.549976  0.431929  0.027182   0.2214  0.425177   \n",
       "2     0.2214  0.425177  0.516898  0.218434  0.028059   0.2214  0.462760   \n",
       "3     0.2214  0.462760  0.426444  0.178494  0.033000   0.2214  0.502644   \n",
       "\n",
       "      rh(t)     ws(t)     wd(t)  \n",
       "1  0.516898  0.218434  0.028059  \n",
       "2  0.426444  0.178494  0.033000  \n",
       "3  0.360968  0.201732  0.036100  "
      ]
     },
     "execution_count": 13,
     "metadata": {},
     "output_type": "execute_result"
    }
   ],
   "source": [
    "data_reframed.head(3)"
   ]
  },
  {
   "cell_type": "markdown",
   "metadata": {},
   "source": [
    "The function creates the n prediction group using all variables, only the feature that is to be forecasted should be kept (PM2.5) in this group and the rest dropped."
   ]
  },
  {
   "cell_type": "code",
   "execution_count": 14,
   "metadata": {},
   "outputs": [],
   "source": [
    "# Drop columns we don't want to predict (i.e, drop all features that aren't pm25 for time t)\n",
    "data_reframed.drop(data_reframed.columns[[6,7,8,9]], axis=1, inplace=True)"
   ]
  },
  {
   "cell_type": "code",
   "execution_count": 15,
   "metadata": {},
   "outputs": [
    {
     "data": {
      "text/html": [
       "<div>\n",
       "<style scoped>\n",
       "    .dataframe tbody tr th:only-of-type {\n",
       "        vertical-align: middle;\n",
       "    }\n",
       "\n",
       "    .dataframe tbody tr th {\n",
       "        vertical-align: top;\n",
       "    }\n",
       "\n",
       "    .dataframe thead th {\n",
       "        text-align: right;\n",
       "    }\n",
       "</style>\n",
       "<table border=\"1\" class=\"dataframe\">\n",
       "  <thead>\n",
       "    <tr style=\"text-align: right;\">\n",
       "      <th></th>\n",
       "      <th>pm25(t-1)</th>\n",
       "      <th>tmp(t-1)</th>\n",
       "      <th>rh(t-1)</th>\n",
       "      <th>ws(t-1)</th>\n",
       "      <th>wd(t-1)</th>\n",
       "      <th>pm25(t)</th>\n",
       "    </tr>\n",
       "  </thead>\n",
       "  <tbody>\n",
       "    <tr>\n",
       "      <th>1</th>\n",
       "      <td>0.2214</td>\n",
       "      <td>0.432335</td>\n",
       "      <td>0.549976</td>\n",
       "      <td>0.431929</td>\n",
       "      <td>0.027182</td>\n",
       "      <td>0.2214</td>\n",
       "    </tr>\n",
       "    <tr>\n",
       "      <th>2</th>\n",
       "      <td>0.2214</td>\n",
       "      <td>0.425177</td>\n",
       "      <td>0.516898</td>\n",
       "      <td>0.218434</td>\n",
       "      <td>0.028059</td>\n",
       "      <td>0.2214</td>\n",
       "    </tr>\n",
       "    <tr>\n",
       "      <th>3</th>\n",
       "      <td>0.2214</td>\n",
       "      <td>0.462760</td>\n",
       "      <td>0.426444</td>\n",
       "      <td>0.178494</td>\n",
       "      <td>0.033000</td>\n",
       "      <td>0.2214</td>\n",
       "    </tr>\n",
       "  </tbody>\n",
       "</table>\n",
       "</div>"
      ],
      "text/plain": [
       "   pm25(t-1)  tmp(t-1)   rh(t-1)   ws(t-1)   wd(t-1)  pm25(t)\n",
       "1     0.2214  0.432335  0.549976  0.431929  0.027182   0.2214\n",
       "2     0.2214  0.425177  0.516898  0.218434  0.028059   0.2214\n",
       "3     0.2214  0.462760  0.426444  0.178494  0.033000   0.2214"
      ]
     },
     "execution_count": 15,
     "metadata": {},
     "output_type": "execute_result"
    }
   ],
   "source": [
    "# See final reframed dataset\n",
    "data_reframed.head(3)"
   ]
  },
  {
   "cell_type": "markdown",
   "metadata": {},
   "source": [
    "## Part 2: Divide dataset into training, validation and test sets"
   ]
  },
  {
   "cell_type": "markdown",
   "metadata": {},
   "source": [
    "The machine learning model needs to be trained on different sets of the data so that it doesn't become used to only one kind of data. The dataset used has 3 years worth of information and will be divided in the following way:\n",
    "\n",
    "- Training set: Year of 2023 and first nine months of 2020 (0.56%)\n",
    "- Validation set: Last three months of 2020 (0.10%)\n",
    "- Test set: Year of 2017"
   ]
  },
  {
   "cell_type": "code",
   "execution_count": 16,
   "metadata": {},
   "outputs": [],
   "source": [
    "# Divide the dataset in train, validation and test set\n",
    "def divide_series(df: pd.DataFrame, train:float=0.65, val:float=0.15):\n",
    "    data_len = len(df)\n",
    "    train_size = int(data_len * train)\n",
    "    val_size = int(data_len * val)\n",
    "    \n",
    "    train_df = pd.DataFrame()\n",
    "    val_df = pd.DataFrame()\n",
    "    test_df = pd.DataFrame()\n",
    "    \n",
    "    for feature in df.columns:\n",
    "        train_df[feature] = df[feature][:train_size]\n",
    "        val_df[feature] = df[feature][train_size:train_size + val_size]\n",
    "        test_df[feature] = df[feature][train_size + val_size:]\n",
    "    \n",
    "\n",
    "    return train_df, val_df, test_df"
   ]
  },
  {
   "cell_type": "code",
   "execution_count": 17,
   "metadata": {},
   "outputs": [],
   "source": [
    "# Obtain \n",
    "train_df, val_df, test_df = divide_series(data_reframed, train=0.56, val=0.10)"
   ]
  },
  {
   "cell_type": "code",
   "execution_count": 18,
   "metadata": {},
   "outputs": [
    {
     "name": "stdout",
     "output_type": "stream",
     "text": [
      "Train set len: 613\n",
      "Validation set len: 109\n",
      "Test set len: 373\n"
     ]
    }
   ],
   "source": [
    "print(f\"Train set len: {len(train_df)}\")\n",
    "print(f\"Validation set len: {len(val_df)}\")\n",
    "print(f\"Test set len: {len(test_df)}\")"
   ]
  },
  {
   "cell_type": "code",
   "execution_count": 19,
   "metadata": {},
   "outputs": [
    {
     "data": {
      "text/html": [
       "<div>\n",
       "<style scoped>\n",
       "    .dataframe tbody tr th:only-of-type {\n",
       "        vertical-align: middle;\n",
       "    }\n",
       "\n",
       "    .dataframe tbody tr th {\n",
       "        vertical-align: top;\n",
       "    }\n",
       "\n",
       "    .dataframe thead th {\n",
       "        text-align: right;\n",
       "    }\n",
       "</style>\n",
       "<table border=\"1\" class=\"dataframe\">\n",
       "  <thead>\n",
       "    <tr style=\"text-align: right;\">\n",
       "      <th></th>\n",
       "      <th>pm25(t-1)</th>\n",
       "      <th>tmp(t-1)</th>\n",
       "      <th>rh(t-1)</th>\n",
       "      <th>ws(t-1)</th>\n",
       "      <th>wd(t-1)</th>\n",
       "      <th>pm25(t)</th>\n",
       "    </tr>\n",
       "  </thead>\n",
       "  <tbody>\n",
       "    <tr>\n",
       "      <th>1</th>\n",
       "      <td>0.2214</td>\n",
       "      <td>0.432335</td>\n",
       "      <td>0.549976</td>\n",
       "      <td>0.431929</td>\n",
       "      <td>0.027182</td>\n",
       "      <td>0.2214</td>\n",
       "    </tr>\n",
       "    <tr>\n",
       "      <th>2</th>\n",
       "      <td>0.2214</td>\n",
       "      <td>0.425177</td>\n",
       "      <td>0.516898</td>\n",
       "      <td>0.218434</td>\n",
       "      <td>0.028059</td>\n",
       "      <td>0.2214</td>\n",
       "    </tr>\n",
       "    <tr>\n",
       "      <th>3</th>\n",
       "      <td>0.2214</td>\n",
       "      <td>0.462760</td>\n",
       "      <td>0.426444</td>\n",
       "      <td>0.178494</td>\n",
       "      <td>0.033000</td>\n",
       "      <td>0.2214</td>\n",
       "    </tr>\n",
       "  </tbody>\n",
       "</table>\n",
       "</div>"
      ],
      "text/plain": [
       "   pm25(t-1)  tmp(t-1)   rh(t-1)   ws(t-1)   wd(t-1)  pm25(t)\n",
       "1     0.2214  0.432335  0.549976  0.431929  0.027182   0.2214\n",
       "2     0.2214  0.425177  0.516898  0.218434  0.028059   0.2214\n",
       "3     0.2214  0.462760  0.426444  0.178494  0.033000   0.2214"
      ]
     },
     "execution_count": 19,
     "metadata": {},
     "output_type": "execute_result"
    }
   ],
   "source": [
    "train_df.head(3)"
   ]
  },
  {
   "cell_type": "markdown",
   "metadata": {},
   "source": [
    "### Split the data into X and y sets"
   ]
  },
  {
   "cell_type": "markdown",
   "metadata": {},
   "source": [
    "Once the data has been separated into these sets, they need to be further separated into X and y sets, which only means separating the dependent variables (not PM2.5) from the independent variables (PM2.5). Or in the time series case, windows of past n observations from m future observations."
   ]
  },
  {
   "cell_type": "code",
   "execution_count": 20,
   "metadata": {},
   "outputs": [],
   "source": [
    "# Obtain the values for each set of data\n",
    "train_values = train_df.values\n",
    "val_values = val_df.values\n",
    "test_values = test_df.values"
   ]
  },
  {
   "cell_type": "code",
   "execution_count": 21,
   "metadata": {},
   "outputs": [],
   "source": [
    "# Create the X set by using all columns except last for all instances\n",
    "# Create y set by only using the last column for all instances\n",
    "\n",
    "train_X, train_y = train_values[:,:-1], train_values[:,-1]\n",
    "val_X, val_y = val_values[:,:-1], val_values[:,-1]\n",
    "test_X, test_y = test_values[:,:-1], test_values[:,-1]"
   ]
  },
  {
   "cell_type": "markdown",
   "metadata": {},
   "source": [
    "### Reshape data for model"
   ]
  },
  {
   "cell_type": "markdown",
   "metadata": {},
   "source": [
    "The majority of M.L. models requiere the X set to be reshaped in the following format [n_instances, n_timesteps, n_features]"
   ]
  },
  {
   "cell_type": "code",
   "execution_count": 22,
   "metadata": {},
   "outputs": [
    {
     "name": "stdout",
     "output_type": "stream",
     "text": [
      "(613, 5)\n"
     ]
    }
   ],
   "source": [
    "# Shape before reshaping\n",
    "print(train_X.shape)"
   ]
  },
  {
   "cell_type": "code",
   "execution_count": 23,
   "metadata": {},
   "outputs": [],
   "source": [
    "# Reshape each set\n",
    "train_X = train_X.reshape(train_X.shape[0], 1, train_X.shape[1])\n",
    "val_X = val_X.reshape(val_X.shape[0], 1, val_X.shape[1])\n",
    "test_X = test_X.reshape(test_X.shape[0], 1, test_X.shape[1])"
   ]
  },
  {
   "cell_type": "code",
   "execution_count": 24,
   "metadata": {},
   "outputs": [
    {
     "name": "stdout",
     "output_type": "stream",
     "text": [
      "(613, 1, 5)\n"
     ]
    }
   ],
   "source": [
    "# Shape after reshaping\n",
    "print(train_X.shape)"
   ]
  },
  {
   "cell_type": "markdown",
   "metadata": {},
   "source": [
    "## Part 3: Define and fit the model "
   ]
  },
  {
   "cell_type": "markdown",
   "metadata": {},
   "source": [
    "Once the data has been properly separated, the model can be created. Choosing a model that adapts to the data is an important step that often requieres various trials and some research. After reviewing many papers about similar tasks related to pollutant forecasting and air quality predictors, the Multiple Layer Perceptron and Long Short Term Memory Models seemed to yield the better performance for this particular type of task."
   ]
  },
  {
   "cell_type": "markdown",
   "metadata": {},
   "source": [
    "### Searching for optimal hyperparameters"
   ]
  },
  {
   "cell_type": "markdown",
   "metadata": {},
   "source": [
    "Optuna is a hyperparameter tuning framework that allows the user to select various hyperparameter options for a model and evaluates the performance of each during a set amount of trials.\n",
    "\n",
    "#### Choosing hyperparameters\n",
    "\n",
    "During my research and different trials, I found that for this specific problem, the following hyperparameters were viable options:\n",
    "\n",
    "- Number of hidden layers\n",
    "    - Value: 1,2,3\n",
    "    - Opinion: I found that more layers can often be a disadvantage that can lead to poor learning, one is often best.\n",
    "\n",
    "- Learning rate:\n",
    "    - Value: 0.001, 0.1\n",
    "    - Opinion: A learning rate that is too high can cause information loss\n",
    "\n",
    "- Epochs:\n",
    "    - Value: 50, 100\n",
    "    - Opinion: Too many epochs can cause the network to overcorrect the error when propagating \n",
    "\n",
    "- Nodes per layer:\n",
    "    - Value: 5, 50, 12, 8\n",
    "    - Opinion: Less nodes is often better\n",
    "\n",
    "- Activation Function:\n",
    "    - Values: ReLu\n",
    "\n",
    "- Optimizer:\n",
    "    Value: Adam"
   ]
  },
  {
   "cell_type": "code",
   "execution_count": null,
   "metadata": {},
   "outputs": [],
   "source": [
    "class MLPOptimizer:\n",
    "  \"\"\"\n",
    "  Class for hyperparameter optimizing for PM2.5 Forecaster.\n",
    "  \"\"\"\n",
    "  def __init__(self, input_dim:int, n_trials:int):\n",
    "    self.input_dim = input_dim\n",
    "    self.n_trials = n_trials\n",
    "    self.study = None\n",
    "    self.X_train = None\n",
    "    self.y_train = None\n",
    "    self.X_val = None\n",
    "    self.y_val = None\n",
    "\n",
    "  def create_model(self, trial):\n",
    "    model = Sequential()\n",
    "\n",
    "    # Hyperparameter selection\n",
    "    neurons = trial.suggest_categorical(\"neurons\", [8, 10, 50])\n",
    "    # dropout_rate = trial.suggest_float(\"dropout\", 0.1, 0.2, log=True)\n",
    "    \n",
    "    model.add(LSTM(neurons, \n",
    "                   input_shape=(self.X_train.shape[1], self.X_train.shape[2]),\n",
    "                   activation=\"relu\"))\n",
    "\n",
    "    # Output layer\n",
    "    model.add(Dense(1))\n",
    "\n",
    "    # Compile model\n",
    "    learning_rate = 0.001\n",
    "    model.compile(optimizer=Adam(learning_rate), loss=\"mse\")\n",
    "\n",
    "    return model\n",
    "\n",
    "  def objective(self, trial):\n",
    "    model = self.create_model(trial)\n",
    "    epochs = trial.suggest_categorical(\"epochs\", [100, 50, 30])\n",
    "    batch_size = trial.suggest_categorical(\"batch_size\", [32, 10, 72])\n",
    "\n",
    "    # Train the model\n",
    "    model.fit(\n",
    "        self.X_train,\n",
    "        self.y_train,\n",
    "        epochs=epochs,\n",
    "        validation_data=(self.X_val, self.y_val),\n",
    "        verbose=0,\n",
    "        batch_size=batch_size,\n",
    "        )\n",
    "\n",
    "    # Evaluate on validation data\n",
    "    loss = model.evaluate(self.X_val, self.y_val, verbose=0)\n",
    "\n",
    "    return loss\n",
    "\n",
    "  def optimize(self, X_train:np.array, y_train:np.array, X_val, y_val:np.array):\n",
    "    self.X_train = X_train\n",
    "    self.y_train = y_train\n",
    "    self.X_val = X_val\n",
    "    self.y_val = y_val\n",
    "\n",
    "    self.study = optuna.create_study(direction=\"minimize\")\n",
    "    self.study.optimize(self.objective, n_trials = self.n_trials)\n",
    "\n",
    "    print(\"Best hyperparameters:\", self.study.best_params)\n",
    "    return self.study"
   ]
  },
  {
   "cell_type": "code",
   "execution_count": 154,
   "metadata": {},
   "outputs": [],
   "source": [
    "n_steps = 1"
   ]
  },
  {
   "cell_type": "code",
   "execution_count": 163,
   "metadata": {},
   "outputs": [
    {
     "name": "stderr",
     "output_type": "stream",
     "text": [
      "[I 2025-04-29 02:02:44,785] A new study created in memory with name: no-name-9176219a-bc5f-4a8d-bd47-691a2dd67126\n",
      "/Users/valeriagonzalez/Documents/aqi/env/lib/python3.9/site-packages/keras/src/layers/rnn/rnn.py:200: UserWarning: Do not pass an `input_shape`/`input_dim` argument to a layer. When using Sequential models, prefer using an `Input(shape)` object as the first layer in the model instead.\n",
      "  super().__init__(**kwargs)\n",
      "[I 2025-04-29 02:02:47,808] Trial 0 finished with value: 0.004808146506547928 and parameters: {'neurons': 50, 'epochs': 50, 'batch_size': 32}. Best is trial 0 with value: 0.004808146506547928.\n",
      "[I 2025-04-29 02:02:51,442] Trial 1 finished with value: 0.004458249546587467 and parameters: {'neurons': 50, 'epochs': 100, 'batch_size': 32}. Best is trial 1 with value: 0.004458249546587467.\n",
      "[I 2025-04-29 02:02:53,623] Trial 2 finished with value: 0.004450531676411629 and parameters: {'neurons': 50, 'epochs': 30, 'batch_size': 10}. Best is trial 2 with value: 0.004450531676411629.\n",
      "[I 2025-04-29 02:02:54,955] Trial 3 finished with value: 0.00749611621722579 and parameters: {'neurons': 8, 'epochs': 30, 'batch_size': 72}. Best is trial 2 with value: 0.004450531676411629.\n",
      "[I 2025-04-29 02:03:00,008] Trial 4 finished with value: 0.005119762383401394 and parameters: {'neurons': 8, 'epochs': 100, 'batch_size': 10}. Best is trial 2 with value: 0.004450531676411629.\n",
      "[I 2025-04-29 02:03:02,869] Trial 5 finished with value: 0.0045844679698348045 and parameters: {'neurons': 50, 'epochs': 50, 'batch_size': 10}. Best is trial 2 with value: 0.004450531676411629.\n",
      "[I 2025-04-29 02:03:05,988] Trial 6 finished with value: 0.005061865318566561 and parameters: {'neurons': 50, 'epochs': 100, 'batch_size': 72}. Best is trial 2 with value: 0.004450531676411629.\n",
      "[I 2025-04-29 02:03:07,391] Trial 7 finished with value: 0.004776593763381243 and parameters: {'neurons': 10, 'epochs': 30, 'batch_size': 32}. Best is trial 2 with value: 0.004450531676411629.\n",
      "[I 2025-04-29 02:03:10,969] Trial 8 finished with value: 0.004887592513114214 and parameters: {'neurons': 8, 'epochs': 100, 'batch_size': 32}. Best is trial 2 with value: 0.004450531676411629.\n",
      "[I 2025-04-29 02:03:16,299] Trial 9 finished with value: 0.004592799115926027 and parameters: {'neurons': 8, 'epochs': 100, 'batch_size': 10}. Best is trial 2 with value: 0.004450531676411629.\n",
      "[I 2025-04-29 02:03:18,260] Trial 10 finished with value: 0.004828750155866146 and parameters: {'neurons': 10, 'epochs': 30, 'batch_size': 10}. Best is trial 2 with value: 0.004450531676411629.\n",
      "[I 2025-04-29 02:03:19,785] Trial 11 finished with value: 0.004672693554311991 and parameters: {'neurons': 50, 'epochs': 30, 'batch_size': 32}. Best is trial 2 with value: 0.004450531676411629.\n",
      "[I 2025-04-29 02:03:21,865] Trial 12 finished with value: 0.004548351280391216 and parameters: {'neurons': 50, 'epochs': 30, 'batch_size': 10}. Best is trial 2 with value: 0.004450531676411629.\n",
      "[I 2025-04-29 02:03:25,740] Trial 13 finished with value: 0.004559325985610485 and parameters: {'neurons': 50, 'epochs': 100, 'batch_size': 32}. Best is trial 2 with value: 0.004450531676411629.\n",
      "[I 2025-04-29 02:03:27,611] Trial 14 finished with value: 0.0049199387431144714 and parameters: {'neurons': 50, 'epochs': 50, 'batch_size': 72}. Best is trial 2 with value: 0.004450531676411629.\n",
      "[I 2025-04-29 02:03:33,010] Trial 15 finished with value: 0.004801275674253702 and parameters: {'neurons': 50, 'epochs': 100, 'batch_size': 10}. Best is trial 2 with value: 0.004450531676411629.\n",
      "[I 2025-04-29 02:03:34,458] Trial 16 finished with value: 0.00916726142168045 and parameters: {'neurons': 10, 'epochs': 30, 'batch_size': 32}. Best is trial 2 with value: 0.004450531676411629.\n",
      "[I 2025-04-29 02:03:38,225] Trial 17 finished with value: 0.005033525172621012 and parameters: {'neurons': 50, 'epochs': 100, 'batch_size': 32}. Best is trial 2 with value: 0.004450531676411629.\n",
      "[I 2025-04-29 02:03:40,370] Trial 18 finished with value: 0.004552379250526428 and parameters: {'neurons': 50, 'epochs': 30, 'batch_size': 10}. Best is trial 2 with value: 0.004450531676411629.\n",
      "[I 2025-04-29 02:03:42,259] Trial 19 finished with value: 0.005987240467220545 and parameters: {'neurons': 10, 'epochs': 50, 'batch_size': 72}. Best is trial 2 with value: 0.004450531676411629.\n",
      "[I 2025-04-29 02:03:43,707] Trial 20 finished with value: 0.004805185366421938 and parameters: {'neurons': 50, 'epochs': 30, 'batch_size': 32}. Best is trial 2 with value: 0.004450531676411629.\n",
      "[I 2025-04-29 02:03:45,743] Trial 21 finished with value: 0.004565611947327852 and parameters: {'neurons': 50, 'epochs': 30, 'batch_size': 10}. Best is trial 2 with value: 0.004450531676411629.\n",
      "[I 2025-04-29 02:03:48,459] Trial 22 finished with value: 0.004492668434977531 and parameters: {'neurons': 50, 'epochs': 30, 'batch_size': 10}. Best is trial 2 with value: 0.004450531676411629.\n",
      "[I 2025-04-29 02:03:50,553] Trial 23 finished with value: 0.005307831801474094 and parameters: {'neurons': 50, 'epochs': 30, 'batch_size': 10}. Best is trial 2 with value: 0.004450531676411629.\n",
      "[I 2025-04-29 02:03:52,581] Trial 24 finished with value: 0.004423106089234352 and parameters: {'neurons': 50, 'epochs': 30, 'batch_size': 10}. Best is trial 24 with value: 0.004423106089234352.\n",
      "[I 2025-04-29 02:03:58,192] Trial 25 finished with value: 0.004932475741952658 and parameters: {'neurons': 50, 'epochs': 100, 'batch_size': 10}. Best is trial 24 with value: 0.004423106089234352.\n",
      "[I 2025-04-29 02:04:00,203] Trial 26 finished with value: 0.0044625671580433846 and parameters: {'neurons': 50, 'epochs': 30, 'batch_size': 10}. Best is trial 24 with value: 0.004423106089234352.\n",
      "[I 2025-04-29 02:04:02,341] Trial 27 finished with value: 0.00464337645098567 and parameters: {'neurons': 50, 'epochs': 30, 'batch_size': 10}. Best is trial 24 with value: 0.004423106089234352.\n",
      "[I 2025-04-29 02:04:04,246] Trial 28 finished with value: 0.009028936736285686 and parameters: {'neurons': 8, 'epochs': 50, 'batch_size': 72}. Best is trial 24 with value: 0.004423106089234352.\n",
      "[I 2025-04-29 02:04:07,974] Trial 29 finished with value: 0.005963528528809547 and parameters: {'neurons': 10, 'epochs': 100, 'batch_size': 32}. Best is trial 24 with value: 0.004423106089234352.\n",
      "[I 2025-04-29 02:04:10,304] Trial 30 finished with value: 0.004945286549627781 and parameters: {'neurons': 50, 'epochs': 50, 'batch_size': 32}. Best is trial 24 with value: 0.004423106089234352.\n",
      "[I 2025-04-29 02:04:12,324] Trial 31 finished with value: 0.004566065035760403 and parameters: {'neurons': 50, 'epochs': 30, 'batch_size': 10}. Best is trial 24 with value: 0.004423106089234352.\n",
      "[I 2025-04-29 02:04:14,525] Trial 32 finished with value: 0.005114608444273472 and parameters: {'neurons': 50, 'epochs': 30, 'batch_size': 10}. Best is trial 24 with value: 0.004423106089234352.\n",
      "[I 2025-04-29 02:04:16,833] Trial 33 finished with value: 0.004723475780338049 and parameters: {'neurons': 50, 'epochs': 30, 'batch_size': 10}. Best is trial 24 with value: 0.004423106089234352.\n",
      "[I 2025-04-29 02:04:18,766] Trial 34 finished with value: 0.004681924823671579 and parameters: {'neurons': 50, 'epochs': 30, 'batch_size': 10}. Best is trial 24 with value: 0.004423106089234352.\n",
      "[I 2025-04-29 02:04:20,635] Trial 35 finished with value: 0.004513578489422798 and parameters: {'neurons': 8, 'epochs': 30, 'batch_size': 10}. Best is trial 24 with value: 0.004423106089234352.\n",
      "[I 2025-04-29 02:04:23,742] Trial 36 finished with value: 0.004334351979196072 and parameters: {'neurons': 50, 'epochs': 100, 'batch_size': 72}. Best is trial 36 with value: 0.004334351979196072.\n",
      "[I 2025-04-29 02:04:27,146] Trial 37 finished with value: 0.0045646983198821545 and parameters: {'neurons': 50, 'epochs': 100, 'batch_size': 72}. Best is trial 36 with value: 0.004334351979196072.\n",
      "[I 2025-04-29 02:04:30,250] Trial 38 finished with value: 0.005517279263585806 and parameters: {'neurons': 8, 'epochs': 100, 'batch_size': 72}. Best is trial 36 with value: 0.004334351979196072.\n",
      "[I 2025-04-29 02:04:33,373] Trial 39 finished with value: 0.00457328837364912 and parameters: {'neurons': 50, 'epochs': 100, 'batch_size': 72}. Best is trial 36 with value: 0.004334351979196072.\n",
      "[I 2025-04-29 02:04:36,495] Trial 40 finished with value: 0.006434582639485598 and parameters: {'neurons': 10, 'epochs': 100, 'batch_size': 72}. Best is trial 36 with value: 0.004334351979196072.\n",
      "[I 2025-04-29 02:04:39,602] Trial 41 finished with value: 0.004584836773574352 and parameters: {'neurons': 50, 'epochs': 100, 'batch_size': 72}. Best is trial 36 with value: 0.004334351979196072.\n",
      "[I 2025-04-29 02:04:41,526] Trial 42 finished with value: 0.0046640499494969845 and parameters: {'neurons': 50, 'epochs': 30, 'batch_size': 10}. Best is trial 36 with value: 0.004334351979196072.\n",
      "[I 2025-04-29 02:04:45,133] Trial 43 finished with value: 0.004773164168000221 and parameters: {'neurons': 50, 'epochs': 100, 'batch_size': 32}. Best is trial 36 with value: 0.004334351979196072.\n",
      "[I 2025-04-29 02:04:47,103] Trial 44 finished with value: 0.005249230656772852 and parameters: {'neurons': 50, 'epochs': 30, 'batch_size': 10}. Best is trial 36 with value: 0.004334351979196072.\n",
      "[I 2025-04-29 02:04:50,013] Trial 45 finished with value: 0.004538736306130886 and parameters: {'neurons': 50, 'epochs': 50, 'batch_size': 10}. Best is trial 36 with value: 0.004334351979196072.\n",
      "[I 2025-04-29 02:04:53,502] Trial 46 finished with value: 0.005760552361607552 and parameters: {'neurons': 8, 'epochs': 100, 'batch_size': 32}. Best is trial 36 with value: 0.004334351979196072.\n",
      "[I 2025-04-29 02:04:54,818] Trial 47 finished with value: 0.004947660490870476 and parameters: {'neurons': 50, 'epochs': 30, 'batch_size': 72}. Best is trial 36 with value: 0.004334351979196072.\n",
      "[I 2025-04-29 02:05:01,931] Trial 48 finished with value: 0.004836335312575102 and parameters: {'neurons': 50, 'epochs': 100, 'batch_size': 10}. Best is trial 36 with value: 0.004334351979196072.\n",
      "[I 2025-04-29 02:05:03,451] Trial 49 finished with value: 0.005356617271900177 and parameters: {'neurons': 50, 'epochs': 30, 'batch_size': 32}. Best is trial 36 with value: 0.004334351979196072.\n",
      "[I 2025-04-29 02:05:05,414] Trial 50 finished with value: 0.005601099692285061 and parameters: {'neurons': 10, 'epochs': 30, 'batch_size': 10}. Best is trial 36 with value: 0.004334351979196072.\n",
      "[I 2025-04-29 02:05:07,390] Trial 51 finished with value: 0.004876498598605394 and parameters: {'neurons': 50, 'epochs': 30, 'batch_size': 10}. Best is trial 36 with value: 0.004334351979196072.\n",
      "[I 2025-04-29 02:05:09,350] Trial 52 finished with value: 0.004458383657038212 and parameters: {'neurons': 50, 'epochs': 30, 'batch_size': 10}. Best is trial 36 with value: 0.004334351979196072.\n",
      "[I 2025-04-29 02:05:11,284] Trial 53 finished with value: 0.004797295201569796 and parameters: {'neurons': 50, 'epochs': 30, 'batch_size': 10}. Best is trial 36 with value: 0.004334351979196072.\n",
      "[I 2025-04-29 02:05:13,222] Trial 54 finished with value: 0.004519856069236994 and parameters: {'neurons': 50, 'epochs': 30, 'batch_size': 10}. Best is trial 36 with value: 0.004334351979196072.\n",
      "[I 2025-04-29 02:05:15,229] Trial 55 finished with value: 0.004447682294994593 and parameters: {'neurons': 50, 'epochs': 30, 'batch_size': 10}. Best is trial 36 with value: 0.004334351979196072.\n",
      "[I 2025-04-29 02:05:18,859] Trial 56 finished with value: 0.005002216435968876 and parameters: {'neurons': 50, 'epochs': 100, 'batch_size': 32}. Best is trial 36 with value: 0.004334351979196072.\n",
      "[I 2025-04-29 02:05:20,662] Trial 57 finished with value: 0.004473465494811535 and parameters: {'neurons': 50, 'epochs': 50, 'batch_size': 72}. Best is trial 36 with value: 0.004334351979196072.\n",
      "[I 2025-04-29 02:05:22,600] Trial 58 finished with value: 0.004769288003444672 and parameters: {'neurons': 50, 'epochs': 30, 'batch_size': 10}. Best is trial 36 with value: 0.004334351979196072.\n",
      "[I 2025-04-29 02:05:24,541] Trial 59 finished with value: 0.004543268121778965 and parameters: {'neurons': 50, 'epochs': 30, 'batch_size': 10}. Best is trial 36 with value: 0.004334351979196072.\n",
      "[I 2025-04-29 02:05:28,082] Trial 60 finished with value: 0.0044280001893639565 and parameters: {'neurons': 8, 'epochs': 100, 'batch_size': 32}. Best is trial 36 with value: 0.004334351979196072.\n",
      "[I 2025-04-29 02:05:31,600] Trial 61 finished with value: 0.00455342186614871 and parameters: {'neurons': 8, 'epochs': 100, 'batch_size': 32}. Best is trial 36 with value: 0.004334351979196072.\n",
      "[I 2025-04-29 02:05:35,108] Trial 62 finished with value: 0.005667148157954216 and parameters: {'neurons': 8, 'epochs': 100, 'batch_size': 32}. Best is trial 36 with value: 0.004334351979196072.\n",
      "[I 2025-04-29 02:05:38,663] Trial 63 finished with value: 0.01029377430677414 and parameters: {'neurons': 8, 'epochs': 100, 'batch_size': 32}. Best is trial 36 with value: 0.004334351979196072.\n",
      "[I 2025-04-29 02:05:42,192] Trial 64 finished with value: 0.004900897853076458 and parameters: {'neurons': 8, 'epochs': 100, 'batch_size': 32}. Best is trial 36 with value: 0.004334351979196072.\n",
      "[I 2025-04-29 02:05:45,840] Trial 65 finished with value: 0.004454664885997772 and parameters: {'neurons': 10, 'epochs': 100, 'batch_size': 32}. Best is trial 36 with value: 0.004334351979196072.\n",
      "[I 2025-04-29 02:05:49,398] Trial 66 finished with value: 0.00490533746778965 and parameters: {'neurons': 10, 'epochs': 100, 'batch_size': 32}. Best is trial 36 with value: 0.004334351979196072.\n",
      "[I 2025-04-29 02:05:52,894] Trial 67 finished with value: 0.005274587776511908 and parameters: {'neurons': 10, 'epochs': 100, 'batch_size': 32}. Best is trial 36 with value: 0.004334351979196072.\n",
      "[I 2025-04-29 02:05:56,435] Trial 68 finished with value: 0.004531519487500191 and parameters: {'neurons': 10, 'epochs': 100, 'batch_size': 32}. Best is trial 36 with value: 0.004334351979196072.\n",
      "[I 2025-04-29 02:06:00,032] Trial 69 finished with value: 0.00534852547571063 and parameters: {'neurons': 10, 'epochs': 100, 'batch_size': 32}. Best is trial 36 with value: 0.004334351979196072.\n",
      "[I 2025-04-29 02:06:03,601] Trial 70 finished with value: 0.004345119930803776 and parameters: {'neurons': 10, 'epochs': 100, 'batch_size': 32}. Best is trial 36 with value: 0.004334351979196072.\n",
      "[I 2025-04-29 02:06:07,082] Trial 71 finished with value: 0.004447286948561668 and parameters: {'neurons': 10, 'epochs': 100, 'batch_size': 32}. Best is trial 36 with value: 0.004334351979196072.\n",
      "[I 2025-04-29 02:06:10,588] Trial 72 finished with value: 0.004517239052802324 and parameters: {'neurons': 10, 'epochs': 100, 'batch_size': 32}. Best is trial 36 with value: 0.004334351979196072.\n",
      "[I 2025-04-29 02:06:14,108] Trial 73 finished with value: 0.007938063703477383 and parameters: {'neurons': 10, 'epochs': 100, 'batch_size': 32}. Best is trial 36 with value: 0.004334351979196072.\n",
      "[I 2025-04-29 02:06:17,588] Trial 74 finished with value: 0.00517584104090929 and parameters: {'neurons': 10, 'epochs': 100, 'batch_size': 32}. Best is trial 36 with value: 0.004334351979196072.\n",
      "[I 2025-04-29 02:06:21,056] Trial 75 finished with value: 0.004657240584492683 and parameters: {'neurons': 10, 'epochs': 100, 'batch_size': 32}. Best is trial 36 with value: 0.004334351979196072.\n",
      "[I 2025-04-29 02:06:24,089] Trial 76 finished with value: 0.004873999860137701 and parameters: {'neurons': 10, 'epochs': 100, 'batch_size': 72}. Best is trial 36 with value: 0.004334351979196072.\n",
      "[I 2025-04-29 02:06:26,059] Trial 77 finished with value: 0.005436331499367952 and parameters: {'neurons': 10, 'epochs': 50, 'batch_size': 32}. Best is trial 36 with value: 0.004334351979196072.\n",
      "[I 2025-04-29 02:06:30,725] Trial 78 finished with value: 0.005181303713470697 and parameters: {'neurons': 10, 'epochs': 100, 'batch_size': 32}. Best is trial 36 with value: 0.004334351979196072.\n",
      "[I 2025-04-29 02:06:34,023] Trial 79 finished with value: 0.005165281239897013 and parameters: {'neurons': 10, 'epochs': 100, 'batch_size': 72}. Best is trial 36 with value: 0.004334351979196072.\n",
      "[I 2025-04-29 02:06:37,747] Trial 80 finished with value: 0.004982435144484043 and parameters: {'neurons': 8, 'epochs': 100, 'batch_size': 32}. Best is trial 36 with value: 0.004334351979196072.\n",
      "[I 2025-04-29 02:06:41,458] Trial 81 finished with value: 0.00843709334731102 and parameters: {'neurons': 10, 'epochs': 100, 'batch_size': 32}. Best is trial 36 with value: 0.004334351979196072.\n",
      "[I 2025-04-29 02:06:45,192] Trial 82 finished with value: 0.004640165716409683 and parameters: {'neurons': 8, 'epochs': 100, 'batch_size': 32}. Best is trial 36 with value: 0.004334351979196072.\n",
      "[I 2025-04-29 02:06:48,868] Trial 83 finished with value: 0.004419319331645966 and parameters: {'neurons': 10, 'epochs': 100, 'batch_size': 32}. Best is trial 36 with value: 0.004334351979196072.\n",
      "[I 2025-04-29 02:06:52,430] Trial 84 finished with value: 0.0046536861918866634 and parameters: {'neurons': 10, 'epochs': 100, 'batch_size': 32}. Best is trial 36 with value: 0.004334351979196072.\n",
      "[I 2025-04-29 02:06:55,940] Trial 85 finished with value: 0.0049825129099190235 and parameters: {'neurons': 10, 'epochs': 100, 'batch_size': 32}. Best is trial 36 with value: 0.004334351979196072.\n",
      "[I 2025-04-29 02:06:59,083] Trial 86 finished with value: 0.004696823190897703 and parameters: {'neurons': 10, 'epochs': 100, 'batch_size': 72}. Best is trial 36 with value: 0.004334351979196072.\n",
      "[I 2025-04-29 02:07:00,960] Trial 87 finished with value: 0.00461537204682827 and parameters: {'neurons': 10, 'epochs': 30, 'batch_size': 10}. Best is trial 36 with value: 0.004334351979196072.\n",
      "[I 2025-04-29 02:07:02,957] Trial 88 finished with value: 0.0052863298915326595 and parameters: {'neurons': 10, 'epochs': 50, 'batch_size': 32}. Best is trial 36 with value: 0.004334351979196072.\n",
      "[I 2025-04-29 02:07:08,151] Trial 89 finished with value: 0.004704669117927551 and parameters: {'neurons': 10, 'epochs': 100, 'batch_size': 10}. Best is trial 36 with value: 0.004334351979196072.\n",
      "[I 2025-04-29 02:07:09,551] Trial 90 finished with value: 0.004622158128768206 and parameters: {'neurons': 8, 'epochs': 30, 'batch_size': 32}. Best is trial 36 with value: 0.004334351979196072.\n",
      "[I 2025-04-29 02:07:13,133] Trial 91 finished with value: 0.004435006063431501 and parameters: {'neurons': 50, 'epochs': 100, 'batch_size': 32}. Best is trial 36 with value: 0.004334351979196072.\n",
      "[I 2025-04-29 02:07:16,726] Trial 92 finished with value: 0.004426999948918819 and parameters: {'neurons': 50, 'epochs': 100, 'batch_size': 32}. Best is trial 36 with value: 0.004334351979196072.\n",
      "[I 2025-04-29 02:07:20,306] Trial 93 finished with value: 0.004438180010765791 and parameters: {'neurons': 50, 'epochs': 100, 'batch_size': 32}. Best is trial 36 with value: 0.004334351979196072.\n",
      "[I 2025-04-29 02:07:23,853] Trial 94 finished with value: 0.004491630010306835 and parameters: {'neurons': 50, 'epochs': 100, 'batch_size': 32}. Best is trial 36 with value: 0.004334351979196072.\n",
      "[I 2025-04-29 02:07:27,414] Trial 95 finished with value: 0.004723958671092987 and parameters: {'neurons': 50, 'epochs': 100, 'batch_size': 32}. Best is trial 36 with value: 0.004334351979196072.\n",
      "[I 2025-04-29 02:07:31,087] Trial 96 finished with value: 0.004481572192162275 and parameters: {'neurons': 50, 'epochs': 100, 'batch_size': 32}. Best is trial 36 with value: 0.004334351979196072.\n",
      "[I 2025-04-29 02:07:34,810] Trial 97 finished with value: 0.004385368432849646 and parameters: {'neurons': 50, 'epochs': 100, 'batch_size': 32}. Best is trial 36 with value: 0.004334351979196072.\n",
      "[I 2025-04-29 02:07:38,448] Trial 98 finished with value: 0.00454730074852705 and parameters: {'neurons': 50, 'epochs': 100, 'batch_size': 32}. Best is trial 36 with value: 0.004334351979196072.\n",
      "[I 2025-04-29 02:07:42,040] Trial 99 finished with value: 0.004521586000919342 and parameters: {'neurons': 50, 'epochs': 100, 'batch_size': 32}. Best is trial 36 with value: 0.004334351979196072.\n"
     ]
    },
    {
     "name": "stdout",
     "output_type": "stream",
     "text": [
      "Best hyperparameters: {'neurons': 50, 'epochs': 100, 'batch_size': 72}\n"
     ]
    }
   ],
   "source": [
    "mlp_optimizer = MLPOptimizer(n_steps, n_trials=100)\n",
    "study = mlp_optimizer.optimize(train_X, train_y, val_X, val_y)"
   ]
  },
  {
   "cell_type": "markdown",
   "metadata": {},
   "source": [
    "### Create model"
   ]
  },
  {
   "cell_type": "markdown",
   "metadata": {},
   "source": [
    "The first layer in the network must define the number of inputs to expect. Input must be three-dimensional, comprised of samples, timesteps, and features."
   ]
  },
  {
   "cell_type": "code",
   "execution_count": null,
   "metadata": {},
   "outputs": [
    {
     "name": "stdout",
     "output_type": "stream",
     "text": [
      "Epoch 1/100\n"
     ]
    },
    {
     "name": "stderr",
     "output_type": "stream",
     "text": [
      "/Users/valeriagonzalez/Documents/aqi/env/lib/python3.9/site-packages/keras/src/layers/rnn/rnn.py:200: UserWarning: Do not pass an `input_shape`/`input_dim` argument to a layer. When using Sequential models, prefer using an `Input(shape)` object as the first layer in the model instead.\n",
      "  super().__init__(**kwargs)\n"
     ]
    },
    {
     "name": "stdout",
     "output_type": "stream",
     "text": [
      "\u001b[1m9/9\u001b[0m \u001b[32m━━━━━━━━━━━━━━━━━━━━\u001b[0m\u001b[37m\u001b[0m \u001b[1m0s\u001b[0m 12ms/step - loss: 0.0695 - val_loss: 0.0254\n",
      "Epoch 2/100\n",
      "\u001b[1m9/9\u001b[0m \u001b[32m━━━━━━━━━━━━━━━━━━━━\u001b[0m\u001b[37m\u001b[0m \u001b[1m0s\u001b[0m 3ms/step - loss: 0.0519 - val_loss: 0.0166\n",
      "Epoch 3/100\n",
      "\u001b[1m9/9\u001b[0m \u001b[32m━━━━━━━━━━━━━━━━━━━━\u001b[0m\u001b[37m\u001b[0m \u001b[1m0s\u001b[0m 3ms/step - loss: 0.0387 - val_loss: 0.0120\n",
      "Epoch 4/100\n",
      "\u001b[1m9/9\u001b[0m \u001b[32m━━━━━━━━━━━━━━━━━━━━\u001b[0m\u001b[37m\u001b[0m \u001b[1m0s\u001b[0m 3ms/step - loss: 0.0291 - val_loss: 0.0104\n",
      "Epoch 5/100\n",
      "\u001b[1m9/9\u001b[0m \u001b[32m━━━━━━━━━━━━━━━━━━━━\u001b[0m\u001b[37m\u001b[0m \u001b[1m0s\u001b[0m 3ms/step - loss: 0.0226 - val_loss: 0.0107\n",
      "Epoch 6/100\n",
      "\u001b[1m9/9\u001b[0m \u001b[32m━━━━━━━━━━━━━━━━━━━━\u001b[0m\u001b[37m\u001b[0m \u001b[1m0s\u001b[0m 3ms/step - loss: 0.0185 - val_loss: 0.0118\n",
      "Epoch 7/100\n",
      "\u001b[1m9/9\u001b[0m \u001b[32m━━━━━━━━━━━━━━━━━━━━\u001b[0m\u001b[37m\u001b[0m \u001b[1m0s\u001b[0m 3ms/step - loss: 0.0163 - val_loss: 0.0128\n",
      "Epoch 8/100\n",
      "\u001b[1m9/9\u001b[0m \u001b[32m━━━━━━━━━━━━━━━━━━━━\u001b[0m\u001b[37m\u001b[0m \u001b[1m0s\u001b[0m 3ms/step - loss: 0.0151 - val_loss: 0.0133\n",
      "Epoch 9/100\n",
      "\u001b[1m9/9\u001b[0m \u001b[32m━━━━━━━━━━━━━━━━━━━━\u001b[0m\u001b[37m\u001b[0m \u001b[1m0s\u001b[0m 3ms/step - loss: 0.0145 - val_loss: 0.0134\n",
      "Epoch 10/100\n",
      "\u001b[1m9/9\u001b[0m \u001b[32m━━━━━━━━━━━━━━━━━━━━\u001b[0m\u001b[37m\u001b[0m \u001b[1m0s\u001b[0m 4ms/step - loss: 0.0141 - val_loss: 0.0131\n",
      "Epoch 11/100\n",
      "\u001b[1m9/9\u001b[0m \u001b[32m━━━━━━━━━━━━━━━━━━━━\u001b[0m\u001b[37m\u001b[0m \u001b[1m0s\u001b[0m 3ms/step - loss: 0.0138 - val_loss: 0.0126\n",
      "Epoch 12/100\n",
      "\u001b[1m9/9\u001b[0m \u001b[32m━━━━━━━━━━━━━━━━━━━━\u001b[0m\u001b[37m\u001b[0m \u001b[1m0s\u001b[0m 3ms/step - loss: 0.0134 - val_loss: 0.0120\n",
      "Epoch 13/100\n",
      "\u001b[1m9/9\u001b[0m \u001b[32m━━━━━━━━━━━━━━━━━━━━\u001b[0m\u001b[37m\u001b[0m \u001b[1m0s\u001b[0m 3ms/step - loss: 0.0131 - val_loss: 0.0115\n",
      "Epoch 14/100\n",
      "\u001b[1m9/9\u001b[0m \u001b[32m━━━━━━━━━━━━━━━━━━━━\u001b[0m\u001b[37m\u001b[0m \u001b[1m0s\u001b[0m 3ms/step - loss: 0.0128 - val_loss: 0.0109\n",
      "Epoch 15/100\n",
      "\u001b[1m9/9\u001b[0m \u001b[32m━━━━━━━━━━━━━━━━━━━━\u001b[0m\u001b[37m\u001b[0m \u001b[1m0s\u001b[0m 3ms/step - loss: 0.0124 - val_loss: 0.0104\n",
      "Epoch 16/100\n",
      "\u001b[1m9/9\u001b[0m \u001b[32m━━━━━━━━━━━━━━━━━━━━\u001b[0m\u001b[37m\u001b[0m \u001b[1m0s\u001b[0m 3ms/step - loss: 0.0121 - val_loss: 0.0099\n",
      "Epoch 17/100\n",
      "\u001b[1m9/9\u001b[0m \u001b[32m━━━━━━━━━━━━━━━━━━━━\u001b[0m\u001b[37m\u001b[0m \u001b[1m0s\u001b[0m 3ms/step - loss: 0.0117 - val_loss: 0.0094\n",
      "Epoch 18/100\n",
      "\u001b[1m9/9\u001b[0m \u001b[32m━━━━━━━━━━━━━━━━━━━━\u001b[0m\u001b[37m\u001b[0m \u001b[1m0s\u001b[0m 3ms/step - loss: 0.0114 - val_loss: 0.0090\n",
      "Epoch 19/100\n",
      "\u001b[1m9/9\u001b[0m \u001b[32m━━━━━━━━━━━━━━━━━━━━\u001b[0m\u001b[37m\u001b[0m \u001b[1m0s\u001b[0m 3ms/step - loss: 0.0110 - val_loss: 0.0087\n",
      "Epoch 20/100\n",
      "\u001b[1m9/9\u001b[0m \u001b[32m━━━━━━━━━━━━━━━━━━━━\u001b[0m\u001b[37m\u001b[0m \u001b[1m0s\u001b[0m 3ms/step - loss: 0.0107 - val_loss: 0.0085\n",
      "Epoch 21/100\n",
      "\u001b[1m9/9\u001b[0m \u001b[32m━━━━━━━━━━━━━━━━━━━━\u001b[0m\u001b[37m\u001b[0m \u001b[1m0s\u001b[0m 3ms/step - loss: 0.0103 - val_loss: 0.0084\n",
      "Epoch 22/100\n",
      "\u001b[1m9/9\u001b[0m \u001b[32m━━━━━━━━━━━━━━━━━━━━\u001b[0m\u001b[37m\u001b[0m \u001b[1m0s\u001b[0m 3ms/step - loss: 0.0100 - val_loss: 0.0083\n",
      "Epoch 23/100\n",
      "\u001b[1m9/9\u001b[0m \u001b[32m━━━━━━━━━━━━━━━━━━━━\u001b[0m\u001b[37m\u001b[0m \u001b[1m0s\u001b[0m 3ms/step - loss: 0.0097 - val_loss: 0.0083\n",
      "Epoch 24/100\n",
      "\u001b[1m9/9\u001b[0m \u001b[32m━━━━━━━━━━━━━━━━━━━━\u001b[0m\u001b[37m\u001b[0m \u001b[1m0s\u001b[0m 4ms/step - loss: 0.0094 - val_loss: 0.0084\n",
      "Epoch 25/100\n",
      "\u001b[1m9/9\u001b[0m \u001b[32m━━━━━━━━━━━━━━━━━━━━\u001b[0m\u001b[37m\u001b[0m \u001b[1m0s\u001b[0m 4ms/step - loss: 0.0091 - val_loss: 0.0085\n",
      "Epoch 26/100\n",
      "\u001b[1m9/9\u001b[0m \u001b[32m━━━━━━━━━━━━━━━━━━━━\u001b[0m\u001b[37m\u001b[0m \u001b[1m0s\u001b[0m 3ms/step - loss: 0.0088 - val_loss: 0.0086\n",
      "Epoch 27/100\n",
      "\u001b[1m9/9\u001b[0m \u001b[32m━━━━━━━━━━━━━━━━━━━━\u001b[0m\u001b[37m\u001b[0m \u001b[1m0s\u001b[0m 7ms/step - loss: 0.0085 - val_loss: 0.0087\n",
      "Epoch 28/100\n",
      "\u001b[1m9/9\u001b[0m \u001b[32m━━━━━━━━━━━━━━━━━━━━\u001b[0m\u001b[37m\u001b[0m \u001b[1m0s\u001b[0m 4ms/step - loss: 0.0082 - val_loss: 0.0088\n",
      "Epoch 29/100\n",
      "\u001b[1m9/9\u001b[0m \u001b[32m━━━━━━━━━━━━━━━━━━━━\u001b[0m\u001b[37m\u001b[0m \u001b[1m0s\u001b[0m 3ms/step - loss: 0.0080 - val_loss: 0.0089\n",
      "Epoch 30/100\n",
      "\u001b[1m9/9\u001b[0m \u001b[32m━━━━━━━━━━━━━━━━━━━━\u001b[0m\u001b[37m\u001b[0m \u001b[1m0s\u001b[0m 3ms/step - loss: 0.0078 - val_loss: 0.0091\n",
      "Epoch 31/100\n",
      "\u001b[1m9/9\u001b[0m \u001b[32m━━━━━━━━━━━━━━━━━━━━\u001b[0m\u001b[37m\u001b[0m \u001b[1m0s\u001b[0m 3ms/step - loss: 0.0075 - val_loss: 0.0091\n",
      "Epoch 32/100\n",
      "\u001b[1m9/9\u001b[0m \u001b[32m━━━━━━━━━━━━━━━━━━━━\u001b[0m\u001b[37m\u001b[0m \u001b[1m0s\u001b[0m 3ms/step - loss: 0.0073 - val_loss: 0.0092\n",
      "Epoch 33/100\n",
      "\u001b[1m9/9\u001b[0m \u001b[32m━━━━━━━━━━━━━━━━━━━━\u001b[0m\u001b[37m\u001b[0m \u001b[1m0s\u001b[0m 3ms/step - loss: 0.0071 - val_loss: 0.0092\n",
      "Epoch 34/100\n",
      "\u001b[1m9/9\u001b[0m \u001b[32m━━━━━━━━━━━━━━━━━━━━\u001b[0m\u001b[37m\u001b[0m \u001b[1m0s\u001b[0m 3ms/step - loss: 0.0069 - val_loss: 0.0091\n",
      "Epoch 35/100\n",
      "\u001b[1m9/9\u001b[0m \u001b[32m━━━━━━━━━━━━━━━━━━━━\u001b[0m\u001b[37m\u001b[0m \u001b[1m0s\u001b[0m 3ms/step - loss: 0.0067 - val_loss: 0.0090\n",
      "Epoch 36/100\n",
      "\u001b[1m9/9\u001b[0m \u001b[32m━━━━━━━━━━━━━━━━━━━━\u001b[0m\u001b[37m\u001b[0m \u001b[1m0s\u001b[0m 4ms/step - loss: 0.0066 - val_loss: 0.0089\n",
      "Epoch 37/100\n",
      "\u001b[1m9/9\u001b[0m \u001b[32m━━━━━━━━━━━━━━━━━━━━\u001b[0m\u001b[37m\u001b[0m \u001b[1m0s\u001b[0m 3ms/step - loss: 0.0064 - val_loss: 0.0087\n",
      "Epoch 38/100\n",
      "\u001b[1m9/9\u001b[0m \u001b[32m━━━━━━━━━━━━━━━━━━━━\u001b[0m\u001b[37m\u001b[0m \u001b[1m0s\u001b[0m 4ms/step - loss: 0.0062 - val_loss: 0.0085\n",
      "Epoch 39/100\n",
      "\u001b[1m9/9\u001b[0m \u001b[32m━━━━━━━━━━━━━━━━━━━━\u001b[0m\u001b[37m\u001b[0m \u001b[1m0s\u001b[0m 4ms/step - loss: 0.0061 - val_loss: 0.0083\n",
      "Epoch 40/100\n",
      "\u001b[1m9/9\u001b[0m \u001b[32m━━━━━━━━━━━━━━━━━━━━\u001b[0m\u001b[37m\u001b[0m \u001b[1m0s\u001b[0m 3ms/step - loss: 0.0059 - val_loss: 0.0081\n",
      "Epoch 41/100\n",
      "\u001b[1m9/9\u001b[0m \u001b[32m━━━━━━━━━━━━━━━━━━━━\u001b[0m\u001b[37m\u001b[0m \u001b[1m0s\u001b[0m 3ms/step - loss: 0.0058 - val_loss: 0.0078\n",
      "Epoch 42/100\n",
      "\u001b[1m9/9\u001b[0m \u001b[32m━━━━━━━━━━━━━━━━━━━━\u001b[0m\u001b[37m\u001b[0m \u001b[1m0s\u001b[0m 3ms/step - loss: 0.0057 - val_loss: 0.0076\n",
      "Epoch 43/100\n",
      "\u001b[1m9/9\u001b[0m \u001b[32m━━━━━━━━━━━━━━━━━━━━\u001b[0m\u001b[37m\u001b[0m \u001b[1m0s\u001b[0m 3ms/step - loss: 0.0056 - val_loss: 0.0073\n",
      "Epoch 44/100\n",
      "\u001b[1m9/9\u001b[0m \u001b[32m━━━━━━━━━━━━━━━━━━━━\u001b[0m\u001b[37m\u001b[0m \u001b[1m0s\u001b[0m 3ms/step - loss: 0.0055 - val_loss: 0.0071\n",
      "Epoch 45/100\n",
      "\u001b[1m9/9\u001b[0m \u001b[32m━━━━━━━━━━━━━━━━━━━━\u001b[0m\u001b[37m\u001b[0m \u001b[1m0s\u001b[0m 3ms/step - loss: 0.0054 - val_loss: 0.0068\n",
      "Epoch 46/100\n",
      "\u001b[1m9/9\u001b[0m \u001b[32m━━━━━━━━━━━━━━━━━━━━\u001b[0m\u001b[37m\u001b[0m \u001b[1m0s\u001b[0m 3ms/step - loss: 0.0053 - val_loss: 0.0066\n",
      "Epoch 47/100\n",
      "\u001b[1m9/9\u001b[0m \u001b[32m━━━━━━━━━━━━━━━━━━━━\u001b[0m\u001b[37m\u001b[0m \u001b[1m0s\u001b[0m 3ms/step - loss: 0.0052 - val_loss: 0.0063\n",
      "Epoch 48/100\n",
      "\u001b[1m9/9\u001b[0m \u001b[32m━━━━━━━━━━━━━━━━━━━━\u001b[0m\u001b[37m\u001b[0m \u001b[1m0s\u001b[0m 3ms/step - loss: 0.0051 - val_loss: 0.0061\n",
      "Epoch 49/100\n",
      "\u001b[1m9/9\u001b[0m \u001b[32m━━━━━━━━━━━━━━━━━━━━\u001b[0m\u001b[37m\u001b[0m \u001b[1m0s\u001b[0m 3ms/step - loss: 0.0050 - val_loss: 0.0059\n",
      "Epoch 50/100\n",
      "\u001b[1m9/9\u001b[0m \u001b[32m━━━━━━━━━━━━━━━━━━━━\u001b[0m\u001b[37m\u001b[0m \u001b[1m0s\u001b[0m 3ms/step - loss: 0.0050 - val_loss: 0.0057\n",
      "Epoch 51/100\n",
      "\u001b[1m9/9\u001b[0m \u001b[32m━━━━━━━━━━━━━━━━━━━━\u001b[0m\u001b[37m\u001b[0m \u001b[1m0s\u001b[0m 3ms/step - loss: 0.0049 - val_loss: 0.0056\n",
      "Epoch 52/100\n",
      "\u001b[1m9/9\u001b[0m \u001b[32m━━━━━━━━━━━━━━━━━━━━\u001b[0m\u001b[37m\u001b[0m \u001b[1m0s\u001b[0m 3ms/step - loss: 0.0048 - val_loss: 0.0054\n",
      "Epoch 53/100\n",
      "\u001b[1m9/9\u001b[0m \u001b[32m━━━━━━━━━━━━━━━━━━━━\u001b[0m\u001b[37m\u001b[0m \u001b[1m0s\u001b[0m 3ms/step - loss: 0.0048 - val_loss: 0.0053\n",
      "Epoch 54/100\n",
      "\u001b[1m9/9\u001b[0m \u001b[32m━━━━━━━━━━━━━━━━━━━━\u001b[0m\u001b[37m\u001b[0m \u001b[1m0s\u001b[0m 3ms/step - loss: 0.0047 - val_loss: 0.0051\n",
      "Epoch 55/100\n",
      "\u001b[1m9/9\u001b[0m \u001b[32m━━━━━━━━━━━━━━━━━━━━\u001b[0m\u001b[37m\u001b[0m \u001b[1m0s\u001b[0m 3ms/step - loss: 0.0047 - val_loss: 0.0050\n",
      "Epoch 56/100\n",
      "\u001b[1m9/9\u001b[0m \u001b[32m━━━━━━━━━━━━━━━━━━━━\u001b[0m\u001b[37m\u001b[0m \u001b[1m0s\u001b[0m 3ms/step - loss: 0.0046 - val_loss: 0.0049\n",
      "Epoch 57/100\n",
      "\u001b[1m9/9\u001b[0m \u001b[32m━━━━━━━━━━━━━━━━━━━━\u001b[0m\u001b[37m\u001b[0m \u001b[1m0s\u001b[0m 3ms/step - loss: 0.0046 - val_loss: 0.0049\n",
      "Epoch 58/100\n",
      "\u001b[1m9/9\u001b[0m \u001b[32m━━━━━━━━━━━━━━━━━━━━\u001b[0m\u001b[37m\u001b[0m \u001b[1m0s\u001b[0m 3ms/step - loss: 0.0046 - val_loss: 0.0048\n",
      "Epoch 59/100\n",
      "\u001b[1m9/9\u001b[0m \u001b[32m━━━━━━━━━━━━━━━━━━━━\u001b[0m\u001b[37m\u001b[0m \u001b[1m0s\u001b[0m 3ms/step - loss: 0.0045 - val_loss: 0.0047\n",
      "Epoch 60/100\n",
      "\u001b[1m9/9\u001b[0m \u001b[32m━━━━━━━━━━━━━━━━━━━━\u001b[0m\u001b[37m\u001b[0m \u001b[1m0s\u001b[0m 3ms/step - loss: 0.0045 - val_loss: 0.0047\n",
      "Epoch 61/100\n",
      "\u001b[1m9/9\u001b[0m \u001b[32m━━━━━━━━━━━━━━━━━━━━\u001b[0m\u001b[37m\u001b[0m \u001b[1m0s\u001b[0m 3ms/step - loss: 0.0045 - val_loss: 0.0046\n",
      "Epoch 62/100\n",
      "\u001b[1m9/9\u001b[0m \u001b[32m━━━━━━━━━━━━━━━━━━━━\u001b[0m\u001b[37m\u001b[0m \u001b[1m0s\u001b[0m 3ms/step - loss: 0.0045 - val_loss: 0.0046\n",
      "Epoch 63/100\n",
      "\u001b[1m9/9\u001b[0m \u001b[32m━━━━━━━━━━━━━━━━━━━━\u001b[0m\u001b[37m\u001b[0m \u001b[1m0s\u001b[0m 3ms/step - loss: 0.0044 - val_loss: 0.0046\n",
      "Epoch 64/100\n",
      "\u001b[1m9/9\u001b[0m \u001b[32m━━━━━━━━━━━━━━━━━━━━\u001b[0m\u001b[37m\u001b[0m \u001b[1m0s\u001b[0m 3ms/step - loss: 0.0044 - val_loss: 0.0046\n",
      "Epoch 65/100\n",
      "\u001b[1m9/9\u001b[0m \u001b[32m━━━━━━━━━━━━━━━━━━━━\u001b[0m\u001b[37m\u001b[0m \u001b[1m0s\u001b[0m 3ms/step - loss: 0.0044 - val_loss: 0.0046\n",
      "Epoch 66/100\n",
      "\u001b[1m9/9\u001b[0m \u001b[32m━━━━━━━━━━━━━━━━━━━━\u001b[0m\u001b[37m\u001b[0m \u001b[1m0s\u001b[0m 3ms/step - loss: 0.0044 - val_loss: 0.0045\n",
      "Epoch 67/100\n",
      "\u001b[1m9/9\u001b[0m \u001b[32m━━━━━━━━━━━━━━━━━━━━\u001b[0m\u001b[37m\u001b[0m \u001b[1m0s\u001b[0m 3ms/step - loss: 0.0044 - val_loss: 0.0045\n",
      "Epoch 68/100\n",
      "\u001b[1m9/9\u001b[0m \u001b[32m━━━━━━━━━━━━━━━━━━━━\u001b[0m\u001b[37m\u001b[0m \u001b[1m0s\u001b[0m 3ms/step - loss: 0.0044 - val_loss: 0.0045\n",
      "Epoch 69/100\n",
      "\u001b[1m9/9\u001b[0m \u001b[32m━━━━━━━━━━━━━━━━━━━━\u001b[0m\u001b[37m\u001b[0m \u001b[1m0s\u001b[0m 3ms/step - loss: 0.0044 - val_loss: 0.0045\n",
      "Epoch 70/100\n",
      "\u001b[1m9/9\u001b[0m \u001b[32m━━━━━━━━━━━━━━━━━━━━\u001b[0m\u001b[37m\u001b[0m \u001b[1m0s\u001b[0m 3ms/step - loss: 0.0044 - val_loss: 0.0045\n",
      "Epoch 71/100\n",
      "\u001b[1m9/9\u001b[0m \u001b[32m━━━━━━━━━━━━━━━━━━━━\u001b[0m\u001b[37m\u001b[0m \u001b[1m0s\u001b[0m 3ms/step - loss: 0.0044 - val_loss: 0.0045\n",
      "Epoch 72/100\n",
      "\u001b[1m9/9\u001b[0m \u001b[32m━━━━━━━━━━━━━━━━━━━━\u001b[0m\u001b[37m\u001b[0m \u001b[1m0s\u001b[0m 3ms/step - loss: 0.0043 - val_loss: 0.0045\n",
      "Epoch 73/100\n",
      "\u001b[1m9/9\u001b[0m \u001b[32m━━━━━━━━━━━━━━━━━━━━\u001b[0m\u001b[37m\u001b[0m \u001b[1m0s\u001b[0m 3ms/step - loss: 0.0043 - val_loss: 0.0045\n",
      "Epoch 74/100\n",
      "\u001b[1m9/9\u001b[0m \u001b[32m━━━━━━━━━━━━━━━━━━━━\u001b[0m\u001b[37m\u001b[0m \u001b[1m0s\u001b[0m 6ms/step - loss: 0.0043 - val_loss: 0.0045\n",
      "Epoch 75/100\n",
      "\u001b[1m9/9\u001b[0m \u001b[32m━━━━━━━━━━━━━━━━━━━━\u001b[0m\u001b[37m\u001b[0m \u001b[1m0s\u001b[0m 3ms/step - loss: 0.0043 - val_loss: 0.0045\n",
      "Epoch 76/100\n",
      "\u001b[1m9/9\u001b[0m \u001b[32m━━━━━━━━━━━━━━━━━━━━\u001b[0m\u001b[37m\u001b[0m \u001b[1m0s\u001b[0m 3ms/step - loss: 0.0043 - val_loss: 0.0045\n",
      "Epoch 77/100\n",
      "\u001b[1m9/9\u001b[0m \u001b[32m━━━━━━━━━━━━━━━━━━━━\u001b[0m\u001b[37m\u001b[0m \u001b[1m0s\u001b[0m 3ms/step - loss: 0.0043 - val_loss: 0.0045\n",
      "Epoch 78/100\n",
      "\u001b[1m9/9\u001b[0m \u001b[32m━━━━━━━━━━━━━━━━━━━━\u001b[0m\u001b[37m\u001b[0m \u001b[1m0s\u001b[0m 3ms/step - loss: 0.0043 - val_loss: 0.0045\n",
      "Epoch 79/100\n",
      "\u001b[1m9/9\u001b[0m \u001b[32m━━━━━━━━━━━━━━━━━━━━\u001b[0m\u001b[37m\u001b[0m \u001b[1m0s\u001b[0m 4ms/step - loss: 0.0043 - val_loss: 0.0046\n",
      "Epoch 80/100\n",
      "\u001b[1m9/9\u001b[0m \u001b[32m━━━━━━━━━━━━━━━━━━━━\u001b[0m\u001b[37m\u001b[0m \u001b[1m0s\u001b[0m 3ms/step - loss: 0.0043 - val_loss: 0.0046\n",
      "Epoch 81/100\n",
      "\u001b[1m9/9\u001b[0m \u001b[32m━━━━━━━━━━━━━━━━━━━━\u001b[0m\u001b[37m\u001b[0m \u001b[1m0s\u001b[0m 4ms/step - loss: 0.0043 - val_loss: 0.0046\n",
      "Epoch 82/100\n",
      "\u001b[1m9/9\u001b[0m \u001b[32m━━━━━━━━━━━━━━━━━━━━\u001b[0m\u001b[37m\u001b[0m \u001b[1m0s\u001b[0m 3ms/step - loss: 0.0043 - val_loss: 0.0046\n",
      "Epoch 83/100\n",
      "\u001b[1m9/9\u001b[0m \u001b[32m━━━━━━━━━━━━━━━━━━━━\u001b[0m\u001b[37m\u001b[0m \u001b[1m0s\u001b[0m 3ms/step - loss: 0.0043 - val_loss: 0.0046\n",
      "Epoch 84/100\n",
      "\u001b[1m9/9\u001b[0m \u001b[32m━━━━━━━━━━━━━━━━━━━━\u001b[0m\u001b[37m\u001b[0m \u001b[1m0s\u001b[0m 3ms/step - loss: 0.0043 - val_loss: 0.0046\n",
      "Epoch 85/100\n",
      "\u001b[1m9/9\u001b[0m \u001b[32m━━━━━━━━━━━━━━━━━━━━\u001b[0m\u001b[37m\u001b[0m \u001b[1m0s\u001b[0m 3ms/step - loss: 0.0043 - val_loss: 0.0046\n",
      "Epoch 86/100\n",
      "\u001b[1m9/9\u001b[0m \u001b[32m━━━━━━━━━━━━━━━━━━━━\u001b[0m\u001b[37m\u001b[0m \u001b[1m0s\u001b[0m 3ms/step - loss: 0.0043 - val_loss: 0.0046\n",
      "Epoch 87/100\n",
      "\u001b[1m9/9\u001b[0m \u001b[32m━━━━━━━━━━━━━━━━━━━━\u001b[0m\u001b[37m\u001b[0m \u001b[1m0s\u001b[0m 3ms/step - loss: 0.0043 - val_loss: 0.0046\n",
      "Epoch 88/100\n",
      "\u001b[1m9/9\u001b[0m \u001b[32m━━━━━━━━━━━━━━━━━━━━\u001b[0m\u001b[37m\u001b[0m \u001b[1m0s\u001b[0m 3ms/step - loss: 0.0043 - val_loss: 0.0046\n",
      "Epoch 89/100\n",
      "\u001b[1m9/9\u001b[0m \u001b[32m━━━━━━━━━━━━━━━━━━━━\u001b[0m\u001b[37m\u001b[0m \u001b[1m0s\u001b[0m 3ms/step - loss: 0.0043 - val_loss: 0.0046\n",
      "Epoch 90/100\n",
      "\u001b[1m9/9\u001b[0m \u001b[32m━━━━━━━━━━━━━━━━━━━━\u001b[0m\u001b[37m\u001b[0m \u001b[1m0s\u001b[0m 3ms/step - loss: 0.0043 - val_loss: 0.0046\n",
      "Epoch 91/100\n",
      "\u001b[1m9/9\u001b[0m \u001b[32m━━━━━━━━━━━━━━━━━━━━\u001b[0m\u001b[37m\u001b[0m \u001b[1m0s\u001b[0m 3ms/step - loss: 0.0042 - val_loss: 0.0046\n",
      "Epoch 92/100\n",
      "\u001b[1m9/9\u001b[0m \u001b[32m━━━━━━━━━━━━━━━━━━━━\u001b[0m\u001b[37m\u001b[0m \u001b[1m0s\u001b[0m 3ms/step - loss: 0.0042 - val_loss: 0.0046\n",
      "Epoch 93/100\n",
      "\u001b[1m9/9\u001b[0m \u001b[32m━━━━━━━━━━━━━━━━━━━━\u001b[0m\u001b[37m\u001b[0m \u001b[1m0s\u001b[0m 3ms/step - loss: 0.0042 - val_loss: 0.0046\n",
      "Epoch 94/100\n",
      "\u001b[1m9/9\u001b[0m \u001b[32m━━━━━━━━━━━━━━━━━━━━\u001b[0m\u001b[37m\u001b[0m \u001b[1m0s\u001b[0m 2ms/step - loss: 0.0042 - val_loss: 0.0045\n",
      "Epoch 95/100\n",
      "\u001b[1m9/9\u001b[0m \u001b[32m━━━━━━━━━━━━━━━━━━━━\u001b[0m\u001b[37m\u001b[0m \u001b[1m0s\u001b[0m 3ms/step - loss: 0.0042 - val_loss: 0.0045\n",
      "Epoch 96/100\n",
      "\u001b[1m9/9\u001b[0m \u001b[32m━━━━━━━━━━━━━━━━━━━━\u001b[0m\u001b[37m\u001b[0m \u001b[1m0s\u001b[0m 3ms/step - loss: 0.0042 - val_loss: 0.0045\n",
      "Epoch 97/100\n",
      "\u001b[1m9/9\u001b[0m \u001b[32m━━━━━━━━━━━━━━━━━━━━\u001b[0m\u001b[37m\u001b[0m \u001b[1m0s\u001b[0m 3ms/step - loss: 0.0042 - val_loss: 0.0045\n",
      "Epoch 98/100\n",
      "\u001b[1m9/9\u001b[0m \u001b[32m━━━━━━━━━━━━━━━━━━━━\u001b[0m\u001b[37m\u001b[0m \u001b[1m0s\u001b[0m 3ms/step - loss: 0.0042 - val_loss: 0.0045\n",
      "Epoch 99/100\n",
      "\u001b[1m9/9\u001b[0m \u001b[32m━━━━━━━━━━━━━━━━━━━━\u001b[0m\u001b[37m\u001b[0m \u001b[1m0s\u001b[0m 3ms/step - loss: 0.0042 - val_loss: 0.0045\n",
      "Epoch 100/100\n",
      "\u001b[1m9/9\u001b[0m \u001b[32m━━━━━━━━━━━━━━━━━━━━\u001b[0m\u001b[37m\u001b[0m \u001b[1m0s\u001b[0m 4ms/step - loss: 0.0042 - val_loss: 0.0045\n"
     ]
    },
    {
     "data": {
      "image/png": "[encoded data removed]",
      "text/plain": [
       "<Figure size 640x480 with 1 Axes>"
      ]
     },
     "metadata": {},
     "output_type": "display_data"
    }
   ],
   "source": [
    "# design network\n",
    "model = Sequential()\n",
    "model.add(LSTM(50, \n",
    "               input_shape=(train_X.shape[1], train_X.shape[2]),\n",
    "               activation=\"relu\"))\n",
    "model.add(Dense(1))\n",
    "model.compile(loss='mse', optimizer=Adam(0.001))\n",
    "# fit network\n",
    "history = model.fit(\n",
    "    train_X, \n",
    "    train_y, \n",
    "    epochs=100, \n",
    "    batch_size=72, \n",
    "    validation_data=(val_X, val_y),\n",
    "    verbose=1, \n",
    "    shuffle=False,\n",
    "    )"
   ]
  },
  {
   "cell_type": "code",
   "execution_count": null,
   "metadata": {},
   "outputs": [
    {
     "data": {
      "image/png": "[encoded data removed]",
      "text/plain": [
       "<Figure size 640x480 with 1 Axes>"
      ]
     },
     "metadata": {},
     "output_type": "display_data"
    },
    {
     "data": {
      "text/plain": [
       "<Figure size 640x480 with 0 Axes>"
      ]
     },
     "metadata": {},
     "output_type": "display_data"
    }
   ],
   "source": [
    "# plot history\n",
    "plt.plot(history.history['loss'], label='train')\n",
    "plt.plot(history.history['val_loss'], label='val')\n",
    "plt.legend()\n",
    "plt.show()\n",
    "# plt.savefig(f\"graphs/ltsm/training_val_loss.png\")"
   ]
  },
  {
   "cell_type": "markdown",
   "metadata": {},
   "source": [
    "### Predict values and evaluate performance"
   ]
  },
  {
   "cell_type": "code",
   "execution_count": 172,
   "metadata": {},
   "outputs": [
    {
     "name": "stdout",
     "output_type": "stream",
     "text": [
      "\u001b[1m12/12\u001b[0m \u001b[32m━━━━━━━━━━━━━━━━━━━━\u001b[0m\u001b[37m\u001b[0m \u001b[1m0s\u001b[0m 5ms/step \n"
     ]
    }
   ],
   "source": [
    "# make a prediction\n",
    "yhat = model.predict(test_X)\n"
   ]
  },
  {
   "cell_type": "code",
   "execution_count": 173,
   "metadata": {},
   "outputs": [],
   "source": [
    "# invert scaling for forecast\n",
    "test_X_reshaped = test_X.reshape((test_X.shape[0], test_X.shape[2]))\n",
    "inv_yhat = np.concatenate((yhat, test_X_reshaped[:, 1:]), axis=1)\n",
    "inv_yhat = data_scaler.inverse_transform(inv_yhat)\n",
    "inv_yhat = inv_yhat[:,0]"
   ]
  },
  {
   "cell_type": "code",
   "execution_count": 174,
   "metadata": {},
   "outputs": [],
   "source": [
    "# invert scaling for actual\n",
    "test_y_reshaped = test_y.reshape((len(test_y), 1))\n",
    "inv_y = np.concatenate((test_y_reshaped, test_X_reshaped[:, 1:]), axis=1)\n",
    "inv_y = data_scaler.inverse_transform(inv_y)\n",
    "inv_y = inv_y[:,0]"
   ]
  },
  {
   "cell_type": "code",
   "execution_count": 175,
   "metadata": {},
   "outputs": [
    {
     "name": "stdout",
     "output_type": "stream",
     "text": [
      "Test RMSE: 10.980\n"
     ]
    }
   ],
   "source": [
    "# calculate RMSE\n",
    "rmse = sqrt(mean_squared_error(inv_y, inv_yhat))\n",
    "print('Test RMSE: %.3f' % rmse)"
   ]
  },
  {
   "cell_type": "code",
   "execution_count": 176,
   "metadata": {},
   "outputs": [
    {
     "name": "stdout",
     "output_type": "stream",
     "text": [
      "Actual: 33.54545454545455  Predict: 32.65847012028098\n",
      "Actual: 33.54545454545455  Predict: 33.451518687605855\n",
      "Actual: 33.54545454545455  Predict: 34.615892639756204\n",
      "Actual: 33.54545454545455  Predict: 32.498406540229915\n",
      "Actual: 33.54545454545455  Predict: 33.985214337706566\n",
      "Actual: 33.54545454545455  Predict: 34.290249809622765\n",
      "Actual: 33.54545454545455  Predict: 33.217056626081465\n",
      "Actual: 33.54545454545455  Predict: 32.37429426237941\n",
      "Actual: 18.194166666666668  Predict: 31.52422375716269\n",
      "Actual: 18.194166666666668  Predict: 20.592265202105047\n",
      "Actual: 24.24833333333333  Predict: 19.5804089859128\n",
      "Actual: 42.72625  Predict: 24.605718002468347\n",
      "Actual: 66.06416666666667  Predict: 38.47020113840699\n",
      "Actual: 53.97125  Predict: 52.68596502542495\n",
      "Actual: 55.071250000000006  Predict: 45.95005123391747\n",
      "Actual: 47.17625  Predict: 45.67904361374676\n",
      "Actual: 50.98  Predict: 40.78212309591471\n",
      "Actual: 60.373333333333335  Predict: 43.74495232999324\n",
      "Actual: 62.60583333333333  Predict: 49.082326023280615\n",
      "Actual: 50.78958333333333  Predict: 49.32331762909889\n",
      "Actual: 72.98333333333333  Predict: 44.00451141782104\n",
      "Actual: 61.88916666666666  Predict: 58.51660552620887\n",
      "Actual: 40.315  Predict: 50.5843540623784\n",
      "Actual: 46.190000000000005  Predict: 35.365769082680345\n",
      "Actual: 66.49458333333334  Predict: 40.237447042018175\n",
      "Actual: 58.45625  Predict: 51.1618500508368\n",
      "Actual: 72.15791666666667  Predict: 46.57046951651573\n",
      "Actual: 65.83291666666666  Predict: 54.74556084498762\n",
      "Actual: 43.470416666666665  Predict: 50.92001435831189\n",
      "Actual: 41.925  Predict: 37.25724368989468\n",
      "Actual: 66.53458333333333  Predict: 36.56059807129204\n",
      "Actual: 33.2025  Predict: 53.12574390172958\n",
      "Actual: 47.37166666666667  Predict: 29.941325905174015\n",
      "Actual: 60.22541666666667  Predict: 41.32823506742715\n",
      "Actual: 45.920416666666654  Predict: 49.09322153329849\n",
      "Actual: 34.87708333333333  Predict: 39.49822355546057\n",
      "Actual: 22.161739130434785  Predict: 30.607550444826483\n",
      "Actual: 31.56136363636364  Predict: 23.959277351386845\n",
      "Actual: 44.88291666666667  Predict: 30.38958445712924\n",
      "Actual: 45.374583333333334  Predict: 38.67726919054985\n",
      "Actual: 34.55125  Predict: 38.821205378323796\n",
      "Actual: 63.89791666666667  Predict: 31.417946449294686\n",
      "Actual: 54.08083333333333  Predict: 52.69124784395098\n",
      "Actual: 68.27333333333333  Predict: 46.69950320795178\n",
      "Actual: 50.18625  Predict: 53.30545190200209\n",
      "Actual: 49.1325  Predict: 42.88651614934206\n",
      "Actual: 44.48083333333333  Predict: 41.03922511525452\n",
      "Actual: 43.82333333333333  Predict: 38.82423244789243\n",
      "Actual: 57.63583333333333  Predict: 38.28472278676927\n",
      "Actual: 63.15708333333333  Predict: 46.20971704535186\n",
      "Actual: 45.91333333333334  Predict: 52.603564698994155\n",
      "Actual: 41.74619047619048  Predict: 39.39483991265297\n",
      "Actual: 44.024166666666666  Predict: 35.398698166385294\n",
      "Actual: 43.04791666666668  Predict: 38.104107635840776\n",
      "Actual: 36.94875  Predict: 36.898596584424375\n",
      "Actual: 57.61708333333333  Predict: 33.23359635956585\n",
      "Actual: 66.44375000000001  Predict: 47.26303780823945\n",
      "Actual: 39.865833333333335  Predict: 52.93876899406313\n",
      "Actual: 46.794545454545464  Predict: 35.20295251868665\n",
      "Actual: 38.2825  Predict: 40.156899825483556\n",
      "Actual: 34.415  Predict: 33.18021030090749\n",
      "Actual: 60.52666666666667  Predict: 30.204057594761252\n",
      "Actual: 60.52666666666667  Predict: 47.631598081439726\n",
      "Actual: 37.08708333333333  Predict: 48.87276451960206\n",
      "Actual: 38.9625  Predict: 32.97892715334892\n",
      "Actual: 41.06375  Predict: 35.84753884710371\n",
      "Actual: 51.739583333333336  Predict: 36.774464902281764\n",
      "Actual: 43.79833333333333  Predict: 43.59434834234416\n",
      "Actual: 38.90958333333334  Predict: 37.80889073573053\n",
      "Actual: 42.550000000000004  Predict: 32.714611588418485\n",
      "Actual: 44.17166666666665  Predict: 37.15208940543234\n",
      "Actual: 45.03916666666667  Predict: 38.345201114192605\n",
      "Actual: 55.53958333333333  Predict: 39.38953526429832\n",
      "Actual: 56.69625  Predict: 44.82826485186815\n",
      "Actual: 59.76458333333333  Predict: 45.27252369411289\n",
      "Actual: 55.304782608695646  Predict: 46.94164451807737\n",
      "Actual: 68.100625  Predict: 44.45306588523089\n",
      "Actual: 55.07  Predict: 52.46105957776307\n",
      "Actual: 37.61666666666667  Predict: 44.232252317667005\n",
      "Actual: 47.068260869565215  Predict: 34.134341173619035\n",
      "Actual: 30.57625  Predict: 39.534400432556865\n",
      "Actual: 60.69391304347826  Predict: 28.713871024921534\n",
      "Actual: 53.39136363636363  Predict: 49.29048071578144\n",
      "Actual: 45.25333333333333  Predict: 42.981919777020806\n",
      "Actual: 41.18125  Predict: 37.994381215050815\n",
      "Actual: 25.082083333333333  Predict: 34.638042639195916\n",
      "Actual: 28.080416666666665  Predict: 25.454922591149806\n",
      "Actual: 29.19125  Predict: 26.6699684266001\n",
      "Actual: 65.4305  Predict: 27.41263860054314\n",
      "Actual: 43.51791666666667  Predict: 51.96167071610689\n",
      "Actual: 49.64952380952381  Predict: 36.64186082109809\n",
      "Actual: 54.72272727272728  Predict: 40.39774589911103\n",
      "Actual: 46.92083333333333  Predict: 44.43595372512936\n",
      "Actual: 67.76125  Predict: 39.0922857645899\n",
      "Actual: 86.4604761904762  Predict: 50.94193635731935\n",
      "Actual: 75.45  Predict: 61.12755005061626\n",
      "Actual: 76.72  Predict: 56.31222458109259\n",
      "Actual: 57.04208333333334  Predict: 56.03067800477147\n",
      "Actual: 64.61090909090909  Predict: 44.80464982837438\n",
      "Actual: 49.51285714285714  Predict: 49.25396183803677\n",
      "Actual: 64.33869565217391  Predict: 41.10698732882737\n",
      "Actual: 50.47916666666667  Predict: 49.26903897300362\n",
      "Actual: 51.114999999999995  Predict: 41.04649687372147\n",
      "Actual: 50.1752380952381  Predict: 42.14059090539813\n",
      "Actual: 46.17416666666667  Predict: 41.52735948748886\n",
      "Actual: 37.4404347826087  Predict: 39.012987699359655\n",
      "Actual: 31.527619047619048  Predict: 32.798549704998734\n",
      "Actual: 51.43  Predict: 29.59468277990818\n",
      "Actual: 46.48739130434783  Predict: 42.016112371534106\n",
      "Actual: 47.80583333333333  Predict: 38.98276066333055\n",
      "Actual: 54.592499999999994  Predict: 38.827686411887406\n",
      "Actual: 53.06250000000001  Predict: 43.30379817448556\n",
      "Actual: 35.081250000000004  Predict: 43.03330719359219\n",
      "Actual: 36.593125  Predict: 31.216612365469334\n",
      "Actual: 52.373043478260875  Predict: 33.64283045455814\n",
      "Actual: 34.568333333333335  Predict: 42.46534113809466\n",
      "Actual: 37.662608695652175  Predict: 30.54385343044996\n",
      "Actual: 58.314499999999995  Predict: 33.26752718985081\n",
      "Actual: 52.2755  Predict: 45.276416680216784\n",
      "Actual: 53.4252380952381  Predict: 41.89286115914582\n",
      "Actual: 37.165238095238095  Predict: 42.88896836675703\n",
      "Actual: 44.17227272727273  Predict: 33.3100735258311\n",
      "Actual: 58.48090909090908  Predict: 36.98174640163779\n",
      "Actual: 42.95  Predict: 44.938488507643335\n",
      "Actual: 60.24095238095238  Predict: 36.449236838892105\n",
      "Actual: 53.19608695652174  Predict: 45.848867552727455\n",
      "Actual: 49.64368421052631  Predict: 42.0821160711348\n",
      "Actual: 67.5604347826087  Predict: 41.28224689513444\n",
      "Actual: 54.55782608695652  Predict: 51.808454425632945\n",
      "Actual: 62.51363636363636  Predict: 43.7443629246205\n",
      "Actual: 77.9825  Predict: 47.982044447958465\n",
      "Actual: 77.9825  Predict: 56.66238958537578\n",
      "Actual: 74.02666666666667  Predict: 57.13181822001933\n",
      "Actual: 62.636818181818185  Predict: 54.41324293836951\n",
      "Actual: 44.14904761904762  Predict: 48.18275274336337\n",
      "Actual: 52.37125  Predict: 37.09163533337414\n",
      "Actual: 53.44294117647058  Predict: 41.851685251295564\n",
      "Actual: 55.650454545454544  Predict: 42.537728849798434\n",
      "Actual: 45.47533333333333  Predict: 43.251809224858874\n",
      "Actual: 55.11615384615384  Predict: 37.01390173919499\n",
      "Actual: 60.03578947368421  Predict: 43.51472282968461\n",
      "Actual: 58.64238095238095  Predict: 45.97711294479667\n",
      "Actual: 50.376086956521746  Predict: 45.89064014256\n",
      "Actual: 56.36954545454545  Predict: 41.041791332885616\n",
      "Actual: 40.9  Predict: 44.83926223441958\n",
      "Actual: 43.083333333333336  Predict: 34.651953091099855\n",
      "Actual: 69.13416666666667  Predict: 36.2689297311008\n",
      "Actual: 32.67333333333333  Predict: 52.85386551395058\n",
      "Actual: 25.829565217391306  Predict: 31.487787347659467\n",
      "Actual: 47.25521739130435  Predict: 25.68794145844877\n",
      "Actual: 46.2205  Predict: 39.79200938902795\n",
      "Actual: 53.40842105263158  Predict: 38.44166470132768\n",
      "Actual: 46.23086956521739  Predict: 42.03496121577918\n",
      "Actual: 54.7321052631579  Predict: 38.74572995863855\n",
      "Actual: 45.875789473684215  Predict: 44.178948727250095\n",
      "Actual: 45.43166666666666  Predict: 38.69085704609752\n",
      "Actual: 39.90130434782609  Predict: 36.5982593767345\n",
      "Actual: 34.41888888888889  Predict: 32.08106145113707\n",
      "Actual: 52.3552380952381  Predict: 30.67625619210303\n",
      "Actual: 45.68809523809525  Predict: 42.418787815794346\n",
      "Actual: 47.812105263157896  Predict: 37.78690567277372\n",
      "Actual: 40.778823529411774  Predict: 39.67857917398214\n",
      "Actual: 38.43714285714285  Predict: 34.621282181888816\n",
      "Actual: 31.443  Predict: 33.406973709538576\n",
      "Actual: 50.864285714285714  Predict: 29.726714434474705\n",
      "Actual: 43.17318181818182  Predict: 41.50731485374271\n",
      "Actual: 46.38652173913044  Predict: 34.988561771810055\n",
      "Actual: 42.34238095238096  Predict: 36.80564032308757\n",
      "Actual: 51.86  Predict: 37.31691188812256\n",
      "Actual: 37.912  Predict: 42.24576459415256\n",
      "Actual: 41.9975  Predict: 33.696842301636934\n",
      "Actual: 51.142222222222216  Predict: 35.35556242503226\n",
      "Actual: 55.121111111111105  Predict: 43.31399998106062\n",
      "Actual: 51.34736842105264  Predict: 44.69768851920962\n",
      "Actual: 51.61  Predict: 41.89514116346835\n",
      "Actual: 58.73449999999999  Predict: 41.62911559529602\n",
      "Actual: 58.13857142857143  Predict: 47.06309355683624\n",
      "Actual: 51.038947368421056  Predict: 46.85616376027464\n",
      "Actual: 58.98842105263159  Predict: 42.225615662336345\n",
      "Actual: 64.67190476190477  Predict: 47.3414796590805\n",
      "Actual: 64.67190476190477  Predict: 51.03372351005673\n",
      "Actual: 60.191999999999986  Predict: 50.483534211665386\n",
      "Actual: 60.48541666666667  Predict: 48.697325463593\n",
      "Actual: 35.31227272727273  Predict: 47.98275755569338\n",
      "Actual: 37.36833333333333  Predict: 30.053878076002\n",
      "Actual: 32.40347826086956  Predict: 32.35499426834285\n",
      "Actual: 28.005714285714287  Predict: 27.62757751867175\n",
      "Actual: 41.50565217391304  Predict: 24.596091048046947\n",
      "Actual: 21.024166666666662  Predict: 33.50944049954414\n",
      "Actual: 13.144210526315788  Predict: 20.618783592805265\n",
      "Actual: 13.555652173913042  Predict: 13.667077700700611\n",
      "Actual: 24.612608695652174  Predict: 15.517486155591905\n",
      "Actual: 26.84913043478261  Predict: 23.15135418139398\n",
      "Actual: 23.8275  Predict: 26.977800542116164\n",
      "Actual: 31.453043478260867  Predict: 24.95104648694396\n",
      "Actual: 29.355217391304347  Predict: 30.103397829458117\n",
      "Actual: 19.005789473684214  Predict: 28.673558608070014\n",
      "Actual: 14.912727272727272  Predict: 22.502508610859515\n",
      "Actual: 22.63904761904762  Predict: 19.818829523026942\n",
      "Actual: 19.7375  Predict: 24.91466101370752\n",
      "Actual: 16.440555555555555  Predict: 22.986029612645506\n",
      "Actual: 24.91130434782609  Predict: 20.816398116387425\n",
      "Actual: 34.054545454545455  Predict: 26.43757049664855\n",
      "Actual: 27.799  Predict: 32.67736019864678\n",
      "Actual: 29.916249999999998  Predict: 28.38890977054834\n",
      "Actual: 41.91652173913044  Predict: 29.830978547036647\n",
      "Actual: 27.94772727272727  Predict: 38.18632119596005\n",
      "Actual: 26.74681818181818  Predict: 28.489894557744265\n",
      "Actual: 36.0565  Predict: 27.67583841867745\n",
      "Actual: 28.758750000000003  Predict: 34.06753219589591\n",
      "Actual: 20.355454545454545  Predict: 22.519873026758432\n",
      "Actual: 19.163000000000004  Predict: 16.788909948989748\n",
      "Actual: 16.851363636363637  Predict: 19.491724094375968\n",
      "Actual: 19.635  Predict: 15.353573249094188\n",
      "Actual: 19.039444444444445  Predict: 20.79917559437454\n",
      "Actual: 22.777391304347827  Predict: 20.16222485490143\n",
      "Actual: 28.256190476190476  Predict: 23.130302949994803\n",
      "Actual: 24.873043478260872  Predict: 26.017642211169004\n",
      "Actual: 12.08  Predict: 24.019310592859984\n",
      "Actual: 14.462105263157891  Predict: 15.184758333303034\n",
      "Actual: 20.045882352941177  Predict: 14.83599892742932\n",
      "Actual: 23.752608695652167  Predict: 19.7161662645638\n",
      "Actual: 23.325333333333333  Predict: 22.39407500103116\n",
      "Actual: 18.912500000000005  Predict: 22.08647331148386\n",
      "Actual: 19.347368421052636  Predict: 19.976714971289038\n",
      "Actual: 17.9945  Predict: 22.392254635877908\n",
      "Actual: 16.4865  Predict: 21.11057567410171\n",
      "Actual: 19.142  Predict: 19.461598930880427\n",
      "Actual: 20.181428571428572  Predict: 22.84274225588888\n",
      "Actual: 21.92  Predict: 21.581321375072\n",
      "Actual: 24.003636363636364  Predict: 23.525661763362585\n",
      "Actual: 24.537  Predict: 23.72600501552224\n",
      "Actual: 17.421428571428574  Predict: 23.39302251189947\n",
      "Actual: 23.385  Predict: 20.244045478105544\n",
      "Actual: 24.558695652173913  Predict: 22.00567020084709\n",
      "Actual: 23.10772727272727  Predict: 21.82922575995326\n",
      "Actual: 18.98952380952381  Predict: 20.520308023132383\n",
      "Actual: 17.29  Predict: 19.04005645085126\n",
      "Actual: 12.232173913043477  Predict: 20.028227302990853\n",
      "Actual: 14.687142857142856  Predict: 18.455874470993876\n",
      "Actual: 25.761666666666667  Predict: 18.78385673109442\n",
      "Actual: 30.648749999999996  Predict: 23.675895856693387\n",
      "Actual: 24.919583333333335  Predict: 27.84532035700977\n",
      "Actual: 17.006666666666664  Predict: 22.671566080302\n",
      "Actual: 22.142727272727267  Predict: 20.678529408201577\n",
      "Actual: 16.42304347826087  Predict: 21.154739842936397\n",
      "Actual: 23.58458333333333  Predict: 18.885869945771994\n",
      "Actual: 18.496470588235297  Predict: 23.63556403554976\n",
      "Actual: 22.902916666666663  Predict: 20.7356944527477\n",
      "Actual: 27.406666666666666  Predict: 23.571765148639678\n",
      "Actual: 17.13375  Predict: 27.068641735613348\n",
      "Actual: 22.22347826086957  Predict: 20.39021801054478\n",
      "Actual: 23.37227272727273  Predict: 23.14940890111029\n",
      "Actual: 25.409999999999997  Predict: 23.863127871230244\n",
      "Actual: 23.069  Predict: 25.24963973388076\n",
      "Actual: 26.141739130434782  Predict: 23.42783866301179\n",
      "Actual: 21.992777777777782  Predict: 25.64896308667958\n",
      "Actual: 19.25714285714286  Predict: 23.272080410271883\n",
      "Actual: 22.126521739130432  Predict: 21.48507002238184\n",
      "Actual: 24.7585  Predict: 23.297956033796073\n",
      "Actual: 22.599444444444444  Predict: 25.00642876215279\n",
      "Actual: 26.10909090909091  Predict: 21.403422825038433\n",
      "Actual: 26.405833333333337  Predict: 25.668229123204945\n",
      "Actual: 22.35636363636364  Predict: 25.196382228657605\n",
      "Actual: 23.809411764705878  Predict: 24.24492914825678\n",
      "Actual: 34.25541666666667  Predict: 23.233465868979692\n",
      "Actual: 21.66904761904762  Predict: 30.42781333811581\n",
      "Actual: 13.125  Predict: 22.60901391915977\n",
      "Actual: 22.592916666666667  Predict: 18.606548799201846\n",
      "Actual: 26.147391304347824  Predict: 23.68373033963144\n",
      "Actual: 20.58315789473684  Predict: 25.960964699462057\n",
      "Actual: 25.022499999999997  Predict: 22.52177222184837\n",
      "Actual: 27.69625  Predict: 25.934009712189436\n",
      "Actual: 25.86521739130435  Predict: 26.565934740006924\n",
      "Actual: 20.472999999999995  Predict: 24.525224147737028\n",
      "Actual: 24.110416666666666  Predict: 23.671115124225615\n",
      "Actual: 26.95823529411765  Predict: 24.0205415526405\n",
      "Actual: 25.508333333333336  Predict: 25.980652779340744\n",
      "Actual: 25.917916666666667  Predict: 24.579956379160286\n",
      "Actual: 29.45  Predict: 25.22952718511224\n",
      "Actual: 27.371666666666663  Predict: 28.11674274392426\n",
      "Actual: 25.25260869565217  Predict: 26.162888188660144\n",
      "Actual: 25.032608695652176  Predict: 24.88466925472021\n",
      "Actual: 33.152499999999996  Predict: 25.590723529458046\n",
      "Actual: 23.82526315789474  Predict: 29.45102795436978\n",
      "Actual: 25.611666666666665  Predict: 24.766962818801403\n",
      "Actual: 23.425833333333333  Predict: 26.304735989496113\n",
      "Actual: 17.025454545454547  Predict: 23.663659024983644\n",
      "Actual: 9.60578947368421  Predict: 18.215707547590135\n",
      "Actual: 18.453333333333333  Predict: 13.633146264031529\n",
      "Actual: 10.493913043478258  Predict: 20.104110212810337\n",
      "Actual: 11.342631578947367  Predict: 14.339338187966495\n",
      "Actual: 13.606666666666667  Predict: 16.15324110556394\n",
      "Actual: 22.162500000000005  Predict: 18.658001705259085\n",
      "Actual: 25.425833333333337  Predict: 25.129260356724263\n",
      "Actual: 15.926666666666666  Predict: 26.215274926275015\n",
      "Actual: 13.733809523809525  Predict: 17.669004957936703\n",
      "Actual: 25.683333333333337  Predict: 15.716741554625333\n",
      "Actual: 39.76083333333333  Predict: 24.254871422424912\n",
      "Actual: 23.85818181818182  Predict: 33.678561032935974\n",
      "Actual: 21.564090909090908  Predict: 23.198937143944203\n",
      "Actual: 12.588636363636365  Predict: 21.63258994035423\n",
      "Actual: 16.0025  Predict: 16.493968347273768\n",
      "Actual: 28.229047619047616  Predict: 20.097693455964325\n",
      "Actual: 27.8625  Predict: 27.609909910708666\n",
      "Actual: 32.4775  Predict: 27.461651416867973\n",
      "Actual: 37.275416666666665  Predict: 30.278941183537246\n",
      "Actual: 19.855000000000004  Predict: 32.25418654531241\n",
      "Actual: 20.989166666666662  Predict: 21.7672872595489\n",
      "Actual: 23.06041666666667  Predict: 21.271279595792294\n",
      "Actual: 32.42318181818182  Predict: 25.11660875827074\n",
      "Actual: 32.37590909090909  Predict: 30.002129254490136\n",
      "Actual: 25.614545454545453  Predict: 28.748951559513806\n",
      "Actual: 38.822916666666664  Predict: 22.319459434039892\n",
      "Actual: 39.04875  Predict: 32.37447132654488\n",
      "Actual: 40.623125  Predict: 32.94273572303355\n",
      "Actual: 37.01238095238095  Predict: 33.2999008256942\n",
      "Actual: 46.12649999999999  Predict: 31.316073915734886\n",
      "Actual: 55.85545454545454  Predict: 37.13856946490705\n",
      "Actual: 34.224347826086955  Predict: 49.60623220801353\n",
      "Actual: 25.689999999999998  Predict: 35.98135569654405\n",
      "Actual: 30.93428571428571  Predict: 25.702031400054693\n",
      "Actual: 20.225416666666664  Predict: 31.937821392342446\n",
      "Actual: 30.684736842105263  Predict: 23.923670475371182\n",
      "Actual: 21.493529411764705  Predict: 28.497539848834275\n",
      "Actual: 23.288749999999997  Predict: 24.819684280455114\n",
      "Actual: 26.141428571428573  Predict: 25.036966266855597\n",
      "Actual: 24.766363636363636  Predict: 28.34859735369682\n",
      "Actual: 36.806666666666665  Predict: 27.362017653509973\n",
      "Actual: 35.43590909090909  Predict: 35.86852944009006\n",
      "Actual: 30.49590909090909  Predict: 33.372793048992754\n",
      "Actual: 17.65791666666667  Predict: 30.466544305160642\n",
      "Actual: 25.328095238095237  Predict: 21.417486085742713\n",
      "Actual: 23.90666666666666  Predict: 27.874802753329277\n",
      "Actual: 30.730416666666667  Predict: 25.104988012835385\n",
      "Actual: 36.89  Predict: 30.11970228590071\n",
      "Actual: 53.89526315789474  Predict: 33.94111808389425\n",
      "Actual: 35.207368421052635  Predict: 45.108763596415514\n",
      "Actual: 42.0275  Predict: 32.590584204345944\n",
      "Actual: 30.93875  Predict: 37.35153399631381\n",
      "Actual: 28.13875  Predict: 31.010206484794615\n",
      "Actual: 21.71125  Predict: 28.050884576514363\n",
      "Actual: 24.537647058823527  Predict: 22.098419078812004\n",
      "Actual: 32.45782608695652  Predict: 25.71983968913555\n",
      "Actual: 18.422000000000004  Predict: 30.81509147658944\n",
      "Actual: 9.710434782608695  Predict: 22.060017984732987\n",
      "Actual: 9.206  Predict: 17.074470788240433\n",
      "Actual: 12.18388888888889  Predict: 16.78937080092728\n",
      "Actual: 7.841818181818183  Predict: 18.47931364309043\n",
      "Actual: 23.13818181818182  Predict: 16.020725556463002\n",
      "Actual: 29.47666666666667  Predict: 24.854505282640456\n",
      "Actual: 29.221666666666668  Predict: 28.85938138589263\n",
      "Actual: 14.458333333333334  Predict: 28.69295319803059\n",
      "Actual: 12.356315789473683  Predict: 19.780537578091025\n",
      "Actual: 27.03833333333333  Predict: 18.577671574242412\n",
      "Actual: 27.242499999999996  Predict: 27.275746170803906\n",
      "Actual: 22.93285714285714  Predict: 27.4058616515249\n",
      "Actual: 17.70111111111111  Predict: 24.7278728723526\n",
      "Actual: 22.795833333333334  Predict: 21.643238045647742\n",
      "Actual: 34.444583333333334  Predict: 24.643405988812447\n",
      "Actual: 35.106521739130436  Predict: 32.12874992452562\n",
      "Actual: 37.90083333333333  Predict: 32.56825956627726\n",
      "Actual: 41.520833333333336  Predict: 34.43369846455753\n",
      "Actual: 42.67166666666666  Predict: 36.87463713474572\n",
      "Actual: 37.449090909090906  Predict: 37.65335078127682\n",
      "Actual: 10.080416666666666  Predict: 34.13101576305926\n",
      "Actual: 43.784  Predict: 17.283881908655168\n",
      "Actual: 13.692727272727272  Predict: 38.3967195097357\n",
      "Actual: 15.952000000000002  Predict: 19.34189627841115\n",
      "Actual: 22.023750000000003  Predict: 20.63606311492622\n",
      "Actual: 27.874166666666667  Predict: 24.168187598511576\n",
      "Actual: 23.888571428571428  Predict: 27.815760343521834\n",
      "Actual: 35.3195  Predict: 25.318013182654976\n"
     ]
    }
   ],
   "source": [
    "for i in range(0, len(inv_y)):\n",
    "    print(f\"Actual: {inv_y[i]}  Predict: {inv_yhat[i]}\")"
   ]
  },
  {
   "cell_type": "code",
   "execution_count": null,
   "metadata": {},
   "outputs": [
    {
     "data": {
      "image/png": "[encoded data removed]",
      "text/plain": [
       "<Figure size 1200x200 with 1 Axes>"
      ]
     },
     "metadata": {},
     "output_type": "display_data"
    },
    {
     "data": {
      "text/plain": [
       "<Figure size 640x480 with 0 Axes>"
      ]
     },
     "metadata": {},
     "output_type": "display_data"
    }
   ],
   "source": [
    "# Plot predictions\n",
    "\n",
    "plt.figure(figsize=(12,2))\n",
    "plt.plot(inv_y, color='red', label='test')\n",
    "plt.plot(inv_yhat, color='black', label='predictions')\n",
    "plt.legend(loc='upper left')\n",
    "plt.title('PM2.5 1-Day Forecast\\n')\n",
    "plt.show()\n",
    "# plt.savefig(f\"graphs/ltsm/predictions.png\")"
   ]
  }
 ],
 "metadata": {
  "kernelspec": {
   "display_name": "env",
   "language": "python",
   "name": "python3"
  },
  "language_info": {
   "codemirror_mode": {
    "name": "ipython",
    "version": 3
   },
   "file_extension": ".py",
   "mimetype": "text/x-python",
   "name": "python",
   "nbconvert_exporter": "python",
   "pygments_lexer": "ipython3",
   "version": "3.9.6"
  }
 },
 "nbformat": 4,
 "nbformat_minor": 2
}
