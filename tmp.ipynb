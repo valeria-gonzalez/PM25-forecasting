{
 "cells": [
  {
   "cell_type": "code",
   "execution_count": null,
   "id": "be728b23",
   "metadata": {
    "vscode": {
     "languageId": "plaintext"
    }
   },
   "outputs": [],
   "source": [
    "Firstly, I would like to look at the correlation between the features to determine dependencies betweeen them."
   ]
  },
  {
   "cell_type": "markdown",
   "id": "a5cb5dd6",
   "metadata": {},
   "source": [
    "The exogenous variable that has the most correlation with PM2.5 is wind direction, while the pollutants that have the most correlation with PM2.5 are pm10 and o3."
   ]
  },
  {
   "cell_type": "code",
   "execution_count": null,
   "id": "85cb4a3a",
   "metadata": {
    "vscode": {
     "languageId": "plaintext"
    }
   },
   "outputs": [],
   "source": [
    "# Compute the correlation matrix\n",
    "corr_matrix = df.corr()\n",
    "\n",
    "# Heatmap\n",
    "plt.figure(figsize=(10, 6))\n",
    "sns.heatmap(\n",
    "    corr_matrix, annot=True, fmt=\".2f\", cmap=\"YlGnBu\", linewidths=0.5, vmin=-1, vmax=1\n",
    ")\n",
    "\n",
    "# Formatting\n",
    "plt.title(\"Feature Correlation Heatmap\")\n",
    "plt.savefig(f\"graphs/correlation_matrix/correlation.png\")\n",
    "plt.show()"
   ]
  },
  {
   "cell_type": "code",
   "execution_count": null,
   "id": "5545ec0f",
   "metadata": {
    "vscode": {
     "languageId": "plaintext"
    }
   },
   "outputs": [],
   "source": [
    "# Set pollutant to forecast\n",
    "pollutant = \"pm10\"\n",
    "\n",
    "# Select all other features \n",
    "variables = [feature for feature in features if feature != pollutant]\n",
    "print(variables)"
   ]
  },
  {
   "cell_type": "code",
   "execution_count": null,
   "id": "9da4309b",
   "metadata": {
    "vscode": {
     "languageId": "plaintext"
    }
   },
   "outputs": [],
   "source": [
    "# Set up the plot grid\n",
    "sns.set_theme(style=\"whitegrid\")\n",
    "fig, axes = plt.subplots(nrows=2, ncols=4, figsize=(20, 10))\n",
    "axes = axes.flatten()\n",
    "\n",
    "# Create scatter plots for each variable against pm25\n",
    "for i, var in enumerate(variables):\n",
    "    sns.scatterplot(data=df, x=var, y=pollutant, ax=axes[i])\n",
    "    axes[i].set_title(f'{pollutant} vs {var.upper()}')\n",
    "\n",
    "# Hide any unused subplots\n",
    "for j in range(len(variables), len(axes)):\n",
    "    fig.delaxes(axes[j])\n",
    "\n",
    "plt.tight_layout()\n",
    "plt.show()"
   ]
  }
 ],
 "metadata": {
  "language_info": {
   "name": "python"
  }
 },
 "nbformat": 4,
 "nbformat_minor": 5
}
