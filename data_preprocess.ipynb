{
 "cells": [
  {
   "cell_type": "markdown",
   "metadata": {},
   "source": [
    "# Data Preprocessing\n"
   ]
  },
  {
   "cell_type": "markdown",
   "metadata": {},
   "source": [
    "Before using interpolation methods and outlier removal, I'll apply certain changes to only get the relevant data and give it a certain format. These changes will mostly be: \n",
    "- Editing column names \n",
    "- Eliminating irrelevant features to the project\n",
    "- Accurately replacing null values\n",
    "- Determine column data types\n",
    "- Extract relevant instances \n",
    "- Reduce number of instances\n"
   ]
  },
  {
   "cell_type": "code",
   "execution_count": 49,
   "metadata": {},
   "outputs": [],
   "source": [
    "import pandas as pd\n",
    "import numpy as np"
   ]
  },
  {
   "cell_type": "markdown",
   "metadata": {},
   "source": [
    "## Edit column names and eliminate innecessary features"
   ]
  },
  {
   "cell_type": "markdown",
   "metadata": {},
   "source": [
    "The data was obtained from the official page of the SEMADET link here, describe columns "
   ]
  },
  {
   "cell_type": "code",
   "execution_count": 67,
   "metadata": {},
   "outputs": [],
   "source": [
    "filename = \"semadet-aire-2023\"\n",
    "filepath = f\"datasets/{filename}.csv\"\n",
    "\n",
    "df = pd.read_csv(filepath,\n",
    "                     encoding='utf-8',\n",
    "                     )\n",
    "\n",
    "df.columns = df.columns.str.lower().str.strip()\n",
    "\n",
    "df.rename({\"pm2.5\": \"pm25\", \n",
    "           \"date_time\": \"date\",\n",
    "           \"precipitacion\": \"pp\", \n",
    "           \"rad solar\": \"rs\",\n",
    "           \"presion barometrica\": \"pba\"},\n",
    "          axis=\"columns\",\n",
    "          inplace=True)\n",
    "\n",
    "df.drop([\"rs\", \"nox\", \"no\", \"tmpi\", \"uvi\"], axis=\"columns\", inplace=True)"
   ]
  },
  {
   "cell_type": "code",
   "execution_count": 68,
   "metadata": {},
   "outputs": [
    {
     "data": {
      "text/html": [
       "<div>\n",
       "<style scoped>\n",
       "    .dataframe tbody tr th:only-of-type {\n",
       "        vertical-align: middle;\n",
       "    }\n",
       "\n",
       "    .dataframe tbody tr th {\n",
       "        vertical-align: top;\n",
       "    }\n",
       "\n",
       "    .dataframe thead th {\n",
       "        text-align: right;\n",
       "    }\n",
       "</style>\n",
       "<table border=\"1\" class=\"dataframe\">\n",
       "  <thead>\n",
       "    <tr style=\"text-align: right;\">\n",
       "      <th></th>\n",
       "      <th>estacion</th>\n",
       "      <th>date</th>\n",
       "      <th>hora</th>\n",
       "      <th>o3</th>\n",
       "      <th>no2</th>\n",
       "      <th>so2</th>\n",
       "      <th>co</th>\n",
       "      <th>pm10</th>\n",
       "      <th>pm25</th>\n",
       "      <th>tmp</th>\n",
       "      <th>rh</th>\n",
       "      <th>ws</th>\n",
       "      <th>wd</th>\n",
       "      <th>pp</th>\n",
       "      <th>pba</th>\n",
       "    </tr>\n",
       "  </thead>\n",
       "  <tbody>\n",
       "    <tr>\n",
       "      <th>0</th>\n",
       "      <td>Aguilas</td>\n",
       "      <td>1/1/2023</td>\n",
       "      <td>0</td>\n",
       "      <td>0.002</td>\n",
       "      <td>SE</td>\n",
       "      <td>SE</td>\n",
       "      <td>SE</td>\n",
       "      <td>61.8</td>\n",
       "      <td>58.1</td>\n",
       "      <td>12.6</td>\n",
       "      <td>88.7</td>\n",
       "      <td>0.38</td>\n",
       "      <td>190.77</td>\n",
       "      <td>0.25</td>\n",
       "      <td>SE</td>\n",
       "    </tr>\n",
       "    <tr>\n",
       "      <th>1</th>\n",
       "      <td>Aguilas</td>\n",
       "      <td>1/1/2023</td>\n",
       "      <td>1</td>\n",
       "      <td>0.002</td>\n",
       "      <td>SE</td>\n",
       "      <td>SE</td>\n",
       "      <td>SE</td>\n",
       "      <td>83.8</td>\n",
       "      <td>76.5</td>\n",
       "      <td>12.1</td>\n",
       "      <td>89.8</td>\n",
       "      <td>1.27</td>\n",
       "      <td>215.13</td>\n",
       "      <td>0</td>\n",
       "      <td>SE</td>\n",
       "    </tr>\n",
       "    <tr>\n",
       "      <th>2</th>\n",
       "      <td>Aguilas</td>\n",
       "      <td>1/1/2023</td>\n",
       "      <td>2</td>\n",
       "      <td>0.003</td>\n",
       "      <td>SE</td>\n",
       "      <td>SE</td>\n",
       "      <td>SE</td>\n",
       "      <td>98.2</td>\n",
       "      <td>95</td>\n",
       "      <td>11.8</td>\n",
       "      <td>89.5</td>\n",
       "      <td>2.44</td>\n",
       "      <td>240.82</td>\n",
       "      <td>0</td>\n",
       "      <td>SE</td>\n",
       "    </tr>\n",
       "  </tbody>\n",
       "</table>\n",
       "</div>"
      ],
      "text/plain": [
       "  estacion      date  hora     o3 no2 so2  co  pm10  pm25   tmp    rh    ws  \\\n",
       "0  Aguilas  1/1/2023     0  0.002  SE  SE  SE  61.8  58.1  12.6  88.7  0.38   \n",
       "1  Aguilas  1/1/2023     1  0.002  SE  SE  SE  83.8  76.5  12.1  89.8  1.27   \n",
       "2  Aguilas  1/1/2023     2  0.003  SE  SE  SE  98.2    95  11.8  89.5  2.44   \n",
       "\n",
       "       wd    pp pba  \n",
       "0  190.77  0.25  SE  \n",
       "1  215.13     0  SE  \n",
       "2  240.82     0  SE  "
      ]
     },
     "execution_count": 68,
     "metadata": {},
     "output_type": "execute_result"
    }
   ],
   "source": [
    "df.head(3)"
   ]
  },
  {
   "cell_type": "markdown",
   "metadata": {},
   "source": [
    "## Replace null values"
   ]
  },
  {
   "cell_type": "markdown",
   "metadata": {},
   "source": [
    "I will replace all the identifiers for the null values (which are quite varied) with nan to see which columns to keep based on amount of values."
   ]
  },
  {
   "cell_type": "code",
   "execution_count": 66,
   "metadata": {},
   "outputs": [],
   "source": [
    "def replace_with_null(row):\n",
    "    null_values = [\"IO\", \"SE\", \"ND\", \"IF\", \"VE\", \"IR\", \"VZ\", \"IC\", \"IR 1000\", \"IR valor 1000\", \" \", \"\", \"-\", \"SD\"]\n",
    "    exclude_columns = [\"estacion\", \"date\", \"hora\"]\n",
    "    \n",
    "    for column in row.index:\n",
    "        if column not in exclude_columns and row[column] in null_values:\n",
    "            row[column] = np.nan\n",
    "            \n",
    "    return row\n",
    "    "
   ]
  },
  {
   "cell_type": "code",
   "execution_count": 69,
   "metadata": {},
   "outputs": [],
   "source": [
    "df = df.apply(replace_with_null, axis=\"columns\")"
   ]
  },
  {
   "cell_type": "markdown",
   "metadata": {},
   "source": [
    "Sice the no2 and so2 columns have no useful data, they'll be dropped entirely."
   ]
  },
  {
   "cell_type": "code",
   "execution_count": 70,
   "metadata": {},
   "outputs": [
    {
     "name": "stdout",
     "output_type": "stream",
     "text": [
      "<class 'pandas.core.frame.DataFrame'>\n",
      "RangeIndex: 87600 entries, 0 to 87599\n",
      "Data columns (total 15 columns):\n",
      " #   Column    Non-Null Count  Dtype  \n",
      "---  ------    --------------  -----  \n",
      " 0   estacion  87600 non-null  object \n",
      " 1   date      87600 non-null  object \n",
      " 2   hora      87600 non-null  int64  \n",
      " 3   o3        49551 non-null  object \n",
      " 4   no2       0 non-null      float64\n",
      " 5   so2       0 non-null      float64\n",
      " 6   co        28843 non-null  object \n",
      " 7   pm10      57768 non-null  object \n",
      " 8   pm25      50068 non-null  object \n",
      " 9   tmp       44625 non-null  object \n",
      " 10  rh        46416 non-null  object \n",
      " 11  ws        49970 non-null  object \n",
      " 12  wd        39858 non-null  object \n",
      " 13  pp        38714 non-null  object \n",
      " 14  pba       39048 non-null  object \n",
      "dtypes: float64(2), int64(1), object(12)\n",
      "memory usage: 10.0+ MB\n"
     ]
    }
   ],
   "source": [
    "df.info()"
   ]
  },
  {
   "cell_type": "code",
   "execution_count": 71,
   "metadata": {},
   "outputs": [],
   "source": [
    "df.drop([\"no2\", \"so2\"], axis=\"columns\", inplace=True)"
   ]
  },
  {
   "cell_type": "markdown",
   "metadata": {},
   "source": [
    "## Specify data tyoes"
   ]
  },
  {
   "cell_type": "markdown",
   "metadata": {},
   "source": [
    "Now that the null values have been replaced, I can specify the correct data type for each column."
   ]
  },
  {
   "cell_type": "code",
   "execution_count": 72,
   "metadata": {},
   "outputs": [],
   "source": [
    "float_cols = [\"o3\", \"co\", \"pm10\", \"pm25\", \"tmp\", \"rh\", \"ws\", \"wd\", \"pp\"]\n",
    "df[float_cols] = df[float_cols].astype('float')"
   ]
  },
  {
   "cell_type": "markdown",
   "metadata": {},
   "source": [
    "## Extract relevant instances"
   ]
  },
  {
   "cell_type": "markdown",
   "metadata": {},
   "source": [
    "The AQI daily forecasting will only be done for the Tlaquepaque region, so I'll also extract all the pertaining rows and can also now drop the column estacion. I'll also convert the date column into the index."
   ]
  },
  {
   "cell_type": "code",
   "execution_count": 73,
   "metadata": {},
   "outputs": [],
   "source": [
    "df = df[df[\"estacion\"] == \"Tlaquepaque\"]"
   ]
  },
  {
   "cell_type": "code",
   "execution_count": 74,
   "metadata": {},
   "outputs": [
    {
     "data": {
      "text/html": [
       "<div>\n",
       "<style scoped>\n",
       "    .dataframe tbody tr th:only-of-type {\n",
       "        vertical-align: middle;\n",
       "    }\n",
       "\n",
       "    .dataframe tbody tr th {\n",
       "        vertical-align: top;\n",
       "    }\n",
       "\n",
       "    .dataframe thead th {\n",
       "        text-align: right;\n",
       "    }\n",
       "</style>\n",
       "<table border=\"1\" class=\"dataframe\">\n",
       "  <thead>\n",
       "    <tr style=\"text-align: right;\">\n",
       "      <th></th>\n",
       "      <th>estacion</th>\n",
       "      <th>date</th>\n",
       "      <th>hora</th>\n",
       "      <th>o3</th>\n",
       "      <th>co</th>\n",
       "      <th>pm10</th>\n",
       "      <th>pm25</th>\n",
       "      <th>tmp</th>\n",
       "      <th>rh</th>\n",
       "      <th>ws</th>\n",
       "      <th>wd</th>\n",
       "      <th>pp</th>\n",
       "      <th>pba</th>\n",
       "    </tr>\n",
       "  </thead>\n",
       "  <tbody>\n",
       "    <tr>\n",
       "      <th>70080</th>\n",
       "      <td>Tlaquepaque</td>\n",
       "      <td>1/1/2023</td>\n",
       "      <td>0</td>\n",
       "      <td>0.002</td>\n",
       "      <td>NaN</td>\n",
       "      <td>185.39</td>\n",
       "      <td>120.36</td>\n",
       "      <td>13.9</td>\n",
       "      <td>83.4</td>\n",
       "      <td>0.21</td>\n",
       "      <td>180.01</td>\n",
       "      <td>0.0</td>\n",
       "      <td>NaN</td>\n",
       "    </tr>\n",
       "    <tr>\n",
       "      <th>70081</th>\n",
       "      <td>Tlaquepaque</td>\n",
       "      <td>1/1/2023</td>\n",
       "      <td>1</td>\n",
       "      <td>0.002</td>\n",
       "      <td>NaN</td>\n",
       "      <td>244.20</td>\n",
       "      <td>164.48</td>\n",
       "      <td>13.4</td>\n",
       "      <td>84.2</td>\n",
       "      <td>0.09</td>\n",
       "      <td>196.35</td>\n",
       "      <td>0.0</td>\n",
       "      <td>NaN</td>\n",
       "    </tr>\n",
       "    <tr>\n",
       "      <th>70082</th>\n",
       "      <td>Tlaquepaque</td>\n",
       "      <td>1/1/2023</td>\n",
       "      <td>2</td>\n",
       "      <td>0.003</td>\n",
       "      <td>NaN</td>\n",
       "      <td>232.98</td>\n",
       "      <td>175.42</td>\n",
       "      <td>12.9</td>\n",
       "      <td>86.1</td>\n",
       "      <td>0.11</td>\n",
       "      <td>168.65</td>\n",
       "      <td>0.0</td>\n",
       "      <td>NaN</td>\n",
       "    </tr>\n",
       "  </tbody>\n",
       "</table>\n",
       "</div>"
      ],
      "text/plain": [
       "          estacion      date  hora     o3  co    pm10    pm25   tmp    rh  \\\n",
       "70080  Tlaquepaque  1/1/2023     0  0.002 NaN  185.39  120.36  13.9  83.4   \n",
       "70081  Tlaquepaque  1/1/2023     1  0.002 NaN  244.20  164.48  13.4  84.2   \n",
       "70082  Tlaquepaque  1/1/2023     2  0.003 NaN  232.98  175.42  12.9  86.1   \n",
       "\n",
       "         ws      wd   pp  pba  \n",
       "70080  0.21  180.01  0.0  NaN  \n",
       "70081  0.09  196.35  0.0  NaN  \n",
       "70082  0.11  168.65  0.0  NaN  "
      ]
     },
     "execution_count": 74,
     "metadata": {},
     "output_type": "execute_result"
    }
   ],
   "source": [
    "df.head(3)"
   ]
  },
  {
   "cell_type": "code",
   "execution_count": 75,
   "metadata": {},
   "outputs": [],
   "source": [
    "df.drop(\"estacion\", axis=\"columns\", inplace=True)"
   ]
  },
  {
   "cell_type": "markdown",
   "metadata": {},
   "source": [
    "In order to convert the data in a timeseries, the dates will be used as the index."
   ]
  },
  {
   "cell_type": "code",
   "execution_count": 76,
   "metadata": {},
   "outputs": [],
   "source": [
    "df.index = pd.to_datetime(df['date'], format='%m/%d/%Y')\n",
    "df.drop(\"date\", axis=\"columns\", inplace=True)"
   ]
  },
  {
   "cell_type": "code",
   "execution_count": 77,
   "metadata": {},
   "outputs": [],
   "source": [
    "df = df.sort_index()"
   ]
  },
  {
   "cell_type": "code",
   "execution_count": 78,
   "metadata": {},
   "outputs": [
    {
     "data": {
      "text/html": [
       "<div>\n",
       "<style scoped>\n",
       "    .dataframe tbody tr th:only-of-type {\n",
       "        vertical-align: middle;\n",
       "    }\n",
       "\n",
       "    .dataframe tbody tr th {\n",
       "        vertical-align: top;\n",
       "    }\n",
       "\n",
       "    .dataframe thead th {\n",
       "        text-align: right;\n",
       "    }\n",
       "</style>\n",
       "<table border=\"1\" class=\"dataframe\">\n",
       "  <thead>\n",
       "    <tr style=\"text-align: right;\">\n",
       "      <th></th>\n",
       "      <th>hora</th>\n",
       "      <th>o3</th>\n",
       "      <th>co</th>\n",
       "      <th>pm10</th>\n",
       "      <th>pm25</th>\n",
       "      <th>tmp</th>\n",
       "      <th>rh</th>\n",
       "      <th>ws</th>\n",
       "      <th>wd</th>\n",
       "      <th>pp</th>\n",
       "      <th>pba</th>\n",
       "    </tr>\n",
       "    <tr>\n",
       "      <th>date</th>\n",
       "      <th></th>\n",
       "      <th></th>\n",
       "      <th></th>\n",
       "      <th></th>\n",
       "      <th></th>\n",
       "      <th></th>\n",
       "      <th></th>\n",
       "      <th></th>\n",
       "      <th></th>\n",
       "      <th></th>\n",
       "      <th></th>\n",
       "    </tr>\n",
       "  </thead>\n",
       "  <tbody>\n",
       "    <tr>\n",
       "      <th>2023-01-01</th>\n",
       "      <td>0</td>\n",
       "      <td>0.002</td>\n",
       "      <td>NaN</td>\n",
       "      <td>185.39</td>\n",
       "      <td>120.36</td>\n",
       "      <td>13.9</td>\n",
       "      <td>83.4</td>\n",
       "      <td>0.21</td>\n",
       "      <td>180.01</td>\n",
       "      <td>0.0</td>\n",
       "      <td>NaN</td>\n",
       "    </tr>\n",
       "    <tr>\n",
       "      <th>2023-01-01</th>\n",
       "      <td>1</td>\n",
       "      <td>0.002</td>\n",
       "      <td>NaN</td>\n",
       "      <td>244.20</td>\n",
       "      <td>164.48</td>\n",
       "      <td>13.4</td>\n",
       "      <td>84.2</td>\n",
       "      <td>0.09</td>\n",
       "      <td>196.35</td>\n",
       "      <td>0.0</td>\n",
       "      <td>NaN</td>\n",
       "    </tr>\n",
       "    <tr>\n",
       "      <th>2023-01-01</th>\n",
       "      <td>2</td>\n",
       "      <td>0.003</td>\n",
       "      <td>NaN</td>\n",
       "      <td>232.98</td>\n",
       "      <td>175.42</td>\n",
       "      <td>12.9</td>\n",
       "      <td>86.1</td>\n",
       "      <td>0.11</td>\n",
       "      <td>168.65</td>\n",
       "      <td>0.0</td>\n",
       "      <td>NaN</td>\n",
       "    </tr>\n",
       "  </tbody>\n",
       "</table>\n",
       "</div>"
      ],
      "text/plain": [
       "            hora     o3  co    pm10    pm25   tmp    rh    ws      wd   pp  \\\n",
       "date                                                                         \n",
       "2023-01-01     0  0.002 NaN  185.39  120.36  13.9  83.4  0.21  180.01  0.0   \n",
       "2023-01-01     1  0.002 NaN  244.20  164.48  13.4  84.2  0.09  196.35  0.0   \n",
       "2023-01-01     2  0.003 NaN  232.98  175.42  12.9  86.1  0.11  168.65  0.0   \n",
       "\n",
       "            pba  \n",
       "date             \n",
       "2023-01-01  NaN  \n",
       "2023-01-01  NaN  \n",
       "2023-01-01  NaN  "
      ]
     },
     "execution_count": 78,
     "metadata": {},
     "output_type": "execute_result"
    }
   ],
   "source": [
    "df.head(3)"
   ]
  },
  {
   "cell_type": "markdown",
   "metadata": {},
   "source": [
    "## Reduce number of instances"
   ]
  },
  {
   "cell_type": "markdown",
   "metadata": {},
   "source": [
    "Finally, since I want to forecast the daily AQI, I'll only leave one entry for each day. It'll be the average of every feauture, except wind direction, which should use the cirular mean, which is a way to calculate the average of angular data."
   ]
  },
  {
   "cell_type": "code",
   "execution_count": 80,
   "metadata": {},
   "outputs": [],
   "source": [
    "# Define a function for circular mean\n",
    "def circular_mean(angles):\n",
    "    angles_rad = np.deg2rad(angles)  # Convert degrees to radians\n",
    "    mean_sin = np.mean(np.sin(angles_rad))\n",
    "    mean_cos = np.mean(np.cos(angles_rad))\n",
    "    mean_angle = np.arctan2(mean_sin, mean_cos)  # Compute mean angle\n",
    "    return np.rad2deg(mean_angle) % 360  # Convert back to degrees and normalize"
   ]
  },
  {
   "cell_type": "code",
   "execution_count": 81,
   "metadata": {},
   "outputs": [],
   "source": [
    "aggregation_functions = {col: \"mean\" for col in df.columns if col not in [\"wd\", \"hora\"]}\n",
    "aggregation_functions[\"wd\"] = circular_mean"
   ]
  },
  {
   "cell_type": "code",
   "execution_count": 82,
   "metadata": {},
   "outputs": [],
   "source": [
    "df_daily = df.groupby(\"date\").agg(aggregation_functions)"
   ]
  },
  {
   "cell_type": "markdown",
   "metadata": {},
   "source": [
    "After grouping the values by dates, the pba (Barometric Pressure) and co (Carbon dioxide) has no relevant information at all, so I'll eliminate it."
   ]
  },
  {
   "cell_type": "code",
   "execution_count": 83,
   "metadata": {},
   "outputs": [
    {
     "name": "stdout",
     "output_type": "stream",
     "text": [
      "<class 'pandas.core.frame.DataFrame'>\n",
      "DatetimeIndex: 365 entries, 2023-01-01 to 2023-12-31\n",
      "Data columns (total 10 columns):\n",
      " #   Column  Non-Null Count  Dtype  \n",
      "---  ------  --------------  -----  \n",
      " 0   o3      180 non-null    float64\n",
      " 1   co      0 non-null      float64\n",
      " 2   pm10    365 non-null    float64\n",
      " 3   pm25    365 non-null    float64\n",
      " 4   tmp     131 non-null    float64\n",
      " 5   rh      315 non-null    float64\n",
      " 6   ws      319 non-null    float64\n",
      " 7   pp      365 non-null    float64\n",
      " 8   pba     0 non-null      object \n",
      " 9   wd      257 non-null    float64\n",
      "dtypes: float64(9), object(1)\n",
      "memory usage: 31.4+ KB\n"
     ]
    }
   ],
   "source": [
    "df_daily.info()"
   ]
  },
  {
   "cell_type": "code",
   "execution_count": 84,
   "metadata": {},
   "outputs": [],
   "source": [
    "df_daily.drop([\"pba\", \"co\"], axis=\"columns\", inplace=True)"
   ]
  },
  {
   "cell_type": "markdown",
   "metadata": {},
   "source": [
    "I'll just corroborate that all the months have complete dates."
   ]
  },
  {
   "cell_type": "code",
   "execution_count": 86,
   "metadata": {},
   "outputs": [
    {
     "data": {
      "text/html": [
       "<div>\n",
       "<style scoped>\n",
       "    .dataframe tbody tr th:only-of-type {\n",
       "        vertical-align: middle;\n",
       "    }\n",
       "\n",
       "    .dataframe tbody tr th {\n",
       "        vertical-align: top;\n",
       "    }\n",
       "\n",
       "    .dataframe thead th {\n",
       "        text-align: right;\n",
       "    }\n",
       "</style>\n",
       "<table border=\"1\" class=\"dataframe\">\n",
       "  <thead>\n",
       "    <tr style=\"text-align: right;\">\n",
       "      <th>month</th>\n",
       "      <th>1</th>\n",
       "      <th>2</th>\n",
       "      <th>3</th>\n",
       "      <th>4</th>\n",
       "      <th>5</th>\n",
       "      <th>6</th>\n",
       "      <th>7</th>\n",
       "      <th>8</th>\n",
       "      <th>9</th>\n",
       "      <th>10</th>\n",
       "      <th>11</th>\n",
       "      <th>12</th>\n",
       "    </tr>\n",
       "    <tr>\n",
       "      <th>year</th>\n",
       "      <th></th>\n",
       "      <th></th>\n",
       "      <th></th>\n",
       "      <th></th>\n",
       "      <th></th>\n",
       "      <th></th>\n",
       "      <th></th>\n",
       "      <th></th>\n",
       "      <th></th>\n",
       "      <th></th>\n",
       "      <th></th>\n",
       "      <th></th>\n",
       "    </tr>\n",
       "  </thead>\n",
       "  <tbody>\n",
       "    <tr>\n",
       "      <th>2023</th>\n",
       "      <td>31</td>\n",
       "      <td>28</td>\n",
       "      <td>31</td>\n",
       "      <td>30</td>\n",
       "      <td>31</td>\n",
       "      <td>30</td>\n",
       "      <td>31</td>\n",
       "      <td>31</td>\n",
       "      <td>30</td>\n",
       "      <td>31</td>\n",
       "      <td>30</td>\n",
       "      <td>31</td>\n",
       "    </tr>\n",
       "  </tbody>\n",
       "</table>\n",
       "</div>"
      ],
      "text/plain": [
       "month  1   2   3   4   5   6   7   8   9   10  11  12\n",
       "year                                                 \n",
       "2023   31  28  31  30  31  30  31  31  30  31  30  31"
      ]
     },
     "execution_count": 86,
     "metadata": {},
     "output_type": "execute_result"
    }
   ],
   "source": [
    "year = df_daily.index.year\n",
    "month = df_daily.index.month\n",
    "dates_per_month = df_daily.groupby([year, month]).size().unstack(fill_value=0)\n",
    "dates_per_month.index.name = 'year'\n",
    "dates_per_month.columns.name = 'month'\n",
    "dates_per_month"
   ]
  },
  {
   "cell_type": "markdown",
   "metadata": {},
   "source": [
    "## Save pre processed data"
   ]
  },
  {
   "cell_type": "markdown",
   "metadata": {},
   "source": [
    "Now that the data has been properly processed, I'll save it in a new file."
   ]
  },
  {
   "cell_type": "code",
   "execution_count": 87,
   "metadata": {},
   "outputs": [],
   "source": [
    "df_daily.to_csv(f\"datasets/preprocess/{filename}-processed.csv\")"
   ]
  }
 ],
 "metadata": {
  "kernelspec": {
   "display_name": "env",
   "language": "python",
   "name": "python3"
  },
  "language_info": {
   "codemirror_mode": {
    "name": "ipython",
    "version": 3
   },
   "file_extension": ".py",
   "mimetype": "text/x-python",
   "name": "python",
   "nbconvert_exporter": "python",
   "pygments_lexer": "ipython3",
   "version": "3.9.6"
  }
 },
 "nbformat": 4,
 "nbformat_minor": 2
}
