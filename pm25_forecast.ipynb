{
 "cells": [
  {
   "cell_type": "markdown",
   "metadata": {},
   "source": [
    "# PM2.5 forecasting"
   ]
  },
  {
   "cell_type": "code",
   "execution_count": 1,
   "metadata": {},
   "outputs": [
    {
     "name": "stderr",
     "output_type": "stream",
     "text": [
      "/Users/valeriagonzalez/Documents/aqi/env/lib/python3.9/site-packages/tqdm/auto.py:21: TqdmWarning: IProgress not found. Please update jupyter and ipywidgets. See https://ipywidgets.readthedocs.io/en/stable/user_install.html\n",
      "  from .autonotebook import tqdm as notebook_tqdm\n",
      "/Users/valeriagonzalez/Documents/aqi/env/lib/python3.9/site-packages/urllib3/__init__.py:35: NotOpenSSLWarning: urllib3 v2 only supports OpenSSL 1.1.1+, currently the 'ssl' module is compiled with 'LibreSSL 2.8.3'. See: https://github.com/urllib3/urllib3/issues/3020\n",
      "  warnings.warn(\n"
     ]
    }
   ],
   "source": [
    "import numpy as np\n",
    "import pandas as pd\n",
    "import seaborn as sns\n",
    "import matplotlib.pyplot as plt\n",
    "\n",
    "import optuna # Hyperparameter optimization\n",
    "import tensorflow as tf\n",
    "\n",
    "from tensorflow.keras.models import Sequential\n",
    "from tensorflow.keras.layers import Dense, Dropout\n",
    "from tensorflow.keras.regularizers import l1, l2\n",
    "from tensorflow.keras.optimizers import Adam\n",
    "\n",
    "from sklearn.metrics import mean_squared_error\n",
    "from sklearn.metrics import r2_score\n",
    "from sklearn.preprocessing import StandardScaler # Data normalization\n",
    "from sklearn.preprocessing import MinMaxScaler"
   ]
  },
  {
   "cell_type": "code",
   "execution_count": 13,
   "metadata": {},
   "outputs": [],
   "source": [
    "filepath = \"datasets/semadet-tlaquepaque-2023-interpolated.csv\"\n",
    "df = pd.read_csv(filepath, parse_dates=[0], index_col=0)"
   ]
  },
  {
   "cell_type": "markdown",
   "metadata": {},
   "source": [
    "## Select features and pollutant to predict"
   ]
  },
  {
   "cell_type": "code",
   "execution_count": 15,
   "metadata": {},
   "outputs": [],
   "source": [
    "features = [\"pm25\", \"tmp\", \"rh\", \"ws\", \"wd\"]\n",
    "pollutant = \"pm25\""
   ]
  },
  {
   "cell_type": "code",
   "execution_count": 16,
   "metadata": {},
   "outputs": [],
   "source": [
    "def select_df_features(df:pd.DataFrame, features:list):\n",
    "    df_select = pd.DataFrame()\n",
    "    for feature in features:\n",
    "        df_select[feature] = df[feature]\n",
    "    return df_select"
   ]
  },
  {
   "cell_type": "code",
   "execution_count": 17,
   "metadata": {},
   "outputs": [],
   "source": [
    "df_select = select_df_features(df, features)"
   ]
  },
  {
   "cell_type": "code",
   "execution_count": 22,
   "metadata": {},
   "outputs": [
    {
     "data": {
      "text/html": [
       "<div>\n",
       "<style scoped>\n",
       "    .dataframe tbody tr th:only-of-type {\n",
       "        vertical-align: middle;\n",
       "    }\n",
       "\n",
       "    .dataframe tbody tr th {\n",
       "        vertical-align: top;\n",
       "    }\n",
       "\n",
       "    .dataframe thead th {\n",
       "        text-align: right;\n",
       "    }\n",
       "</style>\n",
       "<table border=\"1\" class=\"dataframe\">\n",
       "  <thead>\n",
       "    <tr style=\"text-align: right;\">\n",
       "      <th></th>\n",
       "      <th>o3</th>\n",
       "      <th>pm10</th>\n",
       "      <th>pm25</th>\n",
       "      <th>tmp</th>\n",
       "      <th>rh</th>\n",
       "      <th>ws</th>\n",
       "      <th>wd</th>\n",
       "    </tr>\n",
       "    <tr>\n",
       "      <th>date</th>\n",
       "      <th></th>\n",
       "      <th></th>\n",
       "      <th></th>\n",
       "      <th></th>\n",
       "      <th></th>\n",
       "      <th></th>\n",
       "      <th></th>\n",
       "    </tr>\n",
       "  </thead>\n",
       "  <tbody>\n",
       "    <tr>\n",
       "      <th>2023-01-01</th>\n",
       "      <td>0.017917</td>\n",
       "      <td>26.115000</td>\n",
       "      <td>18.194167</td>\n",
       "      <td>17.595652</td>\n",
       "      <td>56.725000</td>\n",
       "      <td>1.988750</td>\n",
       "      <td>198.013158</td>\n",
       "    </tr>\n",
       "    <tr>\n",
       "      <th>2023-01-02</th>\n",
       "      <td>0.013500</td>\n",
       "      <td>26.115000</td>\n",
       "      <td>18.194167</td>\n",
       "      <td>16.381250</td>\n",
       "      <td>56.725000</td>\n",
       "      <td>2.904583</td>\n",
       "      <td>235.478057</td>\n",
       "    </tr>\n",
       "    <tr>\n",
       "      <th>2023-01-03</th>\n",
       "      <td>0.012375</td>\n",
       "      <td>37.117917</td>\n",
       "      <td>24.248333</td>\n",
       "      <td>16.889474</td>\n",
       "      <td>52.979167</td>\n",
       "      <td>2.114167</td>\n",
       "      <td>225.967935</td>\n",
       "    </tr>\n",
       "  </tbody>\n",
       "</table>\n",
       "</div>"
      ],
      "text/plain": [
       "                  o3       pm10       pm25        tmp         rh        ws  \\\n",
       "date                                                                         \n",
       "2023-01-01  0.017917  26.115000  18.194167  17.595652  56.725000  1.988750   \n",
       "2023-01-02  0.013500  26.115000  18.194167  16.381250  56.725000  2.904583   \n",
       "2023-01-03  0.012375  37.117917  24.248333  16.889474  52.979167  2.114167   \n",
       "\n",
       "                    wd  \n",
       "date                    \n",
       "2023-01-01  198.013158  \n",
       "2023-01-02  235.478057  \n",
       "2023-01-03  225.967935  "
      ]
     },
     "execution_count": 22,
     "metadata": {},
     "output_type": "execute_result"
    }
   ],
   "source": [
    "df.head(3)"
   ]
  },
  {
   "cell_type": "markdown",
   "metadata": {},
   "source": [
    "## Normalize data"
   ]
  },
  {
   "cell_type": "code",
   "execution_count": 4,
   "metadata": {},
   "outputs": [],
   "source": [
    "def normalize_data(df:pd.DataFrame, pollutant:str):\n",
    "    scaler_pollutant = None\n",
    "    for feature in df.columns.values:\n",
    "        values = df[feature].values\n",
    "        values = values.reshape((-1, 1))\n",
    "        scaler = StandardScaler()\n",
    "        scaler = scaler.fit(values)\n",
    "        normalized = scaler.transform(values)\n",
    "        df[feature] = normalized.flatten()\n",
    "        \n",
    "        if feature == pollutant:\n",
    "            scaler_pollutant = scaler    \n",
    "\n",
    "    return df, scaler"
   ]
  },
  {
   "cell_type": "code",
   "execution_count": 23,
   "metadata": {},
   "outputs": [],
   "source": [
    "data_scaler = MinMaxScaler(feature_range=(0,1))\n",
    "data_norm = data_scaler.fit_transform(df_select.values)"
   ]
  },
  {
   "cell_type": "code",
   "execution_count": 26,
   "metadata": {},
   "outputs": [
    {
     "data": {
      "text/plain": [
       "array([[0.13167801, 0.27024266, 0.98321007, 0.25369939, 0.56250986],\n",
       "       [0.13167801, 0.16490893, 0.98321007, 0.43416258, 0.66898425],\n",
       "       [0.20868475, 0.20899078, 0.89336398, 0.2784125 , 0.6419567 ],\n",
       "       [0.44371696, 0.3435578 , 0.8205077 , 0.04655261, 0.48990875],\n",
       "       [0.74056655, 0.4209641 , 0.56386168, 0.11338474, 0.41487319]])"
      ]
     },
     "execution_count": 26,
     "metadata": {},
     "output_type": "execute_result"
    }
   ],
   "source": [
    "data_norm[:5]"
   ]
  },
  {
   "cell_type": "markdown",
   "metadata": {},
   "source": [
    "## Timeseries to supervised learning"
   ]
  },
  {
   "cell_type": "code",
   "execution_count": 29,
   "metadata": {},
   "outputs": [],
   "source": [
    "def series_to_supervised(data, n_in=1, n_out=1, dropnan=True):\n",
    "    n_vars = 1 if type(data) is list else data.shape[1]\n",
    "    df = pd.DataFrame(data)\n",
    "    cols, names = list(), list()\n",
    "    \n",
    "    # Input sequence (t-n, ... t-1)\n",
    "    for i in range(n_in, 0, -1):\n",
    "        cols.append(df.shift(i))\n",
    "        names += [('var%d(t-%d)' % (j+1, i)) for j in range(n_vars)]\n",
    "    \n",
    "    # Forecast sequence (t, t+1, ... t+n)\n",
    "    for i in range(0, n_out):\n",
    "        cols.append(df.shift(-i))\n",
    "        if i == 0:\n",
    "            names += [('var%d(t)' % (j+1)) for j in range(n_vars)]\n",
    "        else:\n",
    "            names += [('var%d(t+%d)' % (j+1, i)) for j in range(n_vars)]\n",
    "    \n",
    "    # Put it all together\n",
    "    agg = pd.concat(cols, axis=1)\n",
    "    agg.columns = names\n",
    "    \n",
    "    # Drop rows with NaN values\n",
    "    if dropnan:\n",
    "        agg.dropna(inplace=True)\n",
    "    \n",
    "    return agg"
   ]
  },
  {
   "cell_type": "code",
   "execution_count": 30,
   "metadata": {},
   "outputs": [],
   "source": [
    "data_reframed = series_to_supervised(data_norm, 1, 1)"
   ]
  },
  {
   "cell_type": "code",
   "execution_count": null,
   "metadata": {},
   "outputs": [],
   "source": [
    "# drop columns we don't want to predict (i.e, drop all features that aren't pm25 for time t)\n",
    "data_reframed.drop(data_reframed.columns[[6,7,8,9]], axis=1, inplace=True)"
   ]
  },
  {
   "cell_type": "code",
   "execution_count": 34,
   "metadata": {},
   "outputs": [
    {
     "data": {
      "text/html": [
       "<div>\n",
       "<style scoped>\n",
       "    .dataframe tbody tr th:only-of-type {\n",
       "        vertical-align: middle;\n",
       "    }\n",
       "\n",
       "    .dataframe tbody tr th {\n",
       "        vertical-align: top;\n",
       "    }\n",
       "\n",
       "    .dataframe thead th {\n",
       "        text-align: right;\n",
       "    }\n",
       "</style>\n",
       "<table border=\"1\" class=\"dataframe\">\n",
       "  <thead>\n",
       "    <tr style=\"text-align: right;\">\n",
       "      <th></th>\n",
       "      <th>var1(t-1)</th>\n",
       "      <th>var2(t-1)</th>\n",
       "      <th>var3(t-1)</th>\n",
       "      <th>var4(t-1)</th>\n",
       "      <th>var5(t-1)</th>\n",
       "      <th>var1(t)</th>\n",
       "    </tr>\n",
       "  </thead>\n",
       "  <tbody>\n",
       "    <tr>\n",
       "      <th>1</th>\n",
       "      <td>0.131678</td>\n",
       "      <td>0.270243</td>\n",
       "      <td>0.983210</td>\n",
       "      <td>0.253699</td>\n",
       "      <td>0.562510</td>\n",
       "      <td>0.131678</td>\n",
       "    </tr>\n",
       "    <tr>\n",
       "      <th>2</th>\n",
       "      <td>0.131678</td>\n",
       "      <td>0.164909</td>\n",
       "      <td>0.983210</td>\n",
       "      <td>0.434163</td>\n",
       "      <td>0.668984</td>\n",
       "      <td>0.208685</td>\n",
       "    </tr>\n",
       "    <tr>\n",
       "      <th>3</th>\n",
       "      <td>0.208685</td>\n",
       "      <td>0.208991</td>\n",
       "      <td>0.893364</td>\n",
       "      <td>0.278412</td>\n",
       "      <td>0.641957</td>\n",
       "      <td>0.443717</td>\n",
       "    </tr>\n",
       "  </tbody>\n",
       "</table>\n",
       "</div>"
      ],
      "text/plain": [
       "   var1(t-1)  var2(t-1)  var3(t-1)  var4(t-1)  var5(t-1)   var1(t)\n",
       "1   0.131678   0.270243   0.983210   0.253699   0.562510  0.131678\n",
       "2   0.131678   0.164909   0.983210   0.434163   0.668984  0.208685\n",
       "3   0.208685   0.208991   0.893364   0.278412   0.641957  0.443717"
      ]
     },
     "execution_count": 34,
     "metadata": {},
     "output_type": "execute_result"
    }
   ],
   "source": [
    "data_reframed.head(3)"
   ]
  },
  {
   "cell_type": "markdown",
   "metadata": {},
   "source": [
    "## Divide dataset"
   ]
  },
  {
   "cell_type": "code",
   "execution_count": null,
   "metadata": {},
   "outputs": [],
   "source": [
    "def divide_series_by_months(df: pd.DataFrame, train=11, val:float=1):\n",
    "    data_len = len(df)\n",
    "    train_size = int(data_len * train)\n",
    "    val_size = int(data_len * val)\n",
    "    \n",
    "    train_df = pd.DataFrame()\n",
    "    val_df = pd.DataFrame()\n",
    "    test_df = pd.DataFrame()\n",
    "    \n",
    "    for feature in df.columns:\n",
    "        train_df[feature] = df[feature][:train_size]\n",
    "        val_df[feature] = df[feature][train_size:train_size + val_size]\n",
    "        test_df[feature] = df[feature][train_size + val_size:]\n",
    "    \n",
    "\n",
    "    return train_df, val_df, test_df"
   ]
  },
  {
   "cell_type": "code",
   "execution_count": null,
   "metadata": {},
   "outputs": [],
   "source": []
  },
  {
   "cell_type": "code",
   "execution_count": null,
   "metadata": {},
   "outputs": [],
   "source": [
    "train_df, val_df, test_df = divide_series(df, features)"
   ]
  },
  {
   "cell_type": "code",
   "execution_count": 41,
   "metadata": {},
   "outputs": [
    {
     "data": {
      "text/html": [
       "<div>\n",
       "<style scoped>\n",
       "    .dataframe tbody tr th:only-of-type {\n",
       "        vertical-align: middle;\n",
       "    }\n",
       "\n",
       "    .dataframe tbody tr th {\n",
       "        vertical-align: top;\n",
       "    }\n",
       "\n",
       "    .dataframe thead th {\n",
       "        text-align: right;\n",
       "    }\n",
       "</style>\n",
       "<table border=\"1\" class=\"dataframe\">\n",
       "  <thead>\n",
       "    <tr style=\"text-align: right;\">\n",
       "      <th></th>\n",
       "      <th>pm25</th>\n",
       "      <th>tmp</th>\n",
       "      <th>rh</th>\n",
       "      <th>ws</th>\n",
       "      <th>wd</th>\n",
       "    </tr>\n",
       "    <tr>\n",
       "      <th>date</th>\n",
       "      <th></th>\n",
       "      <th></th>\n",
       "      <th></th>\n",
       "      <th></th>\n",
       "      <th></th>\n",
       "    </tr>\n",
       "  </thead>\n",
       "  <tbody>\n",
       "    <tr>\n",
       "      <th>2023-01-01</th>\n",
       "      <td>18.194167</td>\n",
       "      <td>17.595652</td>\n",
       "      <td>56.725000</td>\n",
       "      <td>1.988750</td>\n",
       "      <td>198.013158</td>\n",
       "    </tr>\n",
       "    <tr>\n",
       "      <th>2023-01-02</th>\n",
       "      <td>18.194167</td>\n",
       "      <td>16.381250</td>\n",
       "      <td>56.725000</td>\n",
       "      <td>2.904583</td>\n",
       "      <td>235.478057</td>\n",
       "    </tr>\n",
       "    <tr>\n",
       "      <th>2023-01-03</th>\n",
       "      <td>24.248333</td>\n",
       "      <td>16.889474</td>\n",
       "      <td>52.979167</td>\n",
       "      <td>2.114167</td>\n",
       "      <td>225.967935</td>\n",
       "    </tr>\n",
       "    <tr>\n",
       "      <th>2023-01-04</th>\n",
       "      <td>42.726250</td>\n",
       "      <td>18.440909</td>\n",
       "      <td>49.941667</td>\n",
       "      <td>0.937500</td>\n",
       "      <td>172.467173</td>\n",
       "    </tr>\n",
       "    <tr>\n",
       "      <th>2023-01-05</th>\n",
       "      <td>66.064167</td>\n",
       "      <td>19.333333</td>\n",
       "      <td>39.241667</td>\n",
       "      <td>1.276667</td>\n",
       "      <td>146.064584</td>\n",
       "    </tr>\n",
       "  </tbody>\n",
       "</table>\n",
       "</div>"
      ],
      "text/plain": [
       "                 pm25        tmp         rh        ws          wd\n",
       "date                                                             \n",
       "2023-01-01  18.194167  17.595652  56.725000  1.988750  198.013158\n",
       "2023-01-02  18.194167  16.381250  56.725000  2.904583  235.478057\n",
       "2023-01-03  24.248333  16.889474  52.979167  2.114167  225.967935\n",
       "2023-01-04  42.726250  18.440909  49.941667  0.937500  172.467173\n",
       "2023-01-05  66.064167  19.333333  39.241667  1.276667  146.064584"
      ]
     },
     "execution_count": 41,
     "metadata": {},
     "output_type": "execute_result"
    }
   ],
   "source": [
    "train_df.head()"
   ]
  },
  {
   "cell_type": "markdown",
   "metadata": {},
   "source": [
    "## Search hyperparameters"
   ]
  },
  {
   "cell_type": "markdown",
   "metadata": {},
   "source": [
    "## Create model"
   ]
  },
  {
   "cell_type": "code",
   "execution_count": null,
   "metadata": {},
   "outputs": [],
   "source": [
    "class MLPOptimizer:\n",
    "  \"\"\"\n",
    "  Class for hyperparameter optimizing for PM2.5 Forecaster.\n",
    "  \"\"\"\n",
    "  def __init__(self, input_dim:int, n_trials:int):\n",
    "    self.input_dim = input_dim\n",
    "    self.n_trials = n_trials\n",
    "    self.study = None\n",
    "    self.X_train = None\n",
    "    self.y_train = None\n",
    "    self.X_val = None\n",
    "    self.y_val = None\n",
    "\n",
    "  def create_model(self, trial):\n",
    "    model = Sequential()\n",
    "\n",
    "    # Hyperparameter selection\n",
    "    neurons = trial.suggest_categorical(\"neurons\", [8, 12, 16, 24, 32, 40])\n",
    "    neurons2 = trial.suggest_categorical(\"neurons2\", [8, 12, 16, 24, 32, 40])\n",
    "    dropout_rate = trial.suggest_float(\"dropout\", 0.1, 0.2, log=True)\n",
    "    # reg_type = trial.suggest_categorical(\"reg_type\", [None])\n",
    "    # reg_strength = trial.suggest_float(\"reg_strength\", 1e-3, 1e-1, log=True)\n",
    "\n",
    "    # Choose regularization\n",
    "    #if reg_type == \"l1\":\n",
    "     # reg = l1(reg_strength)\n",
    "    #elif reg_type == \"l2\":\n",
    "     # reg = l2(reg_strength)\n",
    "    #else:\n",
    "     # reg = None\n",
    "\n",
    "    # Hidden layer\n",
    "    model.add(Dense(\n",
    "        neurons,\n",
    "        activation=\"relu\",\n",
    "        input_dim=self.input_dim\n",
    "        ))\n",
    "\n",
    "    # Dropout layer\n",
    "    model.add(Dropout(dropout_rate))\n",
    "\n",
    "    # Output layer\n",
    "    model.add(Dense(1))\n",
    "\n",
    "    # Compile model\n",
    "    learning_rate = trial.suggest_float(\"learning_rate\", 1e-3, 1e-1, log=True)\n",
    "    model.compile(optimizer=Adam(learning_rate), loss=\"mse\")\n",
    "\n",
    "    return model\n",
    "\n",
    "  def objective(self, trial):\n",
    "    model = self.create_model(trial)\n",
    "    epochs = trial.suggest_categorical(\"epochs\", [50, 100])\n",
    "\n",
    "    # Train the model\n",
    "    model.fit(\n",
    "        self.X_train,\n",
    "        self.y_train,\n",
    "        epochs=epochs,\n",
    "        validation_data=(self.X_val, self.y_val),\n",
    "        verbose=0\n",
    "        )\n",
    "\n",
    "    # Evaluate on validation data\n",
    "    loss = model.evaluate(self.X_val, self.y_val, verbose=0)\n",
    "\n",
    "    return loss\n",
    "\n",
    "  def optimize(self, X_train:np.array, y_train:np.array, X_val, y_val:np.array):\n",
    "    self.X_train = X_train\n",
    "    self.y_train = y_train\n",
    "    self.X_val = X_val\n",
    "    self.y_val = y_val\n",
    "\n",
    "    self.study = optuna.create_study(direction=\"minimize\")\n",
    "    self.study.optimize(self.objective, n_trials = self.n_trials)\n",
    "\n",
    "    print(\"Best hyperparameters:\", self.study.best_params)\n",
    "    return self.study"
   ]
  },
  {
   "cell_type": "code",
   "execution_count": null,
   "metadata": {},
   "outputs": [],
   "source": [
    "mlp_optimizer = MLPOptimizer(n_steps, 32)\n",
    "study = mlp_optimizer.optimize(X_train, y_train, X_val, y_val)"
   ]
  }
 ],
 "metadata": {
  "kernelspec": {
   "display_name": "env",
   "language": "python",
   "name": "python3"
  },
  "language_info": {
   "codemirror_mode": {
    "name": "ipython",
    "version": 3
   },
   "file_extension": ".py",
   "mimetype": "text/x-python",
   "name": "python",
   "nbconvert_exporter": "python",
   "pygments_lexer": "ipython3",
   "version": "3.9.6"
  }
 },
 "nbformat": 4,
 "nbformat_minor": 2
}
