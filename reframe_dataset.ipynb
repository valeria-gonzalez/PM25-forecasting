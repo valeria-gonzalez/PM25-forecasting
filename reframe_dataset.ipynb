{
 "cells": [
  {
   "cell_type": "markdown",
   "metadata": {},
   "source": [
    "# Reframe dataset"
   ]
  },
  {
   "cell_type": "markdown",
   "metadata": {},
   "source": [
    "During this process I will select a specific pollutant to forecast along with exegenous variables that can influence its values, and reframe the current information as a supervised learning dataset. This step is necessary so that the LTSM can be correctly trained with the data it's given."
   ]
  },
  {
   "cell_type": "code",
   "execution_count": 28,
   "metadata": {},
   "outputs": [],
   "source": [
    "import numpy as np\n",
    "import pandas as pd\n",
    "import seaborn as sns\n",
    "import matplotlib.pyplot as plt\n",
    "\n",
    "from sklearn.preprocessing import MinMaxScaler\n",
    "\n",
    "from math import sqrt"
   ]
  },
  {
   "cell_type": "code",
   "execution_count": 25,
   "metadata": {},
   "outputs": [],
   "source": [
    "import tensorflow as tf\n",
    "\n",
    "from tensorflow.keras.models import Sequential\n",
    "from tensorflow.keras.layers import Dense, Dropout\n",
    "from tensorflow.keras.regularizers import l1, l2\n",
    "from tensorflow.keras.optimizers import Adam\n",
    "from tensorflow.keras.layers import LSTM\n",
    "\n",
    "from sklearn.metrics import mean_squared_error\n",
    "from sklearn.metrics import r2_score"
   ]
  },
  {
   "cell_type": "code",
   "execution_count": 30,
   "metadata": {},
   "outputs": [
    {
     "name": "stderr",
     "output_type": "stream",
     "text": [
      "/Users/valeriagonzalez/Documents/aqi/env/lib/python3.9/site-packages/tqdm/auto.py:21: TqdmWarning: IProgress not found. Please update jupyter and ipywidgets. See https://ipywidgets.readthedocs.io/en/stable/user_install.html\n",
      "  from .autonotebook import tqdm as notebook_tqdm\n"
     ]
    }
   ],
   "source": [
    "import optuna # Hyperparameter optimization"
   ]
  },
  {
   "cell_type": "code",
   "execution_count": 3,
   "metadata": {},
   "outputs": [],
   "source": [
    "filename = \"semadet-aire-final\"\n",
    "filepath = f\"datasets/feature_eng/{filename}.csv\"\n",
    "df = pd.read_csv(filepath, parse_dates=[0], index_col=0)"
   ]
  },
  {
   "cell_type": "markdown",
   "metadata": {},
   "source": [
    "## Select pollutant to predict and exegenous variables"
   ]
  },
  {
   "cell_type": "markdown",
   "metadata": {},
   "source": [
    "The first dataset to reframe will contain PM2.5 as the independent variable and temperature, relative humidity, wind speed and wind direction as the dependent variables."
   ]
  },
  {
   "cell_type": "code",
   "execution_count": 4,
   "metadata": {},
   "outputs": [],
   "source": [
    "features = [\"pm25\", \"tmp\", \"rh\", \"ws\", \"wd\"]\n",
    "pollutant = \"pm25\""
   ]
  },
  {
   "cell_type": "code",
   "execution_count": 5,
   "metadata": {},
   "outputs": [],
   "source": [
    "def select_df_features(df:pd.DataFrame, features:list):\n",
    "    df_select = pd.DataFrame()\n",
    "    for feature in features:\n",
    "        df_select[feature] = df[feature]\n",
    "    return df_select"
   ]
  },
  {
   "cell_type": "code",
   "execution_count": 6,
   "metadata": {},
   "outputs": [],
   "source": [
    "df_select = select_df_features(df, features)"
   ]
  },
  {
   "cell_type": "code",
   "execution_count": 7,
   "metadata": {},
   "outputs": [
    {
     "data": {
      "text/html": [
       "<div>\n",
       "<style scoped>\n",
       "    .dataframe tbody tr th:only-of-type {\n",
       "        vertical-align: middle;\n",
       "    }\n",
       "\n",
       "    .dataframe tbody tr th {\n",
       "        vertical-align: top;\n",
       "    }\n",
       "\n",
       "    .dataframe thead th {\n",
       "        text-align: right;\n",
       "    }\n",
       "</style>\n",
       "<table border=\"1\" class=\"dataframe\">\n",
       "  <thead>\n",
       "    <tr style=\"text-align: right;\">\n",
       "      <th></th>\n",
       "      <th>pm25</th>\n",
       "      <th>tmp</th>\n",
       "      <th>rh</th>\n",
       "      <th>ws</th>\n",
       "      <th>wd</th>\n",
       "    </tr>\n",
       "    <tr>\n",
       "      <th>date</th>\n",
       "      <th></th>\n",
       "      <th></th>\n",
       "      <th></th>\n",
       "      <th></th>\n",
       "      <th></th>\n",
       "    </tr>\n",
       "  </thead>\n",
       "  <tbody>\n",
       "    <tr>\n",
       "      <th>2017-01-01</th>\n",
       "      <td>24.869231</td>\n",
       "      <td>19.475000</td>\n",
       "      <td>52.125000</td>\n",
       "      <td>2.516667</td>\n",
       "      <td>9.648721</td>\n",
       "    </tr>\n",
       "    <tr>\n",
       "      <th>2017-01-02</th>\n",
       "      <td>24.869231</td>\n",
       "      <td>19.358333</td>\n",
       "      <td>49.691667</td>\n",
       "      <td>1.291667</td>\n",
       "      <td>9.957045</td>\n",
       "    </tr>\n",
       "    <tr>\n",
       "      <th>2017-01-03</th>\n",
       "      <td>24.869231</td>\n",
       "      <td>19.970833</td>\n",
       "      <td>43.037500</td>\n",
       "      <td>1.062500</td>\n",
       "      <td>11.695896</td>\n",
       "    </tr>\n",
       "  </tbody>\n",
       "</table>\n",
       "</div>"
      ],
      "text/plain": [
       "                 pm25        tmp         rh        ws         wd\n",
       "date                                                            \n",
       "2017-01-01  24.869231  19.475000  52.125000  2.516667   9.648721\n",
       "2017-01-02  24.869231  19.358333  49.691667  1.291667   9.957045\n",
       "2017-01-03  24.869231  19.970833  43.037500  1.062500  11.695896"
      ]
     },
     "execution_count": 7,
     "metadata": {},
     "output_type": "execute_result"
    }
   ],
   "source": [
    "df_select.head(3)"
   ]
  },
  {
   "cell_type": "markdown",
   "metadata": {},
   "source": [
    "## Normalize data"
   ]
  },
  {
   "cell_type": "markdown",
   "metadata": {},
   "source": [
    "Once the data is separated, it's important to normalize all the values. The data will be transformed to a common scale to improve the model's performance. In this case, the data held for each feature will be scaled to have values between 0 and 1."
   ]
  },
  {
   "cell_type": "code",
   "execution_count": 8,
   "metadata": {},
   "outputs": [],
   "source": [
    "data_scaler = MinMaxScaler(feature_range=(0,1))\n",
    "data_norm = data_scaler.fit_transform(df_select.values)"
   ]
  },
  {
   "cell_type": "code",
   "execution_count": 9,
   "metadata": {},
   "outputs": [
    {
     "data": {
      "text/plain": [
       "array([[0.22140047, 0.43233533, 0.54997636, 0.43192939, 0.02718241],\n",
       "       [0.22140047, 0.42517661, 0.51689848, 0.21843369, 0.02805866],\n",
       "       [0.22140047, 0.46275987, 0.42644408, 0.17849402, 0.03300044],\n",
       "       [0.22140047, 0.50264415, 0.36096801, 0.20173165, 0.03609954],\n",
       "       [0.22140047, 0.57934468, 0.26972064, 0.40723941, 0.04108343]])"
      ]
     },
     "execution_count": 9,
     "metadata": {},
     "output_type": "execute_result"
    }
   ],
   "source": [
    "data_norm[:5]"
   ]
  },
  {
   "cell_type": "markdown",
   "metadata": {},
   "source": [
    "## Timeseries to supervised learning"
   ]
  },
  {
   "cell_type": "code",
   "execution_count": 10,
   "metadata": {},
   "outputs": [],
   "source": [
    "def series_to_supervised(data, column_names, n_in=1, n_out=1, dropnan=True):\n",
    "    n_vars = 1 if type(data) is list else data.shape[1]\n",
    "    df = pd.DataFrame(data)\n",
    "    cols, names = list(), list()\n",
    "    \n",
    "    # Input sequence (t-n, ... t-1)\n",
    "    for i in range(n_in, 0, -1):\n",
    "        cols.append(df.shift(i))\n",
    "        names += [(f\"{column_names[j]}(t-{i})\") for j in range(n_vars)]\n",
    "    \n",
    "    # Forecast sequence (t, t+1, ... t+n)\n",
    "    for i in range(0, n_out):\n",
    "        cols.append(df.shift(-i))\n",
    "        if i == 0:\n",
    "            names += [(f\"{column_names[j]}(t)\") for j in range(n_vars)]\n",
    "        else:\n",
    "            names += [(f\"{column_names[j]}(t+{i})\") for j in range(n_vars)]\n",
    "    \n",
    "    # Put it all together\n",
    "    agg = pd.concat(cols, axis=1)\n",
    "    agg.columns = names\n",
    "    \n",
    "    # Drop rows with NaN values\n",
    "    if dropnan:\n",
    "        agg.dropna(inplace=True)\n",
    "    \n",
    "    return agg"
   ]
  },
  {
   "cell_type": "code",
   "execution_count": 11,
   "metadata": {},
   "outputs": [],
   "source": [
    "data_reframed = series_to_supervised(data_norm, features, 1, 1)"
   ]
  },
  {
   "cell_type": "code",
   "execution_count": 12,
   "metadata": {},
   "outputs": [],
   "source": [
    "# drop columns we don't want to predict (i.e, drop all features that aren't pm25 for time t)\n",
    "data_reframed.drop(data_reframed.columns[[6,7,8,9]], axis=1, inplace=True)"
   ]
  },
  {
   "cell_type": "code",
   "execution_count": 13,
   "metadata": {},
   "outputs": [
    {
     "data": {
      "text/html": [
       "<div>\n",
       "<style scoped>\n",
       "    .dataframe tbody tr th:only-of-type {\n",
       "        vertical-align: middle;\n",
       "    }\n",
       "\n",
       "    .dataframe tbody tr th {\n",
       "        vertical-align: top;\n",
       "    }\n",
       "\n",
       "    .dataframe thead th {\n",
       "        text-align: right;\n",
       "    }\n",
       "</style>\n",
       "<table border=\"1\" class=\"dataframe\">\n",
       "  <thead>\n",
       "    <tr style=\"text-align: right;\">\n",
       "      <th></th>\n",
       "      <th>pm25(t-1)</th>\n",
       "      <th>tmp(t-1)</th>\n",
       "      <th>rh(t-1)</th>\n",
       "      <th>ws(t-1)</th>\n",
       "      <th>wd(t-1)</th>\n",
       "      <th>pm25(t)</th>\n",
       "    </tr>\n",
       "  </thead>\n",
       "  <tbody>\n",
       "    <tr>\n",
       "      <th>1</th>\n",
       "      <td>0.2214</td>\n",
       "      <td>0.432335</td>\n",
       "      <td>0.549976</td>\n",
       "      <td>0.431929</td>\n",
       "      <td>0.027182</td>\n",
       "      <td>0.2214</td>\n",
       "    </tr>\n",
       "    <tr>\n",
       "      <th>2</th>\n",
       "      <td>0.2214</td>\n",
       "      <td>0.425177</td>\n",
       "      <td>0.516898</td>\n",
       "      <td>0.218434</td>\n",
       "      <td>0.028059</td>\n",
       "      <td>0.2214</td>\n",
       "    </tr>\n",
       "    <tr>\n",
       "      <th>3</th>\n",
       "      <td>0.2214</td>\n",
       "      <td>0.462760</td>\n",
       "      <td>0.426444</td>\n",
       "      <td>0.178494</td>\n",
       "      <td>0.033000</td>\n",
       "      <td>0.2214</td>\n",
       "    </tr>\n",
       "  </tbody>\n",
       "</table>\n",
       "</div>"
      ],
      "text/plain": [
       "   pm25(t-1)  tmp(t-1)   rh(t-1)   ws(t-1)   wd(t-1)  pm25(t)\n",
       "1     0.2214  0.432335  0.549976  0.431929  0.027182   0.2214\n",
       "2     0.2214  0.425177  0.516898  0.218434  0.028059   0.2214\n",
       "3     0.2214  0.462760  0.426444  0.178494  0.033000   0.2214"
      ]
     },
     "execution_count": 13,
     "metadata": {},
     "output_type": "execute_result"
    }
   ],
   "source": [
    "data_reframed.head(3)"
   ]
  },
  {
   "cell_type": "markdown",
   "metadata": {},
   "source": [
    "## Divide dataset"
   ]
  },
  {
   "cell_type": "code",
   "execution_count": 14,
   "metadata": {},
   "outputs": [],
   "source": [
    "def divide_series(df: pd.DataFrame, train:float=0.65, val:float=0.15):\n",
    "    data_len = len(df)\n",
    "    train_size = int(data_len * train)\n",
    "    val_size = int(data_len * val)\n",
    "    \n",
    "    train_df = pd.DataFrame()\n",
    "    val_df = pd.DataFrame()\n",
    "    test_df = pd.DataFrame()\n",
    "    \n",
    "    for feature in df.columns:\n",
    "        train_df[feature] = df[feature][:train_size]\n",
    "        val_df[feature] = df[feature][train_size:train_size + val_size]\n",
    "        test_df[feature] = df[feature][train_size + val_size:]\n",
    "    \n",
    "\n",
    "    return train_df, val_df, test_df"
   ]
  },
  {
   "cell_type": "code",
   "execution_count": 15,
   "metadata": {},
   "outputs": [],
   "source": [
    "train_df, val_df, test_df = divide_series(data_reframed, train=0.56, val=0.10)"
   ]
  },
  {
   "cell_type": "code",
   "execution_count": 16,
   "metadata": {},
   "outputs": [
    {
     "name": "stdout",
     "output_type": "stream",
     "text": [
      "Train set len: 613\n",
      "Validation set len: 109\n",
      "Test set len: 373\n"
     ]
    }
   ],
   "source": [
    "print(f\"Train set len: {len(train_df)}\")\n",
    "print(f\"Validation set len: {len(val_df)}\")\n",
    "print(f\"Test set len: {len(test_df)}\")"
   ]
  },
  {
   "cell_type": "code",
   "execution_count": 17,
   "metadata": {},
   "outputs": [
    {
     "data": {
      "text/html": [
       "<div>\n",
       "<style scoped>\n",
       "    .dataframe tbody tr th:only-of-type {\n",
       "        vertical-align: middle;\n",
       "    }\n",
       "\n",
       "    .dataframe tbody tr th {\n",
       "        vertical-align: top;\n",
       "    }\n",
       "\n",
       "    .dataframe thead th {\n",
       "        text-align: right;\n",
       "    }\n",
       "</style>\n",
       "<table border=\"1\" class=\"dataframe\">\n",
       "  <thead>\n",
       "    <tr style=\"text-align: right;\">\n",
       "      <th></th>\n",
       "      <th>pm25(t-1)</th>\n",
       "      <th>tmp(t-1)</th>\n",
       "      <th>rh(t-1)</th>\n",
       "      <th>ws(t-1)</th>\n",
       "      <th>wd(t-1)</th>\n",
       "      <th>pm25(t)</th>\n",
       "    </tr>\n",
       "  </thead>\n",
       "  <tbody>\n",
       "    <tr>\n",
       "      <th>1</th>\n",
       "      <td>0.2214</td>\n",
       "      <td>0.432335</td>\n",
       "      <td>0.549976</td>\n",
       "      <td>0.431929</td>\n",
       "      <td>0.027182</td>\n",
       "      <td>0.2214</td>\n",
       "    </tr>\n",
       "    <tr>\n",
       "      <th>2</th>\n",
       "      <td>0.2214</td>\n",
       "      <td>0.425177</td>\n",
       "      <td>0.516898</td>\n",
       "      <td>0.218434</td>\n",
       "      <td>0.028059</td>\n",
       "      <td>0.2214</td>\n",
       "    </tr>\n",
       "    <tr>\n",
       "      <th>3</th>\n",
       "      <td>0.2214</td>\n",
       "      <td>0.462760</td>\n",
       "      <td>0.426444</td>\n",
       "      <td>0.178494</td>\n",
       "      <td>0.033000</td>\n",
       "      <td>0.2214</td>\n",
       "    </tr>\n",
       "  </tbody>\n",
       "</table>\n",
       "</div>"
      ],
      "text/plain": [
       "   pm25(t-1)  tmp(t-1)   rh(t-1)   ws(t-1)   wd(t-1)  pm25(t)\n",
       "1     0.2214  0.432335  0.549976  0.431929  0.027182   0.2214\n",
       "2     0.2214  0.425177  0.516898  0.218434  0.028059   0.2214\n",
       "3     0.2214  0.462760  0.426444  0.178494  0.033000   0.2214"
      ]
     },
     "execution_count": 17,
     "metadata": {},
     "output_type": "execute_result"
    }
   ],
   "source": [
    "train_df.head(3)"
   ]
  },
  {
   "cell_type": "code",
   "execution_count": 18,
   "metadata": {},
   "outputs": [],
   "source": [
    "# train_df.to_csv(f\"datasets/reframe/train_{pollutant}.csv\", index=False)\n",
    "# val_df.to_csv(f\"datasets/reframe/val_{pollutant}.csv\", index=False)\n",
    "# test_df.to_csv(f\"datasets/reframe/test_{pollutant}.csv\",index=False)"
   ]
  },
  {
   "cell_type": "markdown",
   "metadata": {},
   "source": [
    "\n",
    "Split the data into inputs and outputs"
   ]
  },
  {
   "cell_type": "code",
   "execution_count": 19,
   "metadata": {},
   "outputs": [
    {
     "name": "stdout",
     "output_type": "stream",
     "text": [
      "(613, 6)\n"
     ]
    }
   ],
   "source": [
    "train_values = train_df.values\n",
    "val_values = val_df.values\n",
    "test_values = test_df.values\n",
    "print(train_values.shape)"
   ]
  },
  {
   "cell_type": "code",
   "execution_count": 20,
   "metadata": {},
   "outputs": [],
   "source": [
    "train_X, train_y = train_values[:,:-1], train_values[:,-1]\n",
    "val_X, val_y = val_values[:,:-1], val_values[:,-1]\n",
    "test_X, test_y = test_values[:,:-1], test_values[:,-1]"
   ]
  },
  {
   "cell_type": "markdown",
   "metadata": {},
   "source": [
    "Reshape the input to be 3d format [samples, timesteps, features]"
   ]
  },
  {
   "cell_type": "code",
   "execution_count": 41,
   "metadata": {},
   "outputs": [
    {
     "ename": "ValueError",
     "evalue": "cannot reshape array of size 3065 into shape (613,1,1)",
     "output_type": "error",
     "traceback": [
      "\u001b[0;31m---------------------------------------------------------------------------\u001b[0m",
      "\u001b[0;31mValueError\u001b[0m                                Traceback (most recent call last)",
      "Cell \u001b[0;32mIn[41], line 1\u001b[0m\n\u001b[0;32m----> 1\u001b[0m train_X \u001b[38;5;241m=\u001b[39m \u001b[43mtrain_X\u001b[49m\u001b[38;5;241;43m.\u001b[39;49m\u001b[43mreshape\u001b[49m\u001b[43m(\u001b[49m\u001b[43mtrain_X\u001b[49m\u001b[38;5;241;43m.\u001b[39;49m\u001b[43mshape\u001b[49m\u001b[43m[\u001b[49m\u001b[38;5;241;43m0\u001b[39;49m\u001b[43m]\u001b[49m\u001b[43m,\u001b[49m\u001b[43m \u001b[49m\u001b[38;5;241;43m1\u001b[39;49m\u001b[43m,\u001b[49m\u001b[43m \u001b[49m\u001b[43mtrain_X\u001b[49m\u001b[38;5;241;43m.\u001b[39;49m\u001b[43mshape\u001b[49m\u001b[43m[\u001b[49m\u001b[38;5;241;43m1\u001b[39;49m\u001b[43m]\u001b[49m\u001b[43m)\u001b[49m\n\u001b[1;32m      2\u001b[0m val_X \u001b[38;5;241m=\u001b[39m val_X\u001b[38;5;241m.\u001b[39mreshape(val_X\u001b[38;5;241m.\u001b[39mshape[\u001b[38;5;241m0\u001b[39m], \u001b[38;5;241m1\u001b[39m, val_X\u001b[38;5;241m.\u001b[39mshape[\u001b[38;5;241m1\u001b[39m])\n\u001b[1;32m      3\u001b[0m test_X \u001b[38;5;241m=\u001b[39m test_X\u001b[38;5;241m.\u001b[39mreshape(test_X\u001b[38;5;241m.\u001b[39mshape[\u001b[38;5;241m0\u001b[39m], \u001b[38;5;241m1\u001b[39m, test_X\u001b[38;5;241m.\u001b[39mshape[\u001b[38;5;241m1\u001b[39m])\n",
      "\u001b[0;31mValueError\u001b[0m: cannot reshape array of size 3065 into shape (613,1,1)"
     ]
    }
   ],
   "source": [
    "train_X = train_X.reshape(train_X.shape[0], 1, train_X.shape[1])\n",
    "val_X = val_X.reshape(val_X.shape[0], 1, val_X.shape[1])\n",
    "test_X = test_X.reshape(test_X.shape[0], 1, test_X.shape[1])"
   ]
  },
  {
   "cell_type": "code",
   "execution_count": 54,
   "metadata": {},
   "outputs": [],
   "source": [
    "test_X = test_X.reshape(test_X.shape[0], 1, test_X.shape[1])"
   ]
  },
  {
   "cell_type": "code",
   "execution_count": 56,
   "metadata": {},
   "outputs": [
    {
     "name": "stdout",
     "output_type": "stream",
     "text": [
      "(613, 1, 5) (109, 1, 5) (373, 1, 5)\n",
      "(613,) (109,) (373,)\n"
     ]
    }
   ],
   "source": [
    "print(train_X.shape, val_X.shape, test_X.shape)\n",
    "print(train_y.shape, val_y.shape, test_y.shape)"
   ]
  },
  {
   "cell_type": "code",
   "execution_count": 55,
   "metadata": {},
   "outputs": [],
   "source": [
    "test_y = test_y.reshape(test_y.shape[0])"
   ]
  },
  {
   "cell_type": "markdown",
   "metadata": {},
   "source": [
    "## Define and fit ltsm. "
   ]
  },
  {
   "cell_type": "code",
   "execution_count": 31,
   "metadata": {},
   "outputs": [],
   "source": [
    "class MLPOptimizer:\n",
    "  \"\"\"\n",
    "  Class for hyperparameter optimizing for PM2.5 Forecaster.\n",
    "  \"\"\"\n",
    "  def __init__(self, input_dim:int, n_trials:int):\n",
    "    self.input_dim = input_dim\n",
    "    self.n_trials = n_trials\n",
    "    self.study = None\n",
    "    self.X_train = None\n",
    "    self.y_train = None\n",
    "    self.X_val = None\n",
    "    self.y_val = None\n",
    "\n",
    "  def create_model(self, trial):\n",
    "    model = Sequential()\n",
    "\n",
    "    # Hyperparameter selection\n",
    "    neurons = trial.suggest_categorical(\"neurons\", [5, 50])\n",
    "    # dropout_rate = trial.suggest_float(\"dropout\", 0.1, 0.2, log=True)\n",
    "    \n",
    "    model.add(LSTM(neurons, \n",
    "                   input_shape=(self.X_train.shape[1], self.X_train.shape[2]),\n",
    "                   activation=\"relu\"))\n",
    "\n",
    "\n",
    "    # Dropout layer\n",
    "    # model.add(Dropout(dropout_rate))\n",
    "\n",
    "    # Output layer\n",
    "    model.add(Dense(1))\n",
    "\n",
    "    # Compile model\n",
    "    # learning_rate = trial.suggest_cat(\"learning_rate\", 0.001, 0., log=True)\n",
    "    learning_rate = 0.001\n",
    "    model.compile(optimizer=Adam(learning_rate), loss=\"mse\")\n",
    "\n",
    "    return model\n",
    "\n",
    "  def objective(self, trial):\n",
    "    model = self.create_model(trial)\n",
    "    epochs = trial.suggest_categorical(\"epochs\", [50, 100])\n",
    "\n",
    "    # Train the model\n",
    "    model.fit(\n",
    "        self.X_train,\n",
    "        self.y_train,\n",
    "        epochs=epochs,\n",
    "        validation_data=(self.X_val, self.y_val),\n",
    "        verbose=0\n",
    "        )\n",
    "\n",
    "    # Evaluate on validation data\n",
    "    loss = model.evaluate(self.X_val, self.y_val, verbose=0)\n",
    "\n",
    "    return loss\n",
    "\n",
    "  def optimize(self, X_train:np.array, y_train:np.array, X_val, y_val:np.array):\n",
    "    self.X_train = X_train\n",
    "    self.y_train = y_train\n",
    "    self.X_val = X_val\n",
    "    self.y_val = y_val\n",
    "\n",
    "    self.study = optuna.create_study(direction=\"minimize\")\n",
    "    self.study.optimize(self.objective, n_trials = self.n_trials)\n",
    "\n",
    "    print(\"Best hyperparameters:\", self.study.best_params)\n",
    "    return self.study"
   ]
  },
  {
   "cell_type": "code",
   "execution_count": 32,
   "metadata": {},
   "outputs": [],
   "source": [
    "n_steps = 1"
   ]
  },
  {
   "cell_type": "code",
   "execution_count": 33,
   "metadata": {},
   "outputs": [
    {
     "name": "stderr",
     "output_type": "stream",
     "text": [
      "[I 2025-04-03 19:49:11,011] A new study created in memory with name: no-name-5f687950-080e-4171-9fe9-557d30299ac8\n",
      "/Users/valeriagonzalez/Documents/aqi/env/lib/python3.9/site-packages/keras/src/layers/rnn/rnn.py:200: UserWarning: Do not pass an `input_shape`/`input_dim` argument to a layer. When using Sequential models, prefer using an `Input(shape)` object as the first layer in the model instead.\n",
      "  super().__init__(**kwargs)\n",
      "[I 2025-04-03 19:49:14,461] Trial 0 finished with value: 0.0044375634752213955 and parameters: {'neurons': 5, 'epochs': 100}. Best is trial 0 with value: 0.0044375634752213955.\n",
      "[I 2025-04-03 19:49:16,466] Trial 1 finished with value: 0.004448600113391876 and parameters: {'neurons': 50, 'epochs': 50}. Best is trial 0 with value: 0.0044375634752213955.\n",
      "[I 2025-04-03 19:49:18,500] Trial 2 finished with value: 0.005482207052409649 and parameters: {'neurons': 5, 'epochs': 50}. Best is trial 0 with value: 0.0044375634752213955.\n",
      "[I 2025-04-03 19:49:22,292] Trial 3 finished with value: 0.004536195192486048 and parameters: {'neurons': 5, 'epochs': 100}. Best is trial 0 with value: 0.0044375634752213955.\n",
      "[I 2025-04-03 19:49:24,381] Trial 4 finished with value: 0.004761840216815472 and parameters: {'neurons': 50, 'epochs': 50}. Best is trial 0 with value: 0.0044375634752213955.\n",
      "[I 2025-04-03 19:49:28,020] Trial 5 finished with value: 0.005239029880613089 and parameters: {'neurons': 50, 'epochs': 100}. Best is trial 0 with value: 0.0044375634752213955.\n",
      "[I 2025-04-03 19:49:31,525] Trial 6 finished with value: 0.004797103814780712 and parameters: {'neurons': 5, 'epochs': 100}. Best is trial 0 with value: 0.0044375634752213955.\n",
      "[I 2025-04-03 19:49:33,551] Trial 7 finished with value: 0.0054930695332586765 and parameters: {'neurons': 5, 'epochs': 50}. Best is trial 0 with value: 0.0044375634752213955.\n",
      "[I 2025-04-03 19:49:35,561] Trial 8 finished with value: 0.005547247361391783 and parameters: {'neurons': 50, 'epochs': 50}. Best is trial 0 with value: 0.0044375634752213955.\n",
      "[I 2025-04-03 19:49:39,104] Trial 9 finished with value: 0.004485673271119595 and parameters: {'neurons': 50, 'epochs': 100}. Best is trial 0 with value: 0.0044375634752213955.\n",
      "[I 2025-04-03 19:49:43,047] Trial 10 finished with value: 0.004551193676888943 and parameters: {'neurons': 5, 'epochs': 100}. Best is trial 0 with value: 0.0044375634752213955.\n",
      "[I 2025-04-03 19:49:45,135] Trial 11 finished with value: 0.004608307499438524 and parameters: {'neurons': 50, 'epochs': 50}. Best is trial 0 with value: 0.0044375634752213955.\n",
      "[I 2025-04-03 19:49:47,119] Trial 12 finished with value: 0.004497119691222906 and parameters: {'neurons': 5, 'epochs': 50}. Best is trial 0 with value: 0.0044375634752213955.\n",
      "[I 2025-04-03 19:49:50,871] Trial 13 finished with value: 0.004432501271367073 and parameters: {'neurons': 50, 'epochs': 100}. Best is trial 13 with value: 0.004432501271367073.\n",
      "[I 2025-04-03 19:49:54,439] Trial 14 finished with value: 0.007419409696012735 and parameters: {'neurons': 5, 'epochs': 100}. Best is trial 13 with value: 0.004432501271367073.\n",
      "[I 2025-04-03 19:49:58,587] Trial 15 finished with value: 0.0048510609194636345 and parameters: {'neurons': 50, 'epochs': 100}. Best is trial 13 with value: 0.004432501271367073.\n",
      "[I 2025-04-03 19:50:02,232] Trial 16 finished with value: 0.0045714727602899075 and parameters: {'neurons': 50, 'epochs': 100}. Best is trial 13 with value: 0.004432501271367073.\n",
      "[I 2025-04-03 19:50:06,144] Trial 17 finished with value: 0.004945914726704359 and parameters: {'neurons': 5, 'epochs': 100}. Best is trial 13 with value: 0.004432501271367073.\n",
      "[I 2025-04-03 19:50:09,820] Trial 18 finished with value: 0.00460304319858551 and parameters: {'neurons': 50, 'epochs': 100}. Best is trial 13 with value: 0.004432501271367073.\n",
      "[I 2025-04-03 19:50:13,437] Trial 19 finished with value: 0.004728840198367834 and parameters: {'neurons': 5, 'epochs': 100}. Best is trial 13 with value: 0.004432501271367073.\n",
      "[I 2025-04-03 19:50:17,027] Trial 20 finished with value: 0.004447268322110176 and parameters: {'neurons': 5, 'epochs': 100}. Best is trial 13 with value: 0.004432501271367073.\n",
      "[I 2025-04-03 19:50:20,676] Trial 21 finished with value: 0.0054939258843660355 and parameters: {'neurons': 5, 'epochs': 100}. Best is trial 13 with value: 0.004432501271367073.\n",
      "[I 2025-04-03 19:50:24,256] Trial 22 finished with value: 0.007386759389191866 and parameters: {'neurons': 5, 'epochs': 100}. Best is trial 13 with value: 0.004432501271367073.\n",
      "[I 2025-04-03 19:50:27,859] Trial 23 finished with value: 0.005054904147982597 and parameters: {'neurons': 5, 'epochs': 100}. Best is trial 13 with value: 0.004432501271367073.\n",
      "[I 2025-04-03 19:50:31,405] Trial 24 finished with value: 0.004623625427484512 and parameters: {'neurons': 5, 'epochs': 100}. Best is trial 13 with value: 0.004432501271367073.\n",
      "[I 2025-04-03 19:50:34,985] Trial 25 finished with value: 0.004686076659709215 and parameters: {'neurons': 5, 'epochs': 100}. Best is trial 13 with value: 0.004432501271367073.\n",
      "[I 2025-04-03 19:50:39,083] Trial 26 finished with value: 0.004570767283439636 and parameters: {'neurons': 50, 'epochs': 100}. Best is trial 13 with value: 0.004432501271367073.\n",
      "[I 2025-04-03 19:50:42,694] Trial 27 finished with value: 0.00477635907009244 and parameters: {'neurons': 5, 'epochs': 100}. Best is trial 13 with value: 0.004432501271367073.\n",
      "[I 2025-04-03 19:50:46,414] Trial 28 finished with value: 0.004469649866223335 and parameters: {'neurons': 50, 'epochs': 100}. Best is trial 13 with value: 0.004432501271367073.\n",
      "[I 2025-04-03 19:50:50,129] Trial 29 finished with value: 0.004468253813683987 and parameters: {'neurons': 50, 'epochs': 100}. Best is trial 13 with value: 0.004432501271367073.\n",
      "[I 2025-04-03 19:50:53,745] Trial 30 finished with value: 0.004776469431817532 and parameters: {'neurons': 5, 'epochs': 100}. Best is trial 13 with value: 0.004432501271367073.\n",
      "[I 2025-04-03 19:50:55,818] Trial 31 finished with value: 0.005342870019376278 and parameters: {'neurons': 50, 'epochs': 50}. Best is trial 13 with value: 0.004432501271367073.\n"
     ]
    },
    {
     "name": "stdout",
     "output_type": "stream",
     "text": [
      "Best hyperparameters: {'neurons': 50, 'epochs': 100}\n"
     ]
    }
   ],
   "source": [
    "mlp_optimizer = MLPOptimizer(n_steps, 32)\n",
    "study = mlp_optimizer.optimize(train_X, train_y, val_X, val_y)"
   ]
  },
  {
   "cell_type": "markdown",
   "metadata": {},
   "source": [
    "The first layer in the network must define the number of inputs to expect. Input must be three-dimensional, comprised of samples, timesteps, and features."
   ]
  },
  {
   "cell_type": "code",
   "execution_count": 53,
   "metadata": {},
   "outputs": [
    {
     "name": "stderr",
     "output_type": "stream",
     "text": [
      "/Users/valeriagonzalez/Documents/aqi/env/lib/python3.9/site-packages/keras/src/layers/rnn/rnn.py:200: UserWarning: Do not pass an `input_shape`/`input_dim` argument to a layer. When using Sequential models, prefer using an `Input(shape)` object as the first layer in the model instead.\n",
      "  super().__init__(**kwargs)\n"
     ]
    },
    {
     "data": {
      "image/png": "[encoded data removed]",
      "text/plain": [
       "<Figure size 640x480 with 1 Axes>"
      ]
     },
     "metadata": {},
     "output_type": "display_data"
    }
   ],
   "source": [
    "# design network\n",
    "model = Sequential()\n",
    "model.add(LSTM(50, \n",
    "               input_shape=(train_X.shape[1], train_X.shape[2]),\n",
    "               activation=\"relu\"))\n",
    "model.add(Dense(1))\n",
    "model.compile(loss='mae', optimizer=Adam(0.001))\n",
    "# fit network\n",
    "history = model.fit(\n",
    "    train_X, \n",
    "    train_y, \n",
    "    epochs=100, \n",
    "    batch_size=72, \n",
    "    validation_data=(val_X, val_y),\n",
    "    verbose=0, \n",
    "    shuffle=False\n",
    "    )\n",
    "# plot history\n",
    "plt.plot(history.history['loss'], label='train')\n",
    "plt.plot(history.history['val_loss'], label='test')\n",
    "plt.legend()\n",
    "plt.show()"
   ]
  },
  {
   "cell_type": "code",
   "execution_count": 57,
   "metadata": {},
   "outputs": [
    {
     "name": "stdout",
     "output_type": "stream",
     "text": [
      "\u001b[1m12/12\u001b[0m \u001b[32m━━━━━━━━━━━━━━━━━━━━\u001b[0m\u001b[37m\u001b[0m \u001b[1m0s\u001b[0m 4ms/step \n"
     ]
    }
   ],
   "source": [
    "# make a prediction\n",
    "yhat = model.predict(test_X)\n"
   ]
  },
  {
   "cell_type": "code",
   "execution_count": null,
   "metadata": {},
   "outputs": [
    {
     "name": "stdout",
     "output_type": "stream",
     "text": [
      "Test RMSE: 12.003\n"
     ]
    }
   ],
   "source": [
    "# invert scaling for forecast\n",
    "test_X = test_X.reshape((test_X.shape[0], test_X.shape[2]))\n",
    "inv_yhat = np.concatenate((yhat, test_X[:, 1:]), axis=1)\n",
    "inv_yhat = data_scaler.inverse_transform(inv_yhat)\n",
    "inv_yhat = inv_yhat[:,0]"
   ]
  },
  {
   "cell_type": "code",
   "execution_count": null,
   "metadata": {},
   "outputs": [],
   "source": [
    "# invert scaling for actual\n",
    "test_y = test_y.reshape((len(test_y), 1))\n",
    "inv_y = np.concatenate((test_y, test_X[:, 1:]), axis=1)\n",
    "inv_y = data_scaler.inverse_transform(inv_y)\n",
    "inv_y = inv_y[:,0]"
   ]
  },
  {
   "cell_type": "code",
   "execution_count": null,
   "metadata": {},
   "outputs": [],
   "source": [
    "# calculate RMSE\n",
    "rmse = sqrt(mean_squared_error(inv_y, inv_yhat))\n",
    "print('Test RMSE: %.3f' % rmse)"
   ]
  },
  {
   "cell_type": "code",
   "execution_count": null,
   "metadata": {},
   "outputs": [
    {
     "name": "stdout",
     "output_type": "stream",
     "text": [
      "Actual: 33.54545454545455  Predict: 28.42788571678102\n",
      "Actual: 33.54545454545455  Predict: 28.876362567022444\n",
      "Actual: 33.54545454545455  Predict: 30.476809175685048\n",
      "Actual: 33.54545454545455  Predict: 28.384192102029917\n",
      "Actual: 33.54545454545455  Predict: 29.33955514729023\n",
      "Actual: 33.54545454545455  Predict: 29.931567971780897\n",
      "Actual: 33.54545454545455  Predict: 28.828732306510208\n",
      "Actual: 33.54545454545455  Predict: 28.422316684946416\n",
      "Actual: 18.194166666666668  Predict: 28.018678302690386\n",
      "Actual: 18.194166666666668  Predict: 18.84549689050764\n",
      "Actual: 24.24833333333333  Predict: 18.403485307842494\n",
      "Actual: 42.72625  Predict: 22.395782578736544\n",
      "Actual: 66.06416666666667  Predict: 34.81573986969888\n",
      "Actual: 53.97125  Predict: 52.01404290050267\n",
      "Actual: 55.071250000000006  Predict: 43.61932651735842\n",
      "Actual: 47.17625  Predict: 43.21614413596689\n",
      "Actual: 50.98  Predict: 37.38232860788703\n",
      "Actual: 60.373333333333335  Predict: 40.62854054942727\n",
      "Actual: 62.60583333333333  Predict: 47.54869324341416\n",
      "Actual: 50.78958333333333  Predict: 48.02973534688353\n",
      "Actual: 72.98333333333333  Predict: 40.81007497869432\n",
      "Actual: 61.88916666666666  Predict: 59.390356544405215\n",
      "Actual: 40.315  Predict: 49.96141322180628\n",
      "Actual: 46.190000000000005  Predict: 32.35987444780767\n",
      "Actual: 66.49458333333334  Predict: 36.649996070563795\n",
      "Actual: 58.45625  Predict: 50.97390977963805\n",
      "Actual: 72.15791666666667  Predict: 45.077874388918275\n",
      "Actual: 65.83291666666666  Predict: 55.15175089165568\n",
      "Actual: 43.470416666666665  Predict: 50.10493706837296\n",
      "Actual: 41.925  Predict: 34.3228659991175\n",
      "Actual: 66.53458333333333  Predict: 34.10188264399767\n",
      "Actual: 33.2025  Predict: 52.42583593651652\n",
      "Actual: 47.37166666666667  Predict: 27.82141184359789\n",
      "Actual: 60.22541666666667  Predict: 37.74565942436457\n",
      "Actual: 45.920416666666654  Predict: 47.61503651812672\n",
      "Actual: 34.87708333333333  Predict: 36.94375764876604\n",
      "Actual: 22.161739130434785  Predict: 28.700930787622926\n",
      "Actual: 31.56136363636364  Predict: 21.2541383292526\n",
      "Actual: 44.88291666666667  Predict: 27.06515623964369\n",
      "Actual: 45.374583333333334  Predict: 35.76729967370629\n",
      "Actual: 34.55125  Predict: 36.64323367476463\n",
      "Actual: 63.89791666666667  Predict: 28.661118031293153\n",
      "Actual: 54.08083333333333  Predict: 53.293591028451914\n",
      "Actual: 68.27333333333333  Predict: 45.14646613597869\n",
      "Actual: 50.18625  Predict: 53.04433804526924\n",
      "Actual: 49.1325  Predict: 40.07486575506628\n",
      "Actual: 44.48083333333333  Predict: 38.44679228551686\n",
      "Actual: 43.82333333333333  Predict: 35.32986144013703\n",
      "Actual: 57.63583333333333  Predict: 34.80194826908409\n",
      "Actual: 63.15708333333333  Predict: 44.449075877666466\n",
      "Actual: 45.91333333333334  Predict: 52.52803834304213\n",
      "Actual: 41.74619047619048  Predict: 37.06102748811245\n",
      "Actual: 44.024166666666666  Predict: 33.09894512556493\n",
      "Actual: 43.04791666666668  Predict: 35.33647102713585\n",
      "Actual: 36.94875  Predict: 34.171252988278866\n",
      "Actual: 57.61708333333333  Predict: 30.171383192390202\n",
      "Actual: 66.44375000000001  Predict: 45.71628772690892\n",
      "Actual: 39.865833333333335  Predict: 52.5810072094202\n",
      "Actual: 46.794545454545464  Predict: 32.14300480261445\n",
      "Actual: 38.2825  Predict: 36.87902978137136\n",
      "Actual: 34.415  Predict: 30.75796766616404\n",
      "Actual: 60.52666666666667  Predict: 28.35616745315492\n",
      "Actual: 60.52666666666667  Predict: 45.771871321648355\n",
      "Actual: 37.08708333333333  Predict: 47.566918724775306\n",
      "Actual: 38.9625  Predict: 30.111659206822512\n",
      "Actual: 41.06375  Predict: 32.022203382104635\n",
      "Actual: 51.739583333333336  Predict: 33.158196131512526\n",
      "Actual: 43.79833333333333  Predict: 40.935953047126524\n",
      "Actual: 38.90958333333334  Predict: 34.55199430584908\n",
      "Actual: 42.550000000000004  Predict: 30.69821457415819\n",
      "Actual: 44.17166666666665  Predict: 33.86908935159445\n",
      "Actual: 45.03916666666667  Predict: 34.98429040201008\n",
      "Actual: 55.53958333333333  Predict: 35.90241661071777\n",
      "Actual: 56.69625  Predict: 42.601784843578926\n",
      "Actual: 59.76458333333333  Predict: 43.259425409510726\n",
      "Actual: 55.304782608695646  Predict: 45.64740976653992\n",
      "Actual: 68.100625  Predict: 42.894316674768916\n",
      "Actual: 55.07  Predict: 52.3117484010756\n",
      "Actual: 37.61666666666667  Predict: 42.22000054530799\n",
      "Actual: 47.068260869565215  Predict: 30.5390193361789\n",
      "Actual: 30.57625  Predict: 36.689816103503105\n",
      "Actual: 60.69391304347826  Predict: 25.84398835003376\n",
      "Actual: 53.39136363636363  Predict: 47.96701097264885\n",
      "Actual: 45.25333333333333  Predict: 41.443324349448076\n",
      "Actual: 41.18125  Predict: 35.1150098413229\n",
      "Actual: 25.082083333333333  Predict: 32.194190899655226\n",
      "Actual: 28.080416666666665  Predict: 23.2048506019637\n",
      "Actual: 29.19125  Predict: 24.69527244884521\n",
      "Actual: 65.4305  Predict: 25.28009113203734\n",
      "Actual: 43.51791666666667  Predict: 50.81959229558706\n",
      "Actual: 49.64952380952381  Predict: 33.65569550022483\n",
      "Actual: 54.72272727272728  Predict: 38.03290601149202\n",
      "Actual: 46.92083333333333  Predict: 42.4951024711132\n",
      "Actual: 67.76125  Predict: 36.335205090790986\n",
      "Actual: 86.4604761904762  Predict: 50.811597727239125\n",
      "Actual: 75.45  Predict: 64.76810571849346\n",
      "Actual: 76.72  Predict: 57.84577004164457\n",
      "Actual: 57.04208333333334  Predict: 57.49989338591694\n",
      "Actual: 64.61090909090909  Predict: 43.25601025409996\n",
      "Actual: 49.51285714285714  Predict: 48.733189446479074\n",
      "Actual: 64.33869565217391  Predict: 38.13530003540218\n",
      "Actual: 50.47916666666667  Predict: 48.71040395647287\n",
      "Actual: 51.114999999999995  Predict: 38.60873323082924\n",
      "Actual: 50.1752380952381  Predict: 39.43370185866952\n",
      "Actual: 46.17416666666667  Predict: 38.7902337025851\n",
      "Actual: 37.4404347826087  Predict: 36.20245790295303\n",
      "Actual: 31.527619047619048  Predict: 30.108818903565407\n",
      "Actual: 51.43  Predict: 26.69376051425934\n",
      "Actual: 46.48739130434783  Predict: 39.2007994171232\n",
      "Actual: 47.80583333333333  Predict: 36.372080522403124\n",
      "Actual: 54.592499999999994  Predict: 37.0929014634341\n",
      "Actual: 53.06250000000001  Predict: 41.86377169974148\n",
      "Actual: 35.081250000000004  Predict: 40.892514113709325\n",
      "Actual: 36.593125  Predict: 28.313388265669346\n",
      "Actual: 52.373043478260875  Predict: 29.871062963455916\n",
      "Actual: 34.568333333333335  Predict: 40.54308404698968\n",
      "Actual: 37.662608695652175  Predict: 27.97615379653871\n",
      "Actual: 58.314499999999995  Predict: 29.99518736898899\n",
      "Actual: 52.2755  Predict: 43.73660605885088\n",
      "Actual: 53.4252380952381  Predict: 38.99359310939908\n",
      "Actual: 37.165238095238095  Predict: 40.760302969440815\n",
      "Actual: 44.17227272727273  Predict: 29.768292981386185\n",
      "Actual: 58.48090909090908  Predict: 33.866062282025815\n",
      "Actual: 42.95  Predict: 44.21802654601633\n",
      "Actual: 60.24095238095238  Predict: 33.31582204736769\n",
      "Actual: 53.19608695652174  Predict: 45.111737304180856\n",
      "Actual: 49.64368421052631  Predict: 40.22365301586687\n",
      "Actual: 67.5604347826087  Predict: 38.83494119159877\n",
      "Actual: 54.55782608695652  Predict: 51.87742698192596\n",
      "Actual: 62.51363636363636  Predict: 41.92355389818549\n",
      "Actual: 77.9825  Predict: 47.49334735125303\n",
      "Actual: 77.9825  Predict: 58.47841302827\n",
      "Actual: 74.02666666666667  Predict: 58.83587889745831\n",
      "Actual: 62.636818181818185  Predict: 55.22445392310619\n",
      "Actual: 44.14904761904762  Predict: 47.04825169891119\n",
      "Actual: 52.37125  Predict: 33.92113408856094\n",
      "Actual: 53.44294117647058  Predict: 39.58295482248068\n",
      "Actual: 55.650454545454544  Predict: 40.160264044627546\n",
      "Actual: 45.47533333333333  Predict: 41.719733639433976\n",
      "Actual: 55.11615384615384  Predict: 34.87207052968442\n",
      "Actual: 60.03578947368421  Predict: 41.951314163580534\n",
      "Actual: 58.64238095238095  Predict: 45.44615815095603\n",
      "Actual: 50.376086956521746  Predict: 44.73232760615646\n",
      "Actual: 56.36954545454545  Predict: 38.64311035983265\n",
      "Actual: 40.9  Predict: 43.441745712608096\n",
      "Actual: 43.083333333333336  Predict: 32.11106533780694\n",
      "Actual: 69.13416666666667  Predict: 33.45803367868066\n",
      "Actual: 32.67333333333333  Predict: 52.78679457828402\n",
      "Actual: 25.829565217391306  Predict: 29.53846126906574\n",
      "Actual: 47.25521739130435  Predict: 24.212969066388904\n",
      "Actual: 46.2205  Predict: 36.91919666603208\n",
      "Actual: 53.40842105263158  Predict: 35.7545437771827\n",
      "Actual: 46.23086956521739  Predict: 40.43286524228751\n",
      "Actual: 54.7321052631579  Predict: 35.9312101546675\n",
      "Actual: 45.875789473684215  Predict: 42.384000771120185\n",
      "Actual: 45.43166666666666  Predict: 36.05297936424613\n",
      "Actual: 39.90130434782609  Predict: 34.78010146170855\n",
      "Actual: 34.41888888888889  Predict: 31.029770862311125\n",
      "Actual: 52.3552380952381  Predict: 28.189079519361258\n",
      "Actual: 45.68809523809525  Predict: 40.26374470889568\n",
      "Actual: 47.812105263157896  Predict: 35.13084859475494\n",
      "Actual: 40.778823529411774  Predict: 36.975869326666\n",
      "Actual: 38.43714285714285  Predict: 31.910281850770115\n",
      "Actual: 31.443  Predict: 30.538643378019334\n",
      "Actual: 50.864285714285714  Predict: 26.53049522601068\n",
      "Actual: 43.17318181818182  Predict: 39.4982841938734\n",
      "Actual: 46.38652173913044  Predict: 33.41500708647072\n",
      "Actual: 42.34238095238096  Predict: 35.36272745989263\n",
      "Actual: 51.86  Predict: 33.82066594064236\n",
      "Actual: 37.912  Predict: 40.116696557775136\n",
      "Actual: 41.9975  Predict: 30.52665637657046\n",
      "Actual: 51.142222222222216  Predict: 32.75636962503195\n",
      "Actual: 55.121111111111105  Predict: 41.247685425356025\n",
      "Actual: 51.34736842105264  Predict: 42.87862345352768\n",
      "Actual: 51.61  Predict: 39.83864275403321\n",
      "Actual: 58.73449999999999  Predict: 39.63018972054124\n",
      "Actual: 58.13857142857143  Predict: 45.58812965415417\n",
      "Actual: 51.038947368421056  Predict: 45.39589375779032\n",
      "Actual: 58.98842105263159  Predict: 39.67301499322057\n",
      "Actual: 64.67190476190477  Predict: 46.065773580968376\n",
      "Actual: 64.67190476190477  Predict: 50.51861232072115\n",
      "Actual: 60.191999999999986  Predict: 49.97267741337418\n",
      "Actual: 60.48541666666667  Predict: 47.90206480696797\n",
      "Actual: 35.31227272727273  Predict: 48.11085499003529\n",
      "Actual: 37.36833333333333  Predict: 29.64332448914647\n",
      "Actual: 32.40347826086956  Predict: 32.10041723251343\n",
      "Actual: 28.005714285714287  Predict: 26.8066910687834\n",
      "Actual: 41.50565217391304  Predict: 24.029616697505116\n",
      "Actual: 21.024166666666662  Predict: 32.31663925945759\n",
      "Actual: 13.144210526315788  Predict: 19.941885479725897\n",
      "Actual: 13.555652173913042  Predict: 14.515894809924067\n",
      "Actual: 24.612608695652174  Predict: 15.36430139709264\n",
      "Actual: 26.84913043478261  Predict: 22.219477606192232\n",
      "Actual: 23.8275  Predict: 25.096982529573143\n",
      "Actual: 31.453043478260867  Predict: 23.089999022521077\n",
      "Actual: 29.355217391304347  Predict: 28.19847362227738\n",
      "Actual: 19.005789473684214  Predict: 26.778711292333902\n",
      "Actual: 14.912727272727272  Predict: 21.738793269358574\n",
      "Actual: 22.63904761904762  Predict: 18.966853758879004\n",
      "Actual: 19.7375  Predict: 24.226696390286087\n",
      "Actual: 16.440555555555555  Predict: 22.237040916085242\n",
      "Actual: 24.91130434782609  Predict: 20.002185530215502\n",
      "Actual: 34.054545454545455  Predict: 25.800342033244668\n",
      "Actual: 27.799  Predict: 32.270668065920475\n",
      "Actual: 29.916249999999998  Predict: 27.819908010959626\n",
      "Actual: 41.91652173913044  Predict: 29.314683695882557\n",
      "Actual: 27.94772727272727  Predict: 38.01203184425831\n",
      "Actual: 26.74681818181818  Predict: 27.92451897524297\n",
      "Actual: 36.0565  Predict: 27.081487376987933\n",
      "Actual: 28.758750000000003  Predict: 33.71700578667223\n",
      "Actual: 20.355454545454545  Predict: 27.06510166507214\n",
      "Actual: 19.163000000000004  Predict: 20.895077669806778\n",
      "Actual: 16.851363636363637  Predict: 21.06012694016099\n",
      "Actual: 19.635  Predict: 18.670316154137254\n",
      "Actual: 19.039444444444445  Predict: 18.85952619370073\n",
      "Actual: 22.777391304347827  Predict: 18.440851910598575\n",
      "Actual: 28.256190476190476  Predict: 20.789192086085677\n",
      "Actual: 24.873043478260872  Predict: 23.811297794245185\n",
      "Actual: 12.08  Predict: 21.891352239437403\n",
      "Actual: 14.462105263157891  Predict: 14.15456688022241\n",
      "Actual: 20.045882352941177  Predict: 14.75486776297912\n",
      "Actual: 23.752608695652167  Predict: 18.655817509628832\n",
      "Actual: 23.325333333333333  Predict: 20.955776721052825\n",
      "Actual: 18.912500000000005  Predict: 20.69844063743949\n",
      "Actual: 19.347368421052636  Predict: 18.951601985283197\n",
      "Actual: 17.9945  Predict: 19.291115245968104\n",
      "Actual: 16.4865  Predict: 18.7391674336046\n",
      "Actual: 19.142  Predict: 17.29649348575622\n",
      "Actual: 20.181428571428572  Predict: 22.837614671699704\n",
      "Actual: 21.92  Predict: 19.308814385905862\n",
      "Actual: 24.003636363636364  Predict: 20.654408660344778\n",
      "Actual: 24.537  Predict: 21.497086130268872\n",
      "Actual: 17.421428571428574  Predict: 21.574153914675115\n",
      "Actual: 23.385  Predict: 17.857100463472307\n",
      "Actual: 24.558695652173913  Predict: 20.702629538998007\n",
      "Actual: 23.10772727272727  Predict: 21.100241675786673\n",
      "Actual: 18.98952380952381  Predict: 20.104166000150144\n",
      "Actual: 17.29  Predict: 18.035448950529098\n",
      "Actual: 12.232173913043477  Predict: 17.704935643076897\n",
      "Actual: 14.687142857142856  Predict: 15.429579861275851\n",
      "Actual: 25.761666666666667  Predict: 16.361392766144128\n",
      "Actual: 30.648749999999996  Predict: 22.157305041514338\n",
      "Actual: 24.919583333333335  Predict: 25.274377780780195\n",
      "Actual: 17.006666666666664  Predict: 21.503211822733284\n",
      "Actual: 22.142727272727267  Predict: 17.840478261746465\n",
      "Actual: 16.42304347826087  Predict: 19.947990555129945\n",
      "Actual: 23.58458333333333  Predict: 17.036335290409625\n",
      "Actual: 18.496470588235297  Predict: 21.265256988629698\n",
      "Actual: 22.902916666666663  Predict: 18.39529912211001\n",
      "Actual: 27.406666666666666  Predict: 20.976766101270915\n",
      "Actual: 17.13375  Predict: 23.679289182275532\n",
      "Actual: 22.22347826086957  Predict: 17.77552118115127\n",
      "Actual: 23.37227272727273  Predict: 20.581717756576836\n",
      "Actual: 25.409999999999997  Predict: 21.223283079266547\n",
      "Actual: 23.069  Predict: 22.42918949313462\n",
      "Actual: 26.141739130434782  Predict: 21.005458985455334\n",
      "Actual: 21.992777777777782  Predict: 22.82784339785576\n",
      "Actual: 19.25714285714286  Predict: 20.520288618840276\n",
      "Actual: 22.126521739130432  Predict: 18.927606152556837\n",
      "Actual: 24.7585  Predict: 20.576253022812306\n",
      "Actual: 22.599444444444444  Predict: 22.09544537104666\n",
      "Actual: 26.10909090909091  Predict: 20.20552310720086\n",
      "Actual: 26.405833333333337  Predict: 22.80538171697408\n",
      "Actual: 22.35636363636364  Predict: 22.833559174649416\n",
      "Actual: 23.809411764705878  Predict: 20.946968385204674\n",
      "Actual: 34.25541666666667  Predict: 21.22926323954016\n",
      "Actual: 21.66904761904762  Predict: 27.45859524086118\n",
      "Actual: 13.125  Predict: 20.208759985677897\n",
      "Actual: 22.592916666666667  Predict: 15.767997992224991\n",
      "Actual: 26.147391304347824  Predict: 20.877303338237105\n",
      "Actual: 20.58315789473684  Predict: 22.89311094712466\n",
      "Actual: 25.022499999999997  Predict: 19.76765434090048\n",
      "Actual: 27.69625  Predict: 22.474394217133522\n",
      "Actual: 25.86521739130435  Predict: 23.7113111153245\n",
      "Actual: 20.472999999999995  Predict: 22.432899351231754\n",
      "Actual: 24.110416666666666  Predict: 20.08598902951926\n",
      "Actual: 26.95823529411765  Predict: 21.58504942469299\n",
      "Actual: 25.508333333333336  Predict: 23.239536986872555\n",
      "Actual: 25.917916666666667  Predict: 22.3072771769017\n",
      "Actual: 29.45  Predict: 22.63084253501147\n",
      "Actual: 27.371666666666663  Predict: 24.778753351792695\n",
      "Actual: 25.25260869565217  Predict: 23.459471297450364\n",
      "Actual: 25.032608695652176  Predict: 22.26391464788467\n",
      "Actual: 33.152499999999996  Predict: 22.334524441324174\n",
      "Actual: 23.82526315789474  Predict: 26.736464510113002\n",
      "Actual: 25.611666666666665  Predict: 21.633979772776364\n",
      "Actual: 23.425833333333333  Predict: 22.764231277257203\n",
      "Actual: 17.025454545454547  Predict: 21.20877594538033\n",
      "Actual: 9.60578947368421  Predict: 17.01851851195097\n",
      "Actual: 18.453333333333333  Predict: 12.729086954332889\n",
      "Actual: 10.493913043478258  Predict: 18.1899143923074\n",
      "Actual: 11.342631578947367  Predict: 13.291573722846806\n",
      "Actual: 13.606666666666667  Predict: 14.280534693505615\n",
      "Actual: 22.162500000000005  Predict: 15.93441526517272\n",
      "Actual: 25.425833333333337  Predict: 21.08213019464165\n",
      "Actual: 15.926666666666666  Predict: 22.690833329595627\n",
      "Actual: 13.733809523809525  Predict: 16.427723306789993\n",
      "Actual: 25.683333333333337  Predict: 14.92586869355291\n",
      "Actual: 39.76083333333333  Predict: 22.29611485786736\n",
      "Actual: 23.85818181818182  Predict: 30.66233846358955\n",
      "Actual: 21.564090909090908  Predict: 21.24886400010437\n",
      "Actual: 12.588636363636365  Predict: 19.866248761862515\n",
      "Actual: 16.0025  Predict: 14.830724598281085\n",
      "Actual: 28.229047619047616  Predict: 17.274349550157787\n",
      "Actual: 27.8625  Predict: 24.150490884110333\n",
      "Actual: 32.4775  Predict: 23.970394797995688\n",
      "Actual: 37.275416666666665  Predict: 26.612172742560507\n",
      "Actual: 19.855000000000004  Predict: 29.21471278294921\n",
      "Actual: 20.989166666666662  Predict: 19.244447923451663\n",
      "Actual: 23.06041666666667  Predict: 19.518721528537572\n",
      "Actual: 32.42318181818182  Predict: 21.445790884085\n",
      "Actual: 32.37590909090909  Predict: 26.568513085320593\n",
      "Actual: 25.614545454545453  Predict: 26.23752437271178\n",
      "Actual: 38.822916666666664  Predict: 21.689074621908368\n",
      "Actual: 39.04875  Predict: 29.9526240542531\n",
      "Actual: 40.623125  Predict: 30.192579955980182\n",
      "Actual: 37.01238095238095  Predict: 31.01440508849919\n",
      "Actual: 46.12649999999999  Predict: 28.889045697450637\n",
      "Actual: 55.85545454545454  Predict: 34.39705830998719\n",
      "Actual: 34.224347826086955  Predict: 49.15232700705528\n",
      "Actual: 25.689999999999998  Predict: 33.4242653593421\n",
      "Actual: 30.93428571428571  Predict: 27.01329463068396\n",
      "Actual: 20.225416666666664  Predict: 31.226200511306523\n",
      "Actual: 30.684736842105263  Predict: 23.63493460882455\n",
      "Actual: 21.493529411764705  Predict: 30.47640896216035\n",
      "Actual: 23.288749999999997  Predict: 24.50956003293395\n",
      "Actual: 26.141428571428573  Predict: 25.53542614802718\n",
      "Actual: 24.766363636363636  Predict: 27.81853273175657\n",
      "Actual: 36.806666666666665  Predict: 26.852071644179524\n",
      "Actual: 35.43590909090909  Predict: 35.31671503223479\n",
      "Actual: 30.49590909090909  Predict: 34.23949788361788\n",
      "Actual: 17.65791666666667  Predict: 30.74123146422207\n",
      "Actual: 25.328095238095237  Predict: 21.631332299672067\n",
      "Actual: 23.90666666666666  Predict: 27.18657495919615\n",
      "Actual: 30.730416666666667  Predict: 25.786102921143176\n",
      "Actual: 36.89  Predict: 30.717936611548065\n",
      "Actual: 53.89526315789474  Predict: 30.70664573907852\n",
      "Actual: 35.207368421052635  Predict: 42.70964117571711\n",
      "Actual: 42.0275  Predict: 29.53177891597152\n",
      "Actual: 30.93875  Predict: 34.15314878374338\n",
      "Actual: 28.13875  Predict: 27.157018584012985\n",
      "Actual: 21.71125  Predict: 25.071382204443218\n",
      "Actual: 24.537647058823527  Predict: 20.760205711983144\n",
      "Actual: 32.45782608695652  Predict: 22.955134341306984\n",
      "Actual: 18.422000000000004  Predict: 27.74530578441918\n",
      "Actual: 9.710434782608695  Predict: 19.498383404873312\n",
      "Actual: 9.206  Predict: 14.70609143646434\n",
      "Actual: 12.18388888888889  Predict: 14.425111829303205\n",
      "Actual: 7.841818181818183  Predict: 16.051610519271343\n",
      "Actual: 23.13818181818182  Predict: 13.667807787191123\n",
      "Actual: 29.47666666666667  Predict: 22.157308679819106\n",
      "Actual: 29.221666666666668  Predict: 25.880949888192117\n",
      "Actual: 14.458333333333334  Predict: 25.72241803444922\n",
      "Actual: 12.356315789473683  Predict: 17.299086384288966\n",
      "Actual: 27.03833333333333  Predict: 16.14581229360774\n",
      "Actual: 27.242499999999996  Predict: 24.390843361057343\n",
      "Actual: 22.93285714285714  Predict: 24.508631052449346\n",
      "Actual: 17.70111111111111  Predict: 22.040591862797736\n",
      "Actual: 22.795833333333334  Predict: 19.095989322848617\n",
      "Actual: 34.444583333333334  Predict: 21.962751545011997\n",
      "Actual: 35.106521739130436  Predict: 29.03864308744669\n",
      "Actual: 37.90083333333333  Predict: 29.47606434226036\n",
      "Actual: 41.520833333333336  Predict: 31.334682631865142\n",
      "Actual: 42.67166666666666  Predict: 33.79681806564331\n",
      "Actual: 37.449090909090906  Predict: 34.6095231808722\n",
      "Actual: 10.080416666666666  Predict: 31.032885251194237\n",
      "Actual: 43.784  Predict: 14.907312126457692\n",
      "Actual: 13.692727272727272  Predict: 35.398392548784614\n",
      "Actual: 15.952000000000002  Predict: 16.877990202978253\n",
      "Actual: 22.023750000000003  Predict: 18.124084118567406\n",
      "Actual: 27.874166666666667  Predict: 21.524869438260794\n",
      "Actual: 23.888571428571428  Predict: 24.887127535976468\n",
      "Actual: 35.3195  Predict: 22.58459604308009\n"
     ]
    }
   ],
   "source": [
    "for i in range(0, len(inv_y)):\n",
    "    print(f\"Actual: {inv_y[i]}  Predict: {inv_yhat[i]}\")"
   ]
  }
 ],
 "metadata": {
  "kernelspec": {
   "display_name": "env",
   "language": "python",
   "name": "python3"
  },
  "language_info": {
   "codemirror_mode": {
    "name": "ipython",
    "version": 3
   },
   "file_extension": ".py",
   "mimetype": "text/x-python",
   "name": "python",
   "nbconvert_exporter": "python",
   "pygments_lexer": "ipython3",
   "version": "3.9.6"
  }
 },
 "nbformat": 4,
 "nbformat_minor": 2
}
