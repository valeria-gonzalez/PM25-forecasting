{
 "cells": [
  {
   "cell_type": "markdown",
   "metadata": {},
   "source": [
    "# Reframe dataset"
   ]
  },
  {
   "cell_type": "markdown",
   "metadata": {},
   "source": [
    "During this process I will select a specific pollutant to forecast along with exegenous variables that can influence its values, and reframe the current information as a supervised learning dataset. This step is necessary so that the LTSM can be correctly trained with the data it's given."
   ]
  },
  {
   "cell_type": "code",
   "execution_count": 20,
   "metadata": {},
   "outputs": [],
   "source": [
    "import numpy as np\n",
    "import pandas as pd\n",
    "import seaborn as sns\n",
    "import matplotlib.pyplot as plt\n",
    "\n",
    "from sklearn.preprocessing import MinMaxScaler"
   ]
  },
  {
   "cell_type": "code",
   "execution_count": 21,
   "metadata": {},
   "outputs": [],
   "source": [
    "filename = \"semadet-aire-2023\"\n",
    "filepath = f\"datasets/feature_eng/{filename}-interpolated.csv\"\n",
    "df = pd.read_csv(filepath, parse_dates=[0], index_col=0)"
   ]
  },
  {
   "cell_type": "markdown",
   "metadata": {},
   "source": [
    "## Select pollutant to predict and exegenous variables"
   ]
  },
  {
   "cell_type": "markdown",
   "metadata": {},
   "source": [
    "The first dataset to reframe will contain PM2.5 as the independent variable and temperature, relative humidity, wind speed and wind direction as the dependent variables."
   ]
  },
  {
   "cell_type": "code",
   "execution_count": 22,
   "metadata": {},
   "outputs": [],
   "source": [
    "features = [\"pm25\", \"tmp\", \"rh\", \"ws\", \"wd\"]\n",
    "pollutant = \"pm25\""
   ]
  },
  {
   "cell_type": "code",
   "execution_count": 23,
   "metadata": {},
   "outputs": [],
   "source": [
    "def select_df_features(df:pd.DataFrame, features:list):\n",
    "    df_select = pd.DataFrame()\n",
    "    for feature in features:\n",
    "        df_select[feature] = df[feature]\n",
    "    return df_select"
   ]
  },
  {
   "cell_type": "code",
   "execution_count": 24,
   "metadata": {},
   "outputs": [],
   "source": [
    "df_select = select_df_features(df, features)"
   ]
  },
  {
   "cell_type": "code",
   "execution_count": 25,
   "metadata": {},
   "outputs": [
    {
     "data": {
      "text/html": [
       "<div>\n",
       "<style scoped>\n",
       "    .dataframe tbody tr th:only-of-type {\n",
       "        vertical-align: middle;\n",
       "    }\n",
       "\n",
       "    .dataframe tbody tr th {\n",
       "        vertical-align: top;\n",
       "    }\n",
       "\n",
       "    .dataframe thead th {\n",
       "        text-align: right;\n",
       "    }\n",
       "</style>\n",
       "<table border=\"1\" class=\"dataframe\">\n",
       "  <thead>\n",
       "    <tr style=\"text-align: right;\">\n",
       "      <th></th>\n",
       "      <th>pm25</th>\n",
       "      <th>tmp</th>\n",
       "      <th>rh</th>\n",
       "      <th>ws</th>\n",
       "      <th>wd</th>\n",
       "    </tr>\n",
       "    <tr>\n",
       "      <th>date</th>\n",
       "      <th></th>\n",
       "      <th></th>\n",
       "      <th></th>\n",
       "      <th></th>\n",
       "      <th></th>\n",
       "    </tr>\n",
       "  </thead>\n",
       "  <tbody>\n",
       "    <tr>\n",
       "      <th>2023-01-01</th>\n",
       "      <td>18.194167</td>\n",
       "      <td>17.595652</td>\n",
       "      <td>56.725000</td>\n",
       "      <td>1.988750</td>\n",
       "      <td>198.013158</td>\n",
       "    </tr>\n",
       "    <tr>\n",
       "      <th>2023-01-02</th>\n",
       "      <td>18.194167</td>\n",
       "      <td>16.381250</td>\n",
       "      <td>56.725000</td>\n",
       "      <td>2.904583</td>\n",
       "      <td>235.478057</td>\n",
       "    </tr>\n",
       "    <tr>\n",
       "      <th>2023-01-03</th>\n",
       "      <td>24.248333</td>\n",
       "      <td>16.889474</td>\n",
       "      <td>52.979167</td>\n",
       "      <td>2.114167</td>\n",
       "      <td>225.967935</td>\n",
       "    </tr>\n",
       "  </tbody>\n",
       "</table>\n",
       "</div>"
      ],
      "text/plain": [
       "                 pm25        tmp         rh        ws          wd\n",
       "date                                                             \n",
       "2023-01-01  18.194167  17.595652  56.725000  1.988750  198.013158\n",
       "2023-01-02  18.194167  16.381250  56.725000  2.904583  235.478057\n",
       "2023-01-03  24.248333  16.889474  52.979167  2.114167  225.967935"
      ]
     },
     "execution_count": 25,
     "metadata": {},
     "output_type": "execute_result"
    }
   ],
   "source": [
    "df_select.head(3)"
   ]
  },
  {
   "cell_type": "markdown",
   "metadata": {},
   "source": [
    "## Normalize data"
   ]
  },
  {
   "cell_type": "markdown",
   "metadata": {},
   "source": [
    "Once the data is separated, it's important to normalize all the values. The data will be transformed to a common scale to improve the model's performance. In this case, the data held for each feature will be scaled to have values between 0 and 1."
   ]
  },
  {
   "cell_type": "code",
   "execution_count": 26,
   "metadata": {},
   "outputs": [],
   "source": [
    "data_scaler = MinMaxScaler(feature_range=(0,1))\n",
    "data_norm = data_scaler.fit_transform(df_select.values)"
   ]
  },
  {
   "cell_type": "code",
   "execution_count": 27,
   "metadata": {},
   "outputs": [
    {
     "data": {
      "text/plain": [
       "array([[0.13167801, 0.27024266, 0.98321007, 0.25369939, 0.56250986],\n",
       "       [0.13167801, 0.16490893, 0.98321007, 0.43416258, 0.66898425],\n",
       "       [0.20868475, 0.20899078, 0.89336398, 0.2784125 , 0.6419567 ],\n",
       "       [0.44371696, 0.3435578 , 0.8205077 , 0.04655261, 0.48990875],\n",
       "       [0.74056655, 0.4209641 , 0.56386168, 0.11338474, 0.41487319]])"
      ]
     },
     "execution_count": 27,
     "metadata": {},
     "output_type": "execute_result"
    }
   ],
   "source": [
    "data_norm[:5]"
   ]
  },
  {
   "cell_type": "markdown",
   "metadata": {},
   "source": [
    "## Timeseries to supervised learning"
   ]
  },
  {
   "cell_type": "code",
   "execution_count": 28,
   "metadata": {},
   "outputs": [],
   "source": [
    "def series_to_supervised(data, column_names, n_in=1, n_out=1, dropnan=True):\n",
    "    n_vars = 1 if type(data) is list else data.shape[1]\n",
    "    df = pd.DataFrame(data)\n",
    "    cols, names = list(), list()\n",
    "    \n",
    "    # Input sequence (t-n, ... t-1)\n",
    "    for i in range(n_in, 0, -1):\n",
    "        cols.append(df.shift(i))\n",
    "        names += [(f\"{column_names[j]}(t-{i})\") for j in range(n_vars)]\n",
    "    \n",
    "    # Forecast sequence (t, t+1, ... t+n)\n",
    "    for i in range(0, n_out):\n",
    "        cols.append(df.shift(-i))\n",
    "        if i == 0:\n",
    "            names += [(f\"{column_names[j]}(t)\") for j in range(n_vars)]\n",
    "        else:\n",
    "            names += [(f\"{column_names[j]}(t+{i})\") for j in range(n_vars)]\n",
    "    \n",
    "    # Put it all together\n",
    "    agg = pd.concat(cols, axis=1)\n",
    "    agg.columns = names\n",
    "    \n",
    "    # Drop rows with NaN values\n",
    "    if dropnan:\n",
    "        agg.dropna(inplace=True)\n",
    "    \n",
    "    return agg"
   ]
  },
  {
   "cell_type": "code",
   "execution_count": 29,
   "metadata": {},
   "outputs": [],
   "source": [
    "data_reframed = series_to_supervised(data_norm, features, 1, 1)"
   ]
  },
  {
   "cell_type": "code",
   "execution_count": 30,
   "metadata": {},
   "outputs": [],
   "source": [
    "# drop columns we don't want to predict (i.e, drop all features that aren't pm25 for time t)\n",
    "data_reframed.drop(data_reframed.columns[[6,7,8,9]], axis=1, inplace=True)"
   ]
  },
  {
   "cell_type": "code",
   "execution_count": 31,
   "metadata": {},
   "outputs": [
    {
     "data": {
      "text/html": [
       "<div>\n",
       "<style scoped>\n",
       "    .dataframe tbody tr th:only-of-type {\n",
       "        vertical-align: middle;\n",
       "    }\n",
       "\n",
       "    .dataframe tbody tr th {\n",
       "        vertical-align: top;\n",
       "    }\n",
       "\n",
       "    .dataframe thead th {\n",
       "        text-align: right;\n",
       "    }\n",
       "</style>\n",
       "<table border=\"1\" class=\"dataframe\">\n",
       "  <thead>\n",
       "    <tr style=\"text-align: right;\">\n",
       "      <th></th>\n",
       "      <th>pm25(t-1)</th>\n",
       "      <th>tmp(t-1)</th>\n",
       "      <th>rh(t-1)</th>\n",
       "      <th>ws(t-1)</th>\n",
       "      <th>wd(t-1)</th>\n",
       "      <th>pm25(t)</th>\n",
       "    </tr>\n",
       "  </thead>\n",
       "  <tbody>\n",
       "    <tr>\n",
       "      <th>1</th>\n",
       "      <td>0.131678</td>\n",
       "      <td>0.270243</td>\n",
       "      <td>0.983210</td>\n",
       "      <td>0.253699</td>\n",
       "      <td>0.562510</td>\n",
       "      <td>0.131678</td>\n",
       "    </tr>\n",
       "    <tr>\n",
       "      <th>2</th>\n",
       "      <td>0.131678</td>\n",
       "      <td>0.164909</td>\n",
       "      <td>0.983210</td>\n",
       "      <td>0.434163</td>\n",
       "      <td>0.668984</td>\n",
       "      <td>0.208685</td>\n",
       "    </tr>\n",
       "    <tr>\n",
       "      <th>3</th>\n",
       "      <td>0.208685</td>\n",
       "      <td>0.208991</td>\n",
       "      <td>0.893364</td>\n",
       "      <td>0.278412</td>\n",
       "      <td>0.641957</td>\n",
       "      <td>0.443717</td>\n",
       "    </tr>\n",
       "  </tbody>\n",
       "</table>\n",
       "</div>"
      ],
      "text/plain": [
       "   pm25(t-1)  tmp(t-1)   rh(t-1)   ws(t-1)   wd(t-1)   pm25(t)\n",
       "1   0.131678  0.270243  0.983210  0.253699  0.562510  0.131678\n",
       "2   0.131678  0.164909  0.983210  0.434163  0.668984  0.208685\n",
       "3   0.208685  0.208991  0.893364  0.278412  0.641957  0.443717"
      ]
     },
     "execution_count": 31,
     "metadata": {},
     "output_type": "execute_result"
    }
   ],
   "source": [
    "data_reframed.head(3)"
   ]
  },
  {
   "cell_type": "markdown",
   "metadata": {},
   "source": [
    "## Divide dataset"
   ]
  },
  {
   "cell_type": "code",
   "execution_count": 32,
   "metadata": {},
   "outputs": [],
   "source": [
    "def divide_series(df: pd.DataFrame, train=0.65, val:float=0.15):\n",
    "    data_len = len(df)\n",
    "    train_size = int(data_len * train)\n",
    "    val_size = int(data_len * val)\n",
    "    \n",
    "    train_df = pd.DataFrame()\n",
    "    val_df = pd.DataFrame()\n",
    "    test_df = pd.DataFrame()\n",
    "    \n",
    "    for feature in df.columns:\n",
    "        train_df[feature] = df[feature][:train_size]\n",
    "        val_df[feature] = df[feature][train_size:train_size + val_size]\n",
    "        test_df[feature] = df[feature][train_size + val_size:]\n",
    "    \n",
    "\n",
    "    return train_df, val_df, test_df"
   ]
  },
  {
   "cell_type": "code",
   "execution_count": 33,
   "metadata": {},
   "outputs": [],
   "source": [
    "train_df, val_df, test_df = divide_series(data_reframed)"
   ]
  },
  {
   "cell_type": "code",
   "execution_count": 34,
   "metadata": {},
   "outputs": [
    {
     "name": "stdout",
     "output_type": "stream",
     "text": [
      "Train set len: 236\n",
      "Validation set len: 54\n",
      "Test set len: 74\n"
     ]
    }
   ],
   "source": [
    "print(f\"Train set len: {len(train_df)}\")\n",
    "print(f\"Validation set len: {len(val_df)}\")\n",
    "print(f\"Test set len: {len(test_df)}\")"
   ]
  },
  {
   "cell_type": "code",
   "execution_count": 35,
   "metadata": {},
   "outputs": [
    {
     "data": {
      "text/html": [
       "<div>\n",
       "<style scoped>\n",
       "    .dataframe tbody tr th:only-of-type {\n",
       "        vertical-align: middle;\n",
       "    }\n",
       "\n",
       "    .dataframe tbody tr th {\n",
       "        vertical-align: top;\n",
       "    }\n",
       "\n",
       "    .dataframe thead th {\n",
       "        text-align: right;\n",
       "    }\n",
       "</style>\n",
       "<table border=\"1\" class=\"dataframe\">\n",
       "  <thead>\n",
       "    <tr style=\"text-align: right;\">\n",
       "      <th></th>\n",
       "      <th>pm25(t-1)</th>\n",
       "      <th>tmp(t-1)</th>\n",
       "      <th>rh(t-1)</th>\n",
       "      <th>ws(t-1)</th>\n",
       "      <th>wd(t-1)</th>\n",
       "      <th>pm25(t)</th>\n",
       "    </tr>\n",
       "  </thead>\n",
       "  <tbody>\n",
       "    <tr>\n",
       "      <th>1</th>\n",
       "      <td>0.131678</td>\n",
       "      <td>0.270243</td>\n",
       "      <td>0.983210</td>\n",
       "      <td>0.253699</td>\n",
       "      <td>0.562510</td>\n",
       "      <td>0.131678</td>\n",
       "    </tr>\n",
       "    <tr>\n",
       "      <th>2</th>\n",
       "      <td>0.131678</td>\n",
       "      <td>0.164909</td>\n",
       "      <td>0.983210</td>\n",
       "      <td>0.434163</td>\n",
       "      <td>0.668984</td>\n",
       "      <td>0.208685</td>\n",
       "    </tr>\n",
       "    <tr>\n",
       "      <th>3</th>\n",
       "      <td>0.208685</td>\n",
       "      <td>0.208991</td>\n",
       "      <td>0.893364</td>\n",
       "      <td>0.278412</td>\n",
       "      <td>0.641957</td>\n",
       "      <td>0.443717</td>\n",
       "    </tr>\n",
       "  </tbody>\n",
       "</table>\n",
       "</div>"
      ],
      "text/plain": [
       "   pm25(t-1)  tmp(t-1)   rh(t-1)   ws(t-1)   wd(t-1)   pm25(t)\n",
       "1   0.131678  0.270243  0.983210  0.253699  0.562510  0.131678\n",
       "2   0.131678  0.164909  0.983210  0.434163  0.668984  0.208685\n",
       "3   0.208685  0.208991  0.893364  0.278412  0.641957  0.443717"
      ]
     },
     "execution_count": 35,
     "metadata": {},
     "output_type": "execute_result"
    }
   ],
   "source": [
    "train_df.head(3)"
   ]
  },
  {
   "cell_type": "code",
   "execution_count": 36,
   "metadata": {},
   "outputs": [],
   "source": [
    "train_df.to_csv(f\"datasets/reframe/train_{pollutant}.csv\")\n",
    "val_df.to_csv(f\"datasets/reframe/val_{pollutant}.csv\")\n",
    "test_df.to_csv(f\"datasets/reframe/test_{pollutant}.csv\")"
   ]
  }
 ],
 "metadata": {
  "kernelspec": {
   "display_name": "env",
   "language": "python",
   "name": "python3"
  },
  "language_info": {
   "codemirror_mode": {
    "name": "ipython",
    "version": 3
   },
   "file_extension": ".py",
   "mimetype": "text/x-python",
   "name": "python",
   "nbconvert_exporter": "python",
   "pygments_lexer": "ipython3",
   "version": "3.9.6"
  }
 },
 "nbformat": 4,
 "nbformat_minor": 2
}
